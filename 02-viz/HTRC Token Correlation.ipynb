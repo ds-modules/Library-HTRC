{
 "cells": [
  {
   "cell_type": "markdown",
   "metadata": {},
   "source": [
    "# Analyzing topics, page counts, and word frequencies"
   ]
  },
  {
   "cell_type": "code",
   "execution_count": 3,
   "metadata": {
    "collapsed": true
   },
   "outputs": [],
   "source": [
    "from htrc_features import FeatureReader\n",
    "import os\n",
    "import numpy as np\n",
    "import pandas as pd\n",
    "\n",
    "get_ipython().magic('matplotlib inline')\n",
    "import matplotlib.pyplot as plt\n",
    "plt.style.use('fivethirtyeight')"
   ]
  },
  {
   "cell_type": "markdown",
   "metadata": {},
   "source": [
    "### First set of volumes — word frequency in novels\n",
    "The following cell loads a collection of nine novels from the 18th-20th centuries, chosen from an HTRC collection. These books will be used as a departure point for our text analysis. The procedure follows directly from the HTRC README file in the working directory."
   ]
  },
  {
   "cell_type": "code",
   "execution_count": 4,
   "metadata": {},
   "outputs": [
    {
     "name": "stdout",
     "output_type": "stream",
     "text": [
      "[sandbox] Welcome to the HathiTrust Research Center rsync server.\n",
      "\n",
      "receiving file list ... done\n",
      "\n",
      "sent 748 bytes  received 1,705 bytes  981.20 bytes/sec\n",
      "total size is 1,768,677  speedup is 721.03\n"
     ]
    }
   ],
   "source": [
    "%%bash\n",
    "htid2rsync --f novels-word-use.txt | rsync -azv --files-from=- data.sharc.hathitrust.org::features/ local-folder/"
   ]
  },
  {
   "cell_type": "code",
   "execution_count": 5,
   "metadata": {
    "collapsed": true
   },
   "outputs": [],
   "source": [
    "paths = [os.path.join('local-folder', 'hvd/pairtree_root/32/04/40/11/76/45/45/32044011764545/hvd.32044011764545.json.bz2'), \n",
    "         os.path.join('local-folder', 'mdp/pairtree_root/39/01/50/02/96/98/74/39015002969874/mdp.39015002969874.json.bz2'), \n",
    "         os.path.join('local-folder', 'mdp/pairtree_root/39/01/50/07/03/27/10/39015007032710/mdp.39015007032710.json.bz2'), \n",
    "         os.path.join('local-folder', 'mdp/pairtree_root/39/01/50/42/15/25/23/39015042152523/mdp.39015042152523.json.bz2'), \n",
    "         os.path.join('local-folder', 'mdp/pairtree_root/39/01/50/46/34/91/41/39015046349141/mdp.39015046349141.json.bz2'),\n",
    "         os.path.join('local-folder', 'mdp/pairtree_root/39/01/50/78/55/08/63/39015078550863/mdp.39015078550863.json.bz2'),\n",
    "         os.path.join('local-folder', 'mdp/pairtree_root/39/01/50/78/56/59/11/39015078565911/mdp.39015078565911.json.bz2'),\n",
    "         os.path.join('local-folder', 'pst/pairtree_root/00/00/67/11/28/69/000067112869/pst.000067112869.json.bz2'), \n",
    "         os.path.join('local-folder', 'wu/pairtree_root/89/00/12/77/76/3/89001277763/wu.89001277763.json.bz2')]\n",
    "\n",
    "fr_novels = FeatureReader(paths)"
   ]
  },
  {
   "cell_type": "markdown",
   "metadata": {},
   "source": [
    "### Note: selecting volumes\n",
    "The following cell is useful in choosing a volume to manipulate. Set TITLE_WORD to any word that is contained in the title of the fr-volume you would like to work with (the string comparison is case-insensitive since some titles are lower-case). The volume will then be stored as 'vol', and can be reassigned to any variable name you would like."
   ]
  },
  {
   "cell_type": "code",
   "execution_count": 6,
   "metadata": {},
   "outputs": [
    {
     "name": "stdout",
     "output_type": "stream",
     "text": [
      "Wuthering heights.\n",
      "Nine stories.\n",
      "Uncle Tom's cabin,\n",
      "The grapes of wrath / John Steinbeck ; with an introduction by Brad Leithauser.\n",
      "The sound and the fury / [by] William Faulkner ; with an introduction by Richard Hughes.\n",
      "The life and adventures of Robinson Crusoe.\n",
      "Gulliver's travels. By Jonathan Swift ...\n",
      "To kill a mockingbird / by Harper Lee ; editor, Don Noble.\n",
      "Great expectations / by Charles Dickens.\n"
     ]
    }
   ],
   "source": [
    "TITLE_WORD = ''\n",
    "\n",
    "for vol in fr_novels:\n",
    "    print(vol.title)\n",
    "\n",
    "for vol in fr_novels:\n",
    "    if TITLE_WORD.lower() in vol.title.lower():\n",
    "        break"
   ]
  },
  {
   "cell_type": "markdown",
   "metadata": {},
   "source": [
    "## Sampling tokens from a book\n",
    "The following cell will take a random sample of 50 tokens which appear at least 50 times in the chosen book. It will then calculate their relative frequencies (found by dividing the number of appearances over the total number of words in the book) and display the results in a DataFrame."
   ]
  },
  {
   "cell_type": "code",
   "execution_count": 7,
   "metadata": {
    "scrolled": true
   },
   "outputs": [
    {
     "name": "stderr",
     "output_type": "stream",
     "text": [
      "/Users/Nate/anaconda/lib/python3.6/site-packages/htrc_features/feature_reader.py:603: FutureWarning: sortlevel is deprecated, use sort_index(level= ...)\n",
      "  df.sortlevel(inplace=True)\n"
     ]
    },
    {
     "data": {
      "text/html": [
       "<div>\n",
       "<style>\n",
       "    .dataframe thead tr:only-child th {\n",
       "        text-align: right;\n",
       "    }\n",
       "\n",
       "    .dataframe thead th {\n",
       "        text-align: left;\n",
       "    }\n",
       "\n",
       "    .dataframe tbody tr th {\n",
       "        vertical-align: top;\n",
       "    }\n",
       "</style>\n",
       "<table border=\"1\" class=\"dataframe\">\n",
       "  <thead>\n",
       "    <tr style=\"text-align: right;\">\n",
       "      <th></th>\n",
       "      <th></th>\n",
       "      <th>count</th>\n",
       "      <th>frequency</th>\n",
       "    </tr>\n",
       "    <tr>\n",
       "      <th>section</th>\n",
       "      <th>lowercase</th>\n",
       "      <th></th>\n",
       "      <th></th>\n",
       "    </tr>\n",
       "  </thead>\n",
       "  <tbody>\n",
       "    <tr>\n",
       "      <th rowspan=\"50\" valign=\"top\">body</th>\n",
       "      <th>a</th>\n",
       "      <td>3949</td>\n",
       "      <td>0.014942</td>\n",
       "    </tr>\n",
       "    <tr>\n",
       "      <th>his</th>\n",
       "      <td>1968</td>\n",
       "      <td>0.007447</td>\n",
       "    </tr>\n",
       "    <tr>\n",
       "      <th>me</th>\n",
       "      <td>1867</td>\n",
       "      <td>0.007064</td>\n",
       "    </tr>\n",
       "    <tr>\n",
       "      <th>'</th>\n",
       "      <td>1225</td>\n",
       "      <td>0.004635</td>\n",
       "    </tr>\n",
       "    <tr>\n",
       "      <th>so</th>\n",
       "      <td>892</td>\n",
       "      <td>0.003375</td>\n",
       "    </tr>\n",
       "    <tr>\n",
       "      <th>by</th>\n",
       "      <td>834</td>\n",
       "      <td>0.003156</td>\n",
       "    </tr>\n",
       "    <tr>\n",
       "      <th>do</th>\n",
       "      <td>702</td>\n",
       "      <td>0.002656</td>\n",
       "    </tr>\n",
       "    <tr>\n",
       "      <th>what</th>\n",
       "      <td>590</td>\n",
       "      <td>0.002232</td>\n",
       "    </tr>\n",
       "    <tr>\n",
       "      <th>this</th>\n",
       "      <td>562</td>\n",
       "      <td>0.002127</td>\n",
       "    </tr>\n",
       "    <tr>\n",
       "      <th>more</th>\n",
       "      <td>451</td>\n",
       "      <td>0.001707</td>\n",
       "    </tr>\n",
       "    <tr>\n",
       "      <th>heathcliff</th>\n",
       "      <td>446</td>\n",
       "      <td>0.001688</td>\n",
       "    </tr>\n",
       "    <tr>\n",
       "      <th>which</th>\n",
       "      <td>419</td>\n",
       "      <td>0.001585</td>\n",
       "    </tr>\n",
       "    <tr>\n",
       "      <th>shall</th>\n",
       "      <td>349</td>\n",
       "      <td>0.001321</td>\n",
       "    </tr>\n",
       "    <tr>\n",
       "      <th>again</th>\n",
       "      <td>268</td>\n",
       "      <td>0.001014</td>\n",
       "    </tr>\n",
       "    <tr>\n",
       "      <th>still</th>\n",
       "      <td>257</td>\n",
       "      <td>0.000972</td>\n",
       "    </tr>\n",
       "    <tr>\n",
       "      <th>think</th>\n",
       "      <td>250</td>\n",
       "      <td>0.000946</td>\n",
       "    </tr>\n",
       "    <tr>\n",
       "      <th>may</th>\n",
       "      <td>241</td>\n",
       "      <td>0.000912</td>\n",
       "    </tr>\n",
       "    <tr>\n",
       "      <th>back</th>\n",
       "      <td>188</td>\n",
       "      <td>0.000711</td>\n",
       "    </tr>\n",
       "    <tr>\n",
       "      <th>first</th>\n",
       "      <td>168</td>\n",
       "      <td>0.000636</td>\n",
       "    </tr>\n",
       "    <tr>\n",
       "      <th>old</th>\n",
       "      <td>163</td>\n",
       "      <td>0.000617</td>\n",
       "    </tr>\n",
       "    <tr>\n",
       "      <th>even</th>\n",
       "      <td>153</td>\n",
       "      <td>0.000579</td>\n",
       "    </tr>\n",
       "    <tr>\n",
       "      <th>hope</th>\n",
       "      <td>129</td>\n",
       "      <td>0.000488</td>\n",
       "    </tr>\n",
       "    <tr>\n",
       "      <th>keep</th>\n",
       "      <td>125</td>\n",
       "      <td>0.000473</td>\n",
       "    </tr>\n",
       "    <tr>\n",
       "      <th>(</th>\n",
       "      <td>110</td>\n",
       "      <td>0.000416</td>\n",
       "    </tr>\n",
       "    <tr>\n",
       "      <th>t</th>\n",
       "      <td>109</td>\n",
       "      <td>0.000412</td>\n",
       "    </tr>\n",
       "    <tr>\n",
       "      <th>&gt;</th>\n",
       "      <td>108</td>\n",
       "      <td>0.000409</td>\n",
       "    </tr>\n",
       "    <tr>\n",
       "      <th>speak</th>\n",
       "      <td>103</td>\n",
       "      <td>0.000390</td>\n",
       "    </tr>\n",
       "    <tr>\n",
       "      <th>began</th>\n",
       "      <td>102</td>\n",
       "      <td>0.000386</td>\n",
       "    </tr>\n",
       "    <tr>\n",
       "      <th>want</th>\n",
       "      <td>89</td>\n",
       "      <td>0.000337</td>\n",
       "    </tr>\n",
       "    <tr>\n",
       "      <th>'er</th>\n",
       "      <td>84</td>\n",
       "      <td>0.000318</td>\n",
       "    </tr>\n",
       "    <tr>\n",
       "      <th>seen</th>\n",
       "      <td>83</td>\n",
       "      <td>0.000314</td>\n",
       "    </tr>\n",
       "    <tr>\n",
       "      <th>grange</th>\n",
       "      <td>81</td>\n",
       "      <td>0.000306</td>\n",
       "    </tr>\n",
       "    <tr>\n",
       "      <th>gave</th>\n",
       "      <td>78</td>\n",
       "      <td>0.000295</td>\n",
       "    </tr>\n",
       "    <tr>\n",
       "      <th>voice</th>\n",
       "      <td>77</td>\n",
       "      <td>0.000291</td>\n",
       "    </tr>\n",
       "    <tr>\n",
       "      <th>open</th>\n",
       "      <td>77</td>\n",
       "      <td>0.000291</td>\n",
       "    </tr>\n",
       "    <tr>\n",
       "      <th>hindley</th>\n",
       "      <td>75</td>\n",
       "      <td>0.000284</td>\n",
       "    </tr>\n",
       "    <tr>\n",
       "      <th>return</th>\n",
       "      <td>74</td>\n",
       "      <td>0.000280</td>\n",
       "    </tr>\n",
       "    <tr>\n",
       "      <th>sweet</th>\n",
       "      <td>72</td>\n",
       "      <td>0.000272</td>\n",
       "    </tr>\n",
       "    <tr>\n",
       "      <th>believe</th>\n",
       "      <td>70</td>\n",
       "      <td>0.000265</td>\n",
       "    </tr>\n",
       "    <tr>\n",
       "      <th>neither</th>\n",
       "      <td>64</td>\n",
       "      <td>0.000242</td>\n",
       "    </tr>\n",
       "    <tr>\n",
       "      <th>friends</th>\n",
       "      <td>63</td>\n",
       "      <td>0.000238</td>\n",
       "    </tr>\n",
       "    <tr>\n",
       "      <th>really</th>\n",
       "      <td>61</td>\n",
       "      <td>0.000231</td>\n",
       "    </tr>\n",
       "    <tr>\n",
       "      <th>name</th>\n",
       "      <td>60</td>\n",
       "      <td>0.000227</td>\n",
       "    </tr>\n",
       "    <tr>\n",
       "      <th>green</th>\n",
       "      <td>59</td>\n",
       "      <td>0.000223</td>\n",
       "    </tr>\n",
       "    <tr>\n",
       "      <th>help</th>\n",
       "      <td>57</td>\n",
       "      <td>0.000216</td>\n",
       "    </tr>\n",
       "    <tr>\n",
       "      <th>matilda</th>\n",
       "      <td>56</td>\n",
       "      <td>0.000212</td>\n",
       "    </tr>\n",
       "    <tr>\n",
       "      <th>length</th>\n",
       "      <td>55</td>\n",
       "      <td>0.000208</td>\n",
       "    </tr>\n",
       "    <tr>\n",
       "      <th>worse</th>\n",
       "      <td>55</td>\n",
       "      <td>0.000208</td>\n",
       "    </tr>\n",
       "    <tr>\n",
       "      <th>person</th>\n",
       "      <td>54</td>\n",
       "      <td>0.000204</td>\n",
       "    </tr>\n",
       "    <tr>\n",
       "      <th>spoke</th>\n",
       "      <td>51</td>\n",
       "      <td>0.000193</td>\n",
       "    </tr>\n",
       "  </tbody>\n",
       "</table>\n",
       "</div>"
      ],
      "text/plain": [
       "                    count  frequency\n",
       "section lowercase                   \n",
       "body    a            3949   0.014942\n",
       "        his          1968   0.007447\n",
       "        me           1867   0.007064\n",
       "        '            1225   0.004635\n",
       "        so            892   0.003375\n",
       "        by            834   0.003156\n",
       "        do            702   0.002656\n",
       "        what          590   0.002232\n",
       "        this          562   0.002127\n",
       "        more          451   0.001707\n",
       "        heathcliff    446   0.001688\n",
       "        which         419   0.001585\n",
       "        shall         349   0.001321\n",
       "        again         268   0.001014\n",
       "        still         257   0.000972\n",
       "        think         250   0.000946\n",
       "        may           241   0.000912\n",
       "        back          188   0.000711\n",
       "        first         168   0.000636\n",
       "        old           163   0.000617\n",
       "        even          153   0.000579\n",
       "        hope          129   0.000488\n",
       "        keep          125   0.000473\n",
       "        (             110   0.000416\n",
       "        t             109   0.000412\n",
       "        >             108   0.000409\n",
       "        speak         103   0.000390\n",
       "        began         102   0.000386\n",
       "        want           89   0.000337\n",
       "        'er            84   0.000318\n",
       "        seen           83   0.000314\n",
       "        grange         81   0.000306\n",
       "        gave           78   0.000295\n",
       "        voice          77   0.000291\n",
       "        open           77   0.000291\n",
       "        hindley        75   0.000284\n",
       "        return         74   0.000280\n",
       "        sweet          72   0.000272\n",
       "        believe        70   0.000265\n",
       "        neither        64   0.000242\n",
       "        friends        63   0.000238\n",
       "        really         61   0.000231\n",
       "        name           60   0.000227\n",
       "        green          59   0.000223\n",
       "        help           57   0.000216\n",
       "        matilda        56   0.000212\n",
       "        length         55   0.000208\n",
       "        worse          55   0.000208\n",
       "        person         54   0.000204\n",
       "        spoke          51   0.000193"
      ]
     },
     "execution_count": 7,
     "metadata": {},
     "output_type": "execute_result"
    }
   ],
   "source": [
    "tokens_1 = vol.tokenlist(pos=False, case=False, pages=False) \n",
    "\n",
    "tokens_2 = tokens_1[tokens_1['count'] > 50].sample(50)\n",
    "tokens_2.sort_values('count', ascending=False, inplace=True)\n",
    "tokens_2\n",
    "\n",
    "freqs = []\n",
    "for count in tokens_2['count']:\n",
    "    freqs.append(count/sum(tokens_1['count']))\n",
    "    \n",
    "tokens_2['frequency'] = freqs\n",
    "tokens_2"
   ]
  },
  {
   "cell_type": "markdown",
   "metadata": {},
   "source": [
    "### Graphing word frequencies\n",
    "The following cell outputs a scatter plot of counts and frequencies from the sample. The relationship between count and frequency is, obviously, linear, and most of the points are clustered in the lower-left corner. Also shown (as a dashed line) is the mean frequency for all tokens in the sample."
   ]
  },
  {
   "cell_type": "code",
   "execution_count": 8,
   "metadata": {},
   "outputs": [
    {
     "name": "stdout",
     "output_type": "stream",
     "text": [
      "Average word frequency from sample: 0.0014\n"
     ]
    },
    {
     "data": {
      "text/plain": [
       "(45, 3969)"
      ]
     },
     "execution_count": 8,
     "metadata": {},
     "output_type": "execute_result"
    },
    {
     "data": {
      "image/png": "[encoded data removed]",
      "text/plain": [
       "<matplotlib.figure.Figure at 0x11650e828>"
      ]
     },
     "metadata": {},
     "output_type": "display_data"
    }
   ],
   "source": [
    "# Output mean frequency.\n",
    "print('Average word frequency from sample:', float('%.4f' % np.mean(freqs)))\n",
    "\n",
    "# Plot points from tokens_2.\n",
    "tokens_2.plot.scatter('count', 'frequency', s=100, marker='+', color='black')\n",
    "\n",
    "# Plot mean and scale axes.\n",
    "plt.plot((45, max(tokens_2['count'])), (np.mean(freqs), np.mean(freqs)), '--')\n",
    "plt.ylim(-.0005, np.max(freqs)+np.mean(freqs))\n",
    "plt.xlim(45, max(tokens_2['count'])+20)"
   ]
  },
  {
   "cell_type": "markdown",
   "metadata": {},
   "source": [
    "## Sampling tokens from all books\n",
    "Now we can see how relative word frequencies compare across all the books in our sample. To do this, we'll need a few useful functions.\n",
    "The first finds the most common noun in a volume, with adjustable parameters for minimum length.\n",
    "The second calculates the relative frequency of a token across the entirety of a volume, saving us the time of doing the calculation like in the above cell.\n",
    "Finally, we'll have a visualization function to create a bar plot of relative frequencies for all volumes in our sample, so that we can easily track how word frequencies differ across titles."
   ]
  },
  {
   "cell_type": "code",
   "execution_count": 58,
   "metadata": {},
   "outputs": [],
   "source": [
    "# A function to return the most common noun of length at least word_length in the volume.\n",
    "# NOTE: word_length defaults to 2.\n",
    "# e.g. most_common_noun(fr_novels.first) returns 'time'.\n",
    "\n",
    "def most_common_noun(vol, word_length=2):   \n",
    "    # Build a table of common nouns\n",
    "    tokens_1 = vol.tokenlist(pages=False, case=False)\n",
    "    nouns_only = tokens_1.loc[(slice(None), slice(None), ['NN']),]\n",
    "    top_nouns = nouns_only.sort_values('count', ascending=False)\n",
    "\n",
    "    token_index = top_nouns.index.get_level_values(\"lowercase\")\n",
    "    \n",
    "    # Choose the first token at least as long as word_length with non-alphabetical characters\n",
    "    for i in range(max(token_index.shape)):\n",
    "        if (len(token_index[i]) >= word_length):\n",
    "            if(\"'\", \"!\", \",\", \"?\" not in token_index[i]):\n",
    "                return token_index[i]\n",
    "    print('There is no noun of this length')\n",
    "    return None"
   ]
  },
  {
   "cell_type": "code",
   "execution_count": 50,
   "metadata": {
    "collapsed": true
   },
   "outputs": [],
   "source": [
    "# Return the usage frequency of a given word in a given volume. \n",
    "# NOTE: frequency() returns a dictionary entry of the form {'word': frequency}.\n",
    "# e.g. frequency(fr_novels.first(), 'blue') returns {'blue': 0.00012}\n",
    "\n",
    "def frequency(vol, word):\n",
    "    t1 = vol.tokenlist(pages=False, pos=False, case=False)\n",
    "    token_index = t1[t1.index.get_level_values(\"lowercase\") == word]\n",
    "    \n",
    "    if len(token_index['count'])==0:\n",
    "        return {word: 0}\n",
    "    \n",
    "    count = token_index['count'][0]\n",
    "    freq = count/sum(t1['count'])\n",
    "    \n",
    "    return {word: float('%.5f' % freq)}"
   ]
  },
  {
   "cell_type": "code",
   "execution_count": 84,
   "metadata": {
    "collapsed": true
   },
   "outputs": [],
   "source": [
    "# Returns a plot of the usage frequencies of the given word across all volumes in the given FeatureReader collection.\n",
    "# NOTE: frequencies are given as percentages rather than true ratios.\n",
    "def frequency_bar_plot(word, fr):\n",
    "    freqs, titles = [], []\n",
    "    for vol in fr:\n",
    "        title = vol.title\n",
    "        short_title = title[:6] + (title[6:] and '..')\n",
    "        freqs.append(100*frequency(vol, word)[word])\n",
    "        titles.append(short_title)\n",
    "        \n",
    "    # Format and plot the data\n",
    "    x_ticks = np.arange(len(titles))\n",
    "    plt.bar(x_ticks, freqs)\n",
    "    plt.xticks(x_ticks, titles, fontsize=10)\n",
    "    plt.ylabel('Frequency (%)', fontsize=12)\n",
    "    plt.title('Frequency of \"' + word + '\"', fontsize=14)"
   ]
  },
  {
   "cell_type": "markdown",
   "metadata": {},
   "source": [
    "### Testing frequency functions\n",
    "The following cells call our frequency functions on a few examples from the novels FeatureReader."
   ]
  },
  {
   "cell_type": "code",
   "execution_count": 85,
   "metadata": {},
   "outputs": [
    {
     "name": "stderr",
     "output_type": "stream",
     "text": [
      "/Users/Nate/anaconda/lib/python3.6/site-packages/htrc_features/feature_reader.py:603: FutureWarning: sortlevel is deprecated, use sort_index(level= ...)\n",
      "  df.sortlevel(inplace=True)\n"
     ]
    },
    {
     "data": {
      "text/plain": [
       "'time'"
      ]
     },
     "execution_count": 85,
     "metadata": {},
     "output_type": "execute_result"
    }
   ],
   "source": [
    "# Most common noun in fr_novels.first\n",
    "vol = fr_novels.first()\n",
    "most_common_noun(vol)"
   ]
  },
  {
   "cell_type": "code",
   "execution_count": 86,
   "metadata": {},
   "outputs": [
    {
     "data": {
      "text/plain": [
       "'countenance'"
      ]
     },
     "execution_count": 86,
     "metadata": {},
     "output_type": "execute_result"
    }
   ],
   "source": [
    "# Most common noun of length at least 10 in fr_novels.first\n",
    "most_common_noun(vol, 10)"
   ]
  },
  {
   "cell_type": "code",
   "execution_count": 87,
   "metadata": {},
   "outputs": [
    {
     "data": {
      "text/plain": [
       "{'countenance': 0.00017}"
      ]
     },
     "execution_count": 87,
     "metadata": {},
     "output_type": "execute_result"
    }
   ],
   "source": [
    "# Frequency of 'countenance' in fr_novels.first\n",
    "frequency(vol, 'countenance')"
   ]
  },
  {
   "cell_type": "code",
   "execution_count": 88,
   "metadata": {},
   "outputs": [
    {
     "name": "stderr",
     "output_type": "stream",
     "text": [
      "/Users/Nate/anaconda/lib/python3.6/site-packages/htrc_features/feature_reader.py:603: FutureWarning: sortlevel is deprecated, use sort_index(level= ...)\n",
      "  df.sortlevel(inplace=True)\n"
     ]
    },
    {
     "data": {
      "image/png": "[encoded data removed]",
      "text/plain": [
       "<matplotlib.figure.Figure at 0x119892b70>"
      ]
     },
     "metadata": {},
     "output_type": "display_data"
    }
   ],
   "source": [
    "# Frequency bar plot for most common >=7-letter noun in The Grapes of Wrath\n",
    "for vol in fr_novels:\n",
    "    if 'grapes' in vol.title:\n",
    "        break\n",
    "        \n",
    "frequency_bar_plot(most_common_noun(vol, 7), fr_novels)"
   ]
  },
  {
   "cell_type": "markdown",
   "metadata": {},
   "source": [
    "## More frequency analysis — non-fiction volumes\n",
    "Now we'll load a collection of 33 math textbooks from the 18th and 19th centuries. These volumes focus on number theory and arithmetic, and were written during the lives of Leonhard Euler and Joseph-Louis Lagrange – two of the most prolific researchers of number theory in all of history. As a result, we can expect the frequency of certain words and topics to shift over time to reflect the state of contemporary research. Let's load them and see."
   ]
  },
  {
   "cell_type": "code",
   "execution_count": 89,
   "metadata": {
    "scrolled": true
   },
   "outputs": [
    {
     "name": "stdout",
     "output_type": "stream",
     "text": [
      "[sandbox] Welcome to the HathiTrust Research Center rsync server.\n",
      "\n",
      "receiving file list ... done\n",
      "\n",
      "sent 2,620 bytes  received 5,056 bytes  5,117.33 bytes/sec\n",
      "total size is 6,390,002  speedup is 832.47\n"
     ]
    }
   ],
   "source": [
    "%%bash\n",
    "htid2rsync --f math-collection.txt | rsync -azv --files-from=- data.sharc.hathitrust.org::features/ local-folder/"
   ]
  },
  {
   "cell_type": "code",
   "execution_count": 90,
   "metadata": {
    "collapsed": true
   },
   "outputs": [],
   "source": [
    "math_paths = [\n",
    "    'hvd/pairtree_root/32/04/40/14/61/26/26/32044014612626/hvd.32044014612626.json.bz2',\n",
    "    'hvd/pairtree_root/hn/5f/26/hn5f26/hvd.hn5f26.json.bz2',\n",
    "    'hvd/pairtree_root/hn/5z/9x/hn5z9x/hvd.hn5z9x.json.bz2',\n",
    "    'mdp/pairtree_root/39/01/50/07/02/69/93/39015007026993/mdp.39015007026993.json.bz2',\n",
    "    'mdp/pairtree_root/39/01/50/10/96/31/58/39015010963158/mdp.39015010963158.json.bz2',\n",
    "    'mdp/pairtree_root/39/01/50/18/03/70/05/39015018037005/mdp.39015018037005.json.bz2',\n",
    "    'mdp/pairtree_root/39/01/50/36/84/95/63/39015036849563/mdp.39015036849563.json.bz2',\n",
    "    'mdp/pairtree_root/39/01/50/36/84/95/71/39015036849571/mdp.39015036849571.json.bz2',\n",
    "    'mdp/pairtree_root/39/01/50/36/84/95/89/39015036849589/mdp.39015036849589.json.bz2',\n",
    "    'mdp/pairtree_root/39/01/50/41/15/83/23/39015041158323/mdp.39015041158323.json.bz2',\n",
    "    'mdp/pairtree_root/39/01/50/63/55/49/79/39015063554979/mdp.39015063554979.json.bz2',\n",
    "    'mdp/pairtree_root/39/01/50/63/55/51/33/39015063555133/mdp.39015063555133.json.bz2',\n",
    "    'mdp/pairtree_root/39/01/50/63/61/99/47/39015063619947/mdp.39015063619947.json.bz2',\n",
    "    'mdp/pairtree_root/39/01/50/63/62/00/93/39015063620093/mdp.39015063620093.json.bz2',\n",
    "    'mdp/pairtree_root/39/01/50/63/62/01/19/39015063620119/mdp.39015063620119.json.bz2',\n",
    "    'mdp/pairtree_root/39/01/50/63/63/11/57/39015063631157/mdp.39015063631157.json.bz2',\n",
    "    'mdp/pairtree_root/39/01/50/63/63/87/15/39015063638715/mdp.39015063638715.json.bz2',\n",
    "    'mdp/pairtree_root/39/01/50/63/87/18/52/39015063871852/mdp.39015063871852.json.bz2',\n",
    "    'mdp/pairtree_root/39/01/50/63/87/20/17/39015063872017/mdp.39015063872017.json.bz2',\n",
    "    'mdp/pairtree_root/39/01/50/63/89/52/73/39015063895273/mdp.39015063895273.json.bz2',\n",
    "    'mdp/pairtree_root/39/01/50/63/89/54/63/39015063895463/mdp.39015063895463.json.bz2',\n",
    "    'mdp/pairtree_root/39/01/50/63/89/57/45/39015063895745/mdp.39015063895745.json.bz2',\n",
    "    'mdp/pairtree_root/39/01/50/64/32/01/49/39015064320149/mdp.39015064320149.json.bz2',\n",
    "    'mdp/pairtree_root/39/01/50/64/33/35/48/39015064333548/mdp.39015064333548.json.bz2',\n",
    "    'mdp/pairtree_root/39/01/50/65/32/09/40/39015065320940/mdp.39015065320940.json.bz2',\n",
    "    'mdp/pairtree_root/39/01/50/65/32/09/57/39015065320957/mdp.39015065320957.json.bz2',\n",
    "    'mdp/pairtree_root/39/01/50/67/06/47/28/39015067064728/mdp.39015067064728.json.bz2',\n",
    "    'mdp/pairtree_root/39/01/50/67/25/22/16/39015067252216/mdp.39015067252216.json.bz2',\n",
    "    'mdp/pairtree_root/39/01/50/82/30/80/68/39015082308068/mdp.39015082308068.json.bz2',\n",
    "    'nyp/pairtree_root/33/43/30/69/09/23/63/33433069092363/nyp.33433069092363.json.bz2',\n",
    "    'uc1/pairtree_root/$b/26/27/22/$b262722/uc1.$b262722.json.bz2',\n",
    "    'uc1/pairtree_root/$b/41/71/72/$b417172/uc1.$b417172.json.bz2',\n",
    "    'uc1/pairtree_root/$b/53/23/17/$b532317/uc1.$b532317.json.bz2'\n",
    "    ]\n",
    "    \n",
    "fr_math = FeatureReader()\n",
    "\n",
    "for path in math_paths:\n",
    "    fr_math.paths.append(os.path.join('local-folder', path))"
   ]
  },
  {
   "cell_type": "markdown",
   "metadata": {},
   "source": [
    "### Another frequency function\n",
    "The next cell contains a frequency_by_year function that takes as inputs a query word and a FeatureReader object. The function calculates relative frequencies of the query word across all volumes in the FR, then outputs them in a DataFrame sorted by the volume year. It then plots the frequencies and allows us to easily see trends in word usage across a time period."
   ]
  },
  {
   "cell_type": "code",
   "execution_count": 101,
   "metadata": {
    "collapsed": true
   },
   "outputs": [],
   "source": [
    "# Returns a DF of relative frequencies, volume years, and page counts, along with a scatter plot.\n",
    "# NOTE: frequencies are given in percentages rather than true ratios.\n",
    "def frequency_by_year(query_word, fr):\n",
    "    volumes = pd.DataFrame()\n",
    "    years, page_counts, query_freqs = [], [], []\n",
    "\n",
    "    for vol in fr:\n",
    "        years.append(int(vol.year))\n",
    "        page_counts.append(int(vol.page_count))\n",
    "        query_freqs.append(100*frequency(vol, query_word)[query_word])\n",
    "    \n",
    "    volumes['year'], volumes['pages'], volumes['freq'] = years, page_counts, query_freqs\n",
    "    volumes = volumes.sort_values('year')\n",
    "    \n",
    "    # Set plot dimensions and labels\n",
    "    scatter_plot = volumes.plot.scatter('year', 'freq', color='black', s=50, fontsize=12)\n",
    "    plt.ylim(0-np.mean(query_freqs), max(query_freqs)+np.mean(query_freqs))\n",
    "    plt.ylabel('Frequency (%)', fontsize=12)\n",
    "    plt.xlabel('Year', fontsize=12)\n",
    "    plt.title('Frequency of \"' + query_word + '\"', fontsize=14)\n",
    "    \n",
    "    return volumes.head(10)"
   ]
  },
  {
   "cell_type": "markdown",
   "metadata": {},
   "source": [
    "### Checking for shifts over time\n",
    "In 1744, Euler began a huge volume of work on identifying quadratic forms and progressions of primes. It follows from reason, then, that the mentions of these topics in number theory textbooks should see a discernible jump following the 1740's. The following cells call frequency_by_year on several relevant words."
   ]
  },
  {
   "cell_type": "code",
   "execution_count": 98,
   "metadata": {
    "scrolled": false
   },
   "outputs": [
    {
     "name": "stderr",
     "output_type": "stream",
     "text": [
      "/Users/Nate/anaconda/lib/python3.6/site-packages/htrc_features/feature_reader.py:603: FutureWarning: sortlevel is deprecated, use sort_index(level= ...)\n",
      "  df.sortlevel(inplace=True)\n"
     ]
    },
    {
     "data": {
      "text/html": [
       "<div>\n",
       "<style>\n",
       "    .dataframe thead tr:only-child th {\n",
       "        text-align: right;\n",
       "    }\n",
       "\n",
       "    .dataframe thead th {\n",
       "        text-align: left;\n",
       "    }\n",
       "\n",
       "    .dataframe tbody tr th {\n",
       "        vertical-align: top;\n",
       "    }\n",
       "</style>\n",
       "<table border=\"1\" class=\"dataframe\">\n",
       "  <thead>\n",
       "    <tr style=\"text-align: right;\">\n",
       "      <th></th>\n",
       "      <th>year</th>\n",
       "      <th>pages</th>\n",
       "      <th>freq</th>\n",
       "    </tr>\n",
       "  </thead>\n",
       "  <tbody>\n",
       "    <tr>\n",
       "      <th>28</th>\n",
       "      <td>1701</td>\n",
       "      <td>690</td>\n",
       "      <td>0.000</td>\n",
       "    </tr>\n",
       "    <tr>\n",
       "      <th>16</th>\n",
       "      <td>1705</td>\n",
       "      <td>284</td>\n",
       "      <td>0.022</td>\n",
       "    </tr>\n",
       "    <tr>\n",
       "      <th>22</th>\n",
       "      <td>1716</td>\n",
       "      <td>496</td>\n",
       "      <td>0.000</td>\n",
       "    </tr>\n",
       "    <tr>\n",
       "      <th>4</th>\n",
       "      <td>1720</td>\n",
       "      <td>310</td>\n",
       "      <td>0.000</td>\n",
       "    </tr>\n",
       "    <tr>\n",
       "      <th>3</th>\n",
       "      <td>1721</td>\n",
       "      <td>512</td>\n",
       "      <td>0.012</td>\n",
       "    </tr>\n",
       "    <tr>\n",
       "      <th>15</th>\n",
       "      <td>1729</td>\n",
       "      <td>460</td>\n",
       "      <td>0.000</td>\n",
       "    </tr>\n",
       "    <tr>\n",
       "      <th>5</th>\n",
       "      <td>1730</td>\n",
       "      <td>688</td>\n",
       "      <td>0.000</td>\n",
       "    </tr>\n",
       "    <tr>\n",
       "      <th>27</th>\n",
       "      <td>1731</td>\n",
       "      <td>510</td>\n",
       "      <td>0.021</td>\n",
       "    </tr>\n",
       "    <tr>\n",
       "      <th>19</th>\n",
       "      <td>1735</td>\n",
       "      <td>430</td>\n",
       "      <td>0.000</td>\n",
       "    </tr>\n",
       "    <tr>\n",
       "      <th>2</th>\n",
       "      <td>1736</td>\n",
       "      <td>194</td>\n",
       "      <td>0.000</td>\n",
       "    </tr>\n",
       "  </tbody>\n",
       "</table>\n",
       "</div>"
      ],
      "text/plain": [
       "    year  pages   freq\n",
       "28  1701    690  0.000\n",
       "16  1705    284  0.022\n",
       "22  1716    496  0.000\n",
       "4   1720    310  0.000\n",
       "3   1721    512  0.012\n",
       "15  1729    460  0.000\n",
       "5   1730    688  0.000\n",
       "27  1731    510  0.021\n",
       "19  1735    430  0.000\n",
       "2   1736    194  0.000"
      ]
     },
     "execution_count": 98,
     "metadata": {},
     "output_type": "execute_result"
    },
    {
     "data": {
      "image/png": "[encoded data removed]",
      "text/plain": [
       "<matplotlib.figure.Figure at 0x1164b89e8>"
      ]
     },
     "metadata": {},
     "output_type": "display_data"
    }
   ],
   "source": [
    "frequency_by_year('quadratic', fr_math)"
   ]
  },
  {
   "cell_type": "code",
   "execution_count": 99,
   "metadata": {},
   "outputs": [
    {
     "name": "stderr",
     "output_type": "stream",
     "text": [
      "/Users/Nate/anaconda/lib/python3.6/site-packages/htrc_features/feature_reader.py:603: FutureWarning: sortlevel is deprecated, use sort_index(level= ...)\n",
      "  df.sortlevel(inplace=True)\n"
     ]
    },
    {
     "data": {
      "text/html": [
       "<div>\n",
       "<style>\n",
       "    .dataframe thead tr:only-child th {\n",
       "        text-align: right;\n",
       "    }\n",
       "\n",
       "    .dataframe thead th {\n",
       "        text-align: left;\n",
       "    }\n",
       "\n",
       "    .dataframe tbody tr th {\n",
       "        vertical-align: top;\n",
       "    }\n",
       "</style>\n",
       "<table border=\"1\" class=\"dataframe\">\n",
       "  <thead>\n",
       "    <tr style=\"text-align: right;\">\n",
       "      <th></th>\n",
       "      <th>year</th>\n",
       "      <th>pages</th>\n",
       "      <th>freq</th>\n",
       "    </tr>\n",
       "  </thead>\n",
       "  <tbody>\n",
       "    <tr>\n",
       "      <th>28</th>\n",
       "      <td>1701</td>\n",
       "      <td>690</td>\n",
       "      <td>0.013</td>\n",
       "    </tr>\n",
       "    <tr>\n",
       "      <th>16</th>\n",
       "      <td>1705</td>\n",
       "      <td>284</td>\n",
       "      <td>0.006</td>\n",
       "    </tr>\n",
       "    <tr>\n",
       "      <th>22</th>\n",
       "      <td>1716</td>\n",
       "      <td>496</td>\n",
       "      <td>0.009</td>\n",
       "    </tr>\n",
       "    <tr>\n",
       "      <th>4</th>\n",
       "      <td>1720</td>\n",
       "      <td>310</td>\n",
       "      <td>0.005</td>\n",
       "    </tr>\n",
       "    <tr>\n",
       "      <th>3</th>\n",
       "      <td>1721</td>\n",
       "      <td>512</td>\n",
       "      <td>0.002</td>\n",
       "    </tr>\n",
       "    <tr>\n",
       "      <th>15</th>\n",
       "      <td>1729</td>\n",
       "      <td>460</td>\n",
       "      <td>0.001</td>\n",
       "    </tr>\n",
       "    <tr>\n",
       "      <th>5</th>\n",
       "      <td>1730</td>\n",
       "      <td>688</td>\n",
       "      <td>0.058</td>\n",
       "    </tr>\n",
       "    <tr>\n",
       "      <th>27</th>\n",
       "      <td>1731</td>\n",
       "      <td>510</td>\n",
       "      <td>0.002</td>\n",
       "    </tr>\n",
       "    <tr>\n",
       "      <th>19</th>\n",
       "      <td>1735</td>\n",
       "      <td>430</td>\n",
       "      <td>0.001</td>\n",
       "    </tr>\n",
       "    <tr>\n",
       "      <th>2</th>\n",
       "      <td>1736</td>\n",
       "      <td>194</td>\n",
       "      <td>0.006</td>\n",
       "    </tr>\n",
       "  </tbody>\n",
       "</table>\n",
       "</div>"
      ],
      "text/plain": [
       "    year  pages   freq\n",
       "28  1701    690  0.013\n",
       "16  1705    284  0.006\n",
       "22  1716    496  0.009\n",
       "4   1720    310  0.005\n",
       "3   1721    512  0.002\n",
       "15  1729    460  0.001\n",
       "5   1730    688  0.058\n",
       "27  1731    510  0.002\n",
       "19  1735    430  0.001\n",
       "2   1736    194  0.006"
      ]
     },
     "execution_count": 99,
     "metadata": {},
     "output_type": "execute_result"
    },
    {
     "data": {
      "image/png": "[encoded data removed]",
      "text/plain": [
       "<matplotlib.figure.Figure at 0x118351978>"
      ]
     },
     "metadata": {},
     "output_type": "display_data"
    }
   ],
   "source": [
    "frequency_by_year('prime', fr_math)"
   ]
  },
  {
   "cell_type": "code",
   "execution_count": 100,
   "metadata": {},
   "outputs": [
    {
     "name": "stderr",
     "output_type": "stream",
     "text": [
      "/Users/Nate/anaconda/lib/python3.6/site-packages/htrc_features/feature_reader.py:603: FutureWarning: sortlevel is deprecated, use sort_index(level= ...)\n",
      "  df.sortlevel(inplace=True)\n"
     ]
    },
    {
     "data": {
      "text/html": [
       "<div>\n",
       "<style>\n",
       "    .dataframe thead tr:only-child th {\n",
       "        text-align: right;\n",
       "    }\n",
       "\n",
       "    .dataframe thead th {\n",
       "        text-align: left;\n",
       "    }\n",
       "\n",
       "    .dataframe tbody tr th {\n",
       "        vertical-align: top;\n",
       "    }\n",
       "</style>\n",
       "<table border=\"1\" class=\"dataframe\">\n",
       "  <thead>\n",
       "    <tr style=\"text-align: right;\">\n",
       "      <th></th>\n",
       "      <th>year</th>\n",
       "      <th>pages</th>\n",
       "      <th>freq</th>\n",
       "    </tr>\n",
       "  </thead>\n",
       "  <tbody>\n",
       "    <tr>\n",
       "      <th>28</th>\n",
       "      <td>1701</td>\n",
       "      <td>690</td>\n",
       "      <td>0.014</td>\n",
       "    </tr>\n",
       "    <tr>\n",
       "      <th>16</th>\n",
       "      <td>1705</td>\n",
       "      <td>284</td>\n",
       "      <td>0.000</td>\n",
       "    </tr>\n",
       "    <tr>\n",
       "      <th>22</th>\n",
       "      <td>1716</td>\n",
       "      <td>496</td>\n",
       "      <td>0.013</td>\n",
       "    </tr>\n",
       "    <tr>\n",
       "      <th>4</th>\n",
       "      <td>1720</td>\n",
       "      <td>310</td>\n",
       "      <td>0.001</td>\n",
       "    </tr>\n",
       "    <tr>\n",
       "      <th>3</th>\n",
       "      <td>1721</td>\n",
       "      <td>512</td>\n",
       "      <td>0.013</td>\n",
       "    </tr>\n",
       "    <tr>\n",
       "      <th>15</th>\n",
       "      <td>1729</td>\n",
       "      <td>460</td>\n",
       "      <td>0.005</td>\n",
       "    </tr>\n",
       "    <tr>\n",
       "      <th>5</th>\n",
       "      <td>1730</td>\n",
       "      <td>688</td>\n",
       "      <td>0.015</td>\n",
       "    </tr>\n",
       "    <tr>\n",
       "      <th>27</th>\n",
       "      <td>1731</td>\n",
       "      <td>510</td>\n",
       "      <td>0.015</td>\n",
       "    </tr>\n",
       "    <tr>\n",
       "      <th>19</th>\n",
       "      <td>1735</td>\n",
       "      <td>430</td>\n",
       "      <td>0.000</td>\n",
       "    </tr>\n",
       "    <tr>\n",
       "      <th>2</th>\n",
       "      <td>1736</td>\n",
       "      <td>194</td>\n",
       "      <td>0.003</td>\n",
       "    </tr>\n",
       "  </tbody>\n",
       "</table>\n",
       "</div>"
      ],
      "text/plain": [
       "    year  pages   freq\n",
       "28  1701    690  0.014\n",
       "16  1705    284  0.000\n",
       "22  1716    496  0.013\n",
       "4   1720    310  0.001\n",
       "3   1721    512  0.013\n",
       "15  1729    460  0.005\n",
       "5   1730    688  0.015\n",
       "27  1731    510  0.015\n",
       "19  1735    430  0.000\n",
       "2   1736    194  0.003"
      ]
     },
     "execution_count": 100,
     "metadata": {},
     "output_type": "execute_result"
    },
    {
     "data": {
      "image/png": "[encoded data removed]",
      "text/plain": [
       "<matplotlib.figure.Figure at 0x116b074a8>"
      ]
     },
     "metadata": {},
     "output_type": "display_data"
    }
   ],
   "source": [
    "frequency_by_year('factor', fr_math)"
   ]
  }
 ],
 "metadata": {
  "kernelspec": {
   "display_name": "Python 3",
   "language": "python",
   "name": "python3"
  },
  "language_info": {
   "codemirror_mode": {
    "name": "ipython",
    "version": 3
   },
   "file_extension": ".py",
   "mimetype": "text/x-python",
   "name": "python",
   "nbconvert_exporter": "python",
   "pygments_lexer": "ipython3",
   "version": "3.6.1"
  }
 },
 "nbformat": 4,
 "nbformat_minor": 2
}
