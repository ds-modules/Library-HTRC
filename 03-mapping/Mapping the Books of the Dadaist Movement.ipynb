{
 "cells": [
  {
   "cell_type": "markdown",
   "metadata": {},
   "source": [
    "# Introduction"
   ]
  },
  {
   "cell_type": "markdown",
   "metadata": {},
   "source": [
    "Hi there! This notebook will be presenting a small walkthrough in extracting the metadata of publications from the HathiTrust Digital Library as well as illustrating geographic data in Python. As an exercise, we will be examining and illustrating the publication locations of a collection of Dadaist literature extracted from HathiTrust.\n",
    "\n",
    "[Dada](https://en.wikipedia.org/wiki/Dada), an art and literature movement which stemmed as a reaction to the physical and psychological trauma wrought by World War I, a conflict unmatched at the time in its scale, death toll, and devastation.\n",
    "\n",
    "Below is a painting by [Max Ernst](https://en.wikipedia.org/wiki/Max_Ernst), a prominent German Dada artist.\n",
    "<img src=\"ernst.jpg\">"
   ]
  },
  {
   "cell_type": "markdown",
   "metadata": {},
   "source": [
    "# Background\n",
    "\n",
    "The [HathiTrust Digital Library](https://www.hathitrust.org/) contains over 14 million volumes scanned from academic libraries around the world (primarily in North America). The [HathiTrust Research Center](https://analytics.hathitrust.org/) allows researchers to access almost all of those texts in a few different modes for computational text analysis. \n",
    "\n",
    "For more information on HTRC: \n",
    "* [Library text mining guide page on HTRC](http://guides.lib.berkeley.edu/c.php?g=491766&p=3381443)\n",
    "* [Programming Historian's Text Mining in Python through the HTRC Feature Reader](http://programminghistorian.org/lessons/text-mining-with-extracted-features)"
   ]
  },
  {
   "cell_type": "markdown",
   "metadata": {},
   "source": [
    "# Extracting the Metadata"
   ]
  },
  {
   "cell_type": "markdown",
   "metadata": {},
   "source": [
    "This cell extracts all the metadata for each volume ID in dada.txt"
   ]
  },
  {
   "cell_type": "code",
   "execution_count": 24,
   "metadata": {
    "collapsed": true
   },
   "outputs": [],
   "source": [
    "import warnings\n",
    "warnings.filterwarnings('ignore')"
   ]
  },
  {
   "cell_type": "markdown",
   "metadata": {},
   "source": [
    "Credit to Alex Chan for the following two cells!"
   ]
  },
  {
   "cell_type": "code",
   "execution_count": 53,
   "metadata": {
    "collapsed": false
   },
   "outputs": [
    {
     "name": "stdout",
     "output_type": "stream",
     "text": [
      "JSON files created\n"
     ]
    }
   ],
   "source": [
    "import json\n",
    "import os\n",
    "\n",
    "jsonFiles = [file for file in os.listdir('.') if file.find('json') != -1]\n",
    "\n",
    "txts = []\n",
    "for file in jsonFiles:\n",
    "    with open(file) as f:\n",
    "        data = json.load(f)\n",
    "        \n",
    "    texts = data['gathers']\n",
    "    ids = [text['htitem_id'] for text in texts]\n",
    "    \n",
    "    filename = data['title'] + '.txt'\n",
    "    txts.append(filename)\n",
    "    \n",
    "    #write each id into txt file\n",
    "    with open(filename, 'w') as f:\n",
    "        for textid in ids:\n",
    "            f.write(textid + '\\n')\n",
    "\n",
    "print(\"JSON files created\")"
   ]
  },
  {
   "cell_type": "code",
   "execution_count": 54,
   "metadata": {
    "collapsed": false
   },
   "outputs": [],
   "source": [
    "output = !htid2rsync --f \"Dada Literature.txt\"| rsync -azv --files-from=- data.sharc.hathitrust.org::features/ dada/"
   ]
  },
  {
   "cell_type": "code",
   "execution_count": 55,
   "metadata": {
    "collapsed": false
   },
   "outputs": [],
   "source": [
    "import os\n",
    "\n",
    "paths = {}\n",
    "suffix = \".json.bz2\"\n",
    "filePaths = [path for path in output if path.endswith(suffix)]\n",
    "paths = [os.path.join(\"dada\", path) for path in filePaths]\n",
    "\n",
    "path_file = \"paths.txt\"\n",
    "with open(path_file, \"w\") as f:\n",
    "    for path in paths:\n",
    "        p = str(path) + \"\\n\"\n",
    "        f.write(p)\n",
    "    f.close()"
   ]
  },
  {
   "cell_type": "code",
   "execution_count": 59,
   "metadata": {
    "collapsed": false
   },
   "outputs": [],
   "source": [
    "from htrc_features import FeatureReader\n",
    "\n",
    "with open(path_file, \"r\") as f:\n",
    "    paths = [os.path.join(\"\", line[:len(line)-1]) for line in f.readlines()]\n",
    "    f.close()\n",
    "\n",
    "dada = FeatureReader(paths)"
   ]
  },
  {
   "cell_type": "markdown",
   "metadata": {},
   "source": [
    "dada.volumes() is a collection of Volume objects, each representing a unique work in our collection. Each [Volume object](http://htrc.github.io/htrc-feature-reader/htrc_features/feature_reader.m.html#htrc_features.feature_reader.Volume) has attributes we can access, such as title, author, and, importantly for our purposes, the location of publication."
   ]
  },
  {
   "cell_type": "code",
   "execution_count": null,
   "metadata": {
    "collapsed": false
   },
   "outputs": [],
   "source": [
    "volumes_collection = []\n",
    "\n",
    "for volume in dada.volumes():\n",
    "    volumes_collection.append(volume)"
   ]
  },
  {
   "cell_type": "code",
   "execution_count": null,
   "metadata": {
    "collapsed": true
   },
   "outputs": [],
   "source": []
  },
  {
   "cell_type": "code",
   "execution_count": 35,
   "metadata": {
    "collapsed": false
   },
   "outputs": [
    {
     "name": "stdout",
     "output_type": "stream",
     "text": [
      "Maintenant.\n",
      "Die Kugel.\n",
      "Western art and the new era : an introduction to modern art / by Katherine S. Dreier.\n",
      "The art of thought, by Graham Wallas.\n",
      "An anthology of modern French poetry, by Gustave L. Van Roosbroeck.\n",
      "American poetry since 1900 / by Louis Untermeyer.\n",
      "A.L.A. catalog, 1926; an annotated basic list of 10,000 books.\n",
      "Dada.\n",
      "Vierzehn Briefe Christi : ein Geburtstagsgeschenk für seine Abteilung Ernst Haeckel vom Besitzer des Kabarets zur Blauen Milchstrasse.\n",
      "La dernière Bohème; Verlaine et son milieu. Fantaisie-préface de Rachilde.  4 hors-texte, dessins de: Lita Besnard, G. Braun, F.-A. Cazals, Marie Cazals, Fernand Fau, Florian-Parmentier, Gallien, J. Hilly, Ibels, Jarry, Moréas, Ernest Raynaud, Verlaine.\n",
      "American criticism, 1926,\n",
      "Der Zeltweg.\n"
     ]
    },
    {
     "name": "stderr",
     "output_type": "stream",
     "text": [
      "WARNING:root:This version of the EF dataset has a tokenization bug for Chinese and Japanese.See https://wiki.htrc.illinois.edu/display/COM/Extracted+Features+Dataset#ExtractedFeaturesDataset-issues\n"
     ]
    },
    {
     "name": "stdout",
     "output_type": "stream",
     "text": [
      "Dai shisō ensaikuropejia.\n",
      "Abstracts of theses, science series ... submitted to the faculties of the graduate schools of the University of Chicago for the degree of doctor of philosophy, June 1922-June1923, with abstracts of some theses submitted at an earlier date.\n",
      "Books in black or red.\n",
      "100 Poy cartoons : reprinted from the London \"Evening News\" and \"Daily Mail\".\n",
      "Abstracts of theses, science series ... submitted to the faculties of the graduate schools of the University of Chicago for the degree of doctor of philosophy, June 1922-June1923, with abstracts of some theses submitted at an earlier date.\n"
     ]
    }
   ],
   "source": [
    "#This cell lets us see the titles in the collection\n",
    "for volume in dada.volumes():\n",
    "    print(volume.title)"
   ]
  },
  {
   "cell_type": "code",
   "execution_count": 38,
   "metadata": {
    "collapsed": false
   },
   "outputs": [
    {
     "name": "stdout",
     "output_type": "stream",
     "text": [
      "it \n",
      "lh \n",
      "nyu\n",
      "nyu\n",
      "nyu\n",
      "|||\n",
      "ilu\n",
      "fr \n",
      "gw \n",
      "fr \n",
      "nyu\n",
      "fr \n"
     ]
    },
    {
     "name": "stderr",
     "output_type": "stream",
     "text": [
      "WARNING:root:This version of the EF dataset has a tokenization bug for Chinese and Japanese.See https://wiki.htrc.illinois.edu/display/COM/Extracted+Features+Dataset#ExtractedFeaturesDataset-issues\n"
     ]
    },
    {
     "name": "stdout",
     "output_type": "stream",
     "text": [
      "ja \n",
      "ilu\n",
      "nyu\n",
      "enk\n",
      "ilu\n"
     ]
    }
   ],
   "source": [
    "#This cell prints out the publication locations of books in the collection\n",
    "for volume in fr.volumes():\n",
    "    print(volume.pub_place)"
   ]
  },
  {
   "cell_type": "markdown",
   "metadata": {},
   "source": [
    "For some cities, it is unclear what cities correspond to the abbreviations above. We need a way to map each abbreviation to a city name. "
   ]
  },
  {
   "cell_type": "code",
   "execution_count": 2,
   "metadata": {
    "collapsed": true
   },
   "outputs": [],
   "source": [
    "import json\n",
    "import time\n",
    "import requests\n",
    "\n",
    "\n",
    "def get_coordinates(address):\n",
    "    url = 'http://maps.googleapis.com/maps/api/geocode/json?'\n",
    "    \n",
    "    p = {\"address\": address}\n",
    "\n",
    "    res = requests.get(url, params=p)\n",
    "\n",
    "    response = res.json()\n",
    "    lat_long = response['results'][0]['geometry']['location']\n",
    "\n",
    "    return lat_long"
   ]
  },
  {
   "cell_type": "code",
   "execution_count": 27,
   "metadata": {
    "collapsed": false
   },
   "outputs": [
    {
     "data": {
      "text/plain": [
       "{'lat': 37.8718992, 'lng': -122.2585399}"
      ]
     },
     "execution_count": 27,
     "metadata": {},
     "output_type": "execute_result"
    }
   ],
   "source": [
    "get_coordinates(\"UC Berkeley\")"
   ]
  },
  {
   "cell_type": "code",
   "execution_count": 26,
   "metadata": {
    "collapsed": false
   },
   "outputs": [
    {
     "data": {
      "text/plain": [
       "{'-ac': 'Ashmore and Cartier Islands',\n",
       " '-ai': 'Anguilla',\n",
       " '-air': 'Armenian S.S.R.',\n",
       " '-ajr': 'Azerbaijan S.S.R.',\n",
       " '-bwr': 'Byelorussian S.S.R.',\n",
       " '-cn': 'Canada',\n",
       " '-cp': 'Canton and Enderbury Islands',\n",
       " '-cs': 'Czechoslovakia',\n",
       " '-cz': 'Canal Zone',\n",
       " '-err': 'Estonia',\n",
       " '-ge': 'Germany (East)',\n",
       " '-gn': 'Gilbert and Ellice Islands',\n",
       " '-gsr': 'Georgian S.S.R.',\n",
       " '-hk': 'Hong Kong',\n",
       " '-iu': 'Israel-Syria Demilitarized Zones',\n",
       " '-iw': 'Israel-Jordan Demilitarized Zones',\n",
       " '-jn': 'Jan Mayen',\n",
       " '-kgr': 'Kirghiz S.S.R.',\n",
       " '-kzr': 'Kazakh S.S.R.',\n",
       " '-lir': 'Lithuania',\n",
       " '-ln': 'Central and Southern Line Islands',\n",
       " '-lvr': 'Latvia',\n",
       " '-mh': 'Macao',\n",
       " '-mvr': 'Moldavian S.S.R.',\n",
       " '-na': 'Netherlands Antilles',\n",
       " '-nm': 'Northern Mariana Islands',\n",
       " '-pt': 'Portuguese Timor',\n",
       " '-rur': 'Russian S.F.S.R.',\n",
       " '-ry': 'Ryukyu Islands, Southern',\n",
       " '-sb': 'Svalbard',\n",
       " '-sk': 'Sikkim',\n",
       " '-sv': 'Swan Islands',\n",
       " '-tar': 'Tajik S.S.R.',\n",
       " '-tkr': 'Turkmen S.S.R.',\n",
       " '-tt': 'Trust Territory of the Pacific Islands',\n",
       " '-ui': 'United Kingdom Misc. Islands',\n",
       " '-uk': 'United Kingdom',\n",
       " '-unr': 'Ukraine',\n",
       " '-ur': 'Soviet Union',\n",
       " '-us': 'United States',\n",
       " '-uzr': 'Uzbek S.S.R.',\n",
       " '-vn': 'Vietnam, North',\n",
       " '-vs': 'Vietnam, South',\n",
       " '-wb': 'West Berlin',\n",
       " '-xi': 'Saint Kitts-Nevis-Anguilla',\n",
       " '-xxr': 'Soviet Union',\n",
       " '-ys': \"Yemen (People's Democratic Republic)\",\n",
       " '-yu': 'Serbia and Montenegro',\n",
       " 'aa': 'Albania',\n",
       " 'abc': 'Alberta',\n",
       " 'aca': 'Australian Capital Territory',\n",
       " 'ae': 'Algeria',\n",
       " 'af': 'Afghanistan',\n",
       " 'ag': 'Argentina',\n",
       " 'ai': 'Armenia (Republic)',\n",
       " 'aj': 'Azerbaijan',\n",
       " 'aku': 'Alaska',\n",
       " 'alu': 'Alabama',\n",
       " 'am': 'Anguilla',\n",
       " 'an': 'Andorra',\n",
       " 'ao': 'Angola',\n",
       " 'aq': 'Antigua and Barbuda',\n",
       " 'aru': 'Arkansas',\n",
       " 'as': 'American Samoa',\n",
       " 'at': 'Australia',\n",
       " 'au': 'Austria',\n",
       " 'aw': 'Aruba',\n",
       " 'ay': 'Antarctica',\n",
       " 'azu': 'Arizona',\n",
       " 'ba': 'Bahrain',\n",
       " 'bb': 'Barbados',\n",
       " 'bcc': 'British Columbia',\n",
       " 'bd': 'Burundi',\n",
       " 'be': 'Belgium',\n",
       " 'bf': 'Bahamas',\n",
       " 'bg': 'Bangladesh',\n",
       " 'bh': 'Belize',\n",
       " 'bi': 'British Indian Ocean Territory',\n",
       " 'bl': 'Brazil',\n",
       " 'bm': 'Bermuda Islands',\n",
       " 'bn': 'Bosnia and Herzegovina',\n",
       " 'bo': 'Bolivia',\n",
       " 'bp': 'Solomon Islands',\n",
       " 'br': 'Burma',\n",
       " 'bs': 'Botswana',\n",
       " 'bt': 'Bhutan',\n",
       " 'bu': 'Bulgaria',\n",
       " 'bv': 'Bouvet Island',\n",
       " 'bw': 'Belarus',\n",
       " 'bx': 'Brunei',\n",
       " 'ca': 'Caribbean Netherlands',\n",
       " 'cau': 'California',\n",
       " 'cb': 'Cambodia',\n",
       " 'cc': 'China',\n",
       " 'cd': 'Chad',\n",
       " 'ce': 'Sri Lanka',\n",
       " 'cf': 'Congo (Brazzaville)',\n",
       " 'cg': 'Congo (Democratic Republic)',\n",
       " 'ch': 'China (Republic : 1949- )',\n",
       " 'ci': 'Croatia',\n",
       " 'cj': 'Cayman Islands',\n",
       " 'ck': 'Colombia',\n",
       " 'cl': 'Chile',\n",
       " 'cm': 'Cameroon',\n",
       " 'co': 'Curaçao',\n",
       " 'cou': 'Colorado',\n",
       " 'cq': 'Comoros',\n",
       " 'cr': 'Costa Rica',\n",
       " 'ctu': 'Connecticut',\n",
       " 'cu': 'Cuba',\n",
       " 'cv': 'Cabo Verde',\n",
       " 'cw': 'Cook Islands',\n",
       " 'cx': 'Central African Republic',\n",
       " 'cy': 'Cyprus',\n",
       " 'dcu': 'District of Columbia',\n",
       " 'deu': 'Delaware',\n",
       " 'dk': 'Denmark',\n",
       " 'dm': 'Benin',\n",
       " 'dq': 'Dominica',\n",
       " 'dr': 'Dominican Republic',\n",
       " 'ea': 'Eritrea',\n",
       " 'ec': 'Ecuador',\n",
       " 'eg': 'Equatorial Guinea',\n",
       " 'em': 'Timor-Leste',\n",
       " 'enk': 'England',\n",
       " 'er': 'Estonia',\n",
       " 'es': 'El Salvador',\n",
       " 'et': 'Ethiopia',\n",
       " 'fa': 'Faroe Islands',\n",
       " 'fg': 'French Guiana',\n",
       " 'fi': 'Finland',\n",
       " 'fj': 'Fiji',\n",
       " 'fk': 'Falkland Islands',\n",
       " 'flu': 'Florida',\n",
       " 'fm': 'Micronesia (Federated States)',\n",
       " 'fp': 'French Polynesia',\n",
       " 'fr': 'France',\n",
       " 'fs': 'Terres australes et antarctiques françaises',\n",
       " 'ft': 'Djibouti',\n",
       " 'gau': 'Georgia',\n",
       " 'gb': 'Kiribati',\n",
       " 'gd': 'Grenada',\n",
       " 'gh': 'Ghana',\n",
       " 'gi': 'Gibraltar',\n",
       " 'gl': 'Greenland',\n",
       " 'gm': 'Gambia',\n",
       " 'go': 'Gabon',\n",
       " 'gp': 'Guadeloupe',\n",
       " 'gr': 'Greece',\n",
       " 'gs': 'Georgia (Republic)',\n",
       " 'gt': 'Guatemala',\n",
       " 'gu': 'Guam',\n",
       " 'gv': 'Guinea',\n",
       " 'gw': 'Germany',\n",
       " 'gy': 'Guyana',\n",
       " 'gz': 'Gaza Strip',\n",
       " 'hiu': 'Hawaii',\n",
       " 'hm': 'Heard and McDonald Islands',\n",
       " 'ho': 'Honduras',\n",
       " 'ht': 'Haiti',\n",
       " 'hu': 'Hungary',\n",
       " 'iau': 'Iowa',\n",
       " 'ic': 'Iceland',\n",
       " 'idu': 'Idaho',\n",
       " 'ie': 'Ireland',\n",
       " 'ii': 'India',\n",
       " 'ilu': 'Illinois',\n",
       " 'inu': 'Indiana',\n",
       " 'io': 'Indonesia',\n",
       " 'iq': 'Iraq',\n",
       " 'ir': 'Iran',\n",
       " 'is': 'Israel',\n",
       " 'it': 'Italy',\n",
       " 'iv': \"Côte d'Ivoire\",\n",
       " 'iy': 'Iraq-Saudi Arabia Neutral Zone',\n",
       " 'ja': 'Japan',\n",
       " 'ji': 'Johnston Atoll',\n",
       " 'jm': 'Jamaica',\n",
       " 'jo': 'Jordan',\n",
       " 'ke': 'Kenya',\n",
       " 'kg': 'Kyrgyzstan',\n",
       " 'kn': 'Korea (North)',\n",
       " 'ko': 'Korea (South)',\n",
       " 'ksu': 'Kansas',\n",
       " 'ku': 'Kuwait',\n",
       " 'kv': 'Kosovo',\n",
       " 'kyu': 'Kentucky',\n",
       " 'kz': 'Kazakhstan',\n",
       " 'lau': 'Louisiana',\n",
       " 'lb': 'Liberia',\n",
       " 'le': 'Lebanon',\n",
       " 'lh': 'Liechtenstein',\n",
       " 'li': 'Lithuania',\n",
       " 'lo': 'Lesotho',\n",
       " 'ls': 'Laos',\n",
       " 'lu': 'Luxembourg',\n",
       " 'lv': 'Latvia',\n",
       " 'ly': 'Libya',\n",
       " 'mau': 'Massachusetts',\n",
       " 'mbc': 'Manitoba',\n",
       " 'mc': 'Monaco',\n",
       " 'mdu': 'Maryland',\n",
       " 'meu': 'Maine',\n",
       " 'mf': 'Mauritius',\n",
       " 'mg': 'Madagascar',\n",
       " 'miu': 'Michigan',\n",
       " 'mj': 'Montserrat',\n",
       " 'mk': 'Oman',\n",
       " 'ml': 'Mali',\n",
       " 'mm': 'Malta',\n",
       " 'mnu': 'Minnesota',\n",
       " 'mo': 'Montenegro',\n",
       " 'mou': 'Missouri',\n",
       " 'mp': 'Mongolia',\n",
       " 'mq': 'Martinique',\n",
       " 'mr': 'Morocco',\n",
       " 'msu': 'Mississippi',\n",
       " 'mtu': 'Montana',\n",
       " 'mu': 'Mauritania',\n",
       " 'mv': 'Moldova',\n",
       " 'mw': 'Malawi',\n",
       " 'mx': 'Mexico',\n",
       " 'my': 'Malaysia',\n",
       " 'mz': 'Mozambique',\n",
       " 'nbu': 'Nebraska',\n",
       " 'ncu': 'North Carolina',\n",
       " 'ndu': 'North Dakota',\n",
       " 'ne': 'Netherlands',\n",
       " 'nfc': 'Newfoundland and Labrador',\n",
       " 'ng': 'Niger',\n",
       " 'nhu': 'New Hampshire',\n",
       " 'nik': 'Northern Ireland',\n",
       " 'nju': 'New Jersey',\n",
       " 'nkc': 'New Brunswick',\n",
       " 'nl': 'New Caledonia',\n",
       " 'nmu': 'New Mexico',\n",
       " 'nn': 'Vanuatu',\n",
       " 'no': 'Norway',\n",
       " 'np': 'Nepal',\n",
       " 'nq': 'Nicaragua',\n",
       " 'nr': 'Nigeria',\n",
       " 'nsc': 'Nova Scotia',\n",
       " 'ntc': 'Northwest Territories',\n",
       " 'nu': 'Nauru',\n",
       " 'nuc': 'Nunavut',\n",
       " 'nvu': 'Nevada',\n",
       " 'nw': 'Northern Mariana Islands',\n",
       " 'nx': 'Norfolk Island',\n",
       " 'nyu': 'New York (State)',\n",
       " 'nz': 'New Zealand',\n",
       " 'ohu': 'Ohio',\n",
       " 'oku': 'Oklahoma',\n",
       " 'onc': 'Ontario',\n",
       " 'oru': 'Oregon',\n",
       " 'ot': 'Mayotte',\n",
       " 'pau': 'Pennsylvania',\n",
       " 'pc': 'Pitcairn Island',\n",
       " 'pe': 'Peru',\n",
       " 'pf': 'Paracel Islands',\n",
       " 'pg': 'Guinea-Bissau',\n",
       " 'ph': 'Philippines',\n",
       " 'pic': 'Prince Edward Island',\n",
       " 'pk': 'Pakistan',\n",
       " 'pl': 'Poland',\n",
       " 'pn': 'Panama',\n",
       " 'po': 'Portugal',\n",
       " 'pp': 'Papua New Guinea',\n",
       " 'pr': 'Puerto Rico',\n",
       " 'pw': 'Palau',\n",
       " 'py': 'Paraguay',\n",
       " 'qa': 'Qatar',\n",
       " 'qea': 'Queensland',\n",
       " 'quc': 'Québec (Province)',\n",
       " 'rb': 'Serbia',\n",
       " 're': 'Réunion',\n",
       " 'rh': 'Zimbabwe',\n",
       " 'riu': 'Rhode Island',\n",
       " 'rm': 'Romania',\n",
       " 'ru': 'Russia (Federation)',\n",
       " 'rw': 'Rwanda',\n",
       " 'sa': 'South Africa',\n",
       " 'sc': 'Saint-Barthélemy',\n",
       " 'scu': 'South Carolina',\n",
       " 'sd': 'South Sudan',\n",
       " 'sdu': 'South Dakota',\n",
       " 'se': 'Seychelles',\n",
       " 'sf': 'Sao Tome and Principe',\n",
       " 'sg': 'Senegal',\n",
       " 'sh': 'Spanish North Africa',\n",
       " 'si': 'Singapore',\n",
       " 'sj': 'Sudan',\n",
       " 'sl': 'Sierra Leone',\n",
       " 'sm': 'San Marino',\n",
       " 'sn': 'Sint Maarten',\n",
       " 'snc': 'Saskatchewan',\n",
       " 'so': 'Somalia',\n",
       " 'sp': 'Spain',\n",
       " 'sq': 'Swaziland',\n",
       " 'sr': 'Surinam',\n",
       " 'ss': 'Western Sahara',\n",
       " 'st': 'Saint-Martin',\n",
       " 'stk': 'Scotland',\n",
       " 'su': 'Saudi Arabia',\n",
       " 'sw': 'Sweden',\n",
       " 'sx': 'Namibia',\n",
       " 'sy': 'Syria',\n",
       " 'sz': 'Switzerland',\n",
       " 'ta': 'Tajikistan',\n",
       " 'tc': 'Turks and Caicos Islands',\n",
       " 'tg': 'Togo',\n",
       " 'th': 'Thailand',\n",
       " 'ti': 'Tunisia',\n",
       " 'tk': 'Turkmenistan',\n",
       " 'tl': 'Tokelau',\n",
       " 'tma': 'Tasmania',\n",
       " 'tnu': 'Tennessee',\n",
       " 'to': 'Tonga',\n",
       " 'tr': 'Trinidad and Tobago',\n",
       " 'ts': 'United Arab Emirates',\n",
       " 'tu': 'Turkey',\n",
       " 'tv': 'Tuvalu',\n",
       " 'txu': 'Texas',\n",
       " 'tz': 'Tanzania',\n",
       " 'ua': 'Egypt',\n",
       " 'uc': 'United States Misc. Caribbean Islands',\n",
       " 'ug': 'Uganda',\n",
       " 'uik': 'United Kingdom Misc. Islands',\n",
       " 'un': 'Ukraine',\n",
       " 'up': 'United States Misc. Pacific Islands',\n",
       " 'utu': 'Utah',\n",
       " 'uv': 'Burkina Faso',\n",
       " 'uy': 'Uruguay',\n",
       " 'uz': 'Uzbekistan',\n",
       " 'vau': 'Virginia',\n",
       " 'vb': 'British Virgin Islands',\n",
       " 'vc': 'Vatican City',\n",
       " 've': 'Venezuela',\n",
       " 'vi': 'Virgin Islands of the United States',\n",
       " 'vm': 'Vietnam',\n",
       " 'vp': 'Various places',\n",
       " 'vra': 'Victoria',\n",
       " 'vtu': 'Vermont',\n",
       " 'wau': 'Washington (State)',\n",
       " 'wea': 'Western Australia',\n",
       " 'wf': 'Wallis and Futuna',\n",
       " 'wiu': 'Wisconsin',\n",
       " 'wj': 'West Bank of the Jordan River',\n",
       " 'wk': 'Wake Island',\n",
       " 'wlk': 'Wales',\n",
       " 'ws': 'Samoa',\n",
       " 'wvu': 'West Virginia',\n",
       " 'wyu': 'Wyoming',\n",
       " 'xa': 'Christmas Island (Indian Ocean)',\n",
       " 'xb': 'Cocos (Keeling) Islands',\n",
       " 'xc': 'Maldives',\n",
       " 'xd': 'Saint Kitts-Nevis',\n",
       " 'xe': 'Marshall Islands',\n",
       " 'xf': 'Midway Islands',\n",
       " 'xga': 'Coral Sea Islands Territory',\n",
       " 'xh': 'Niue',\n",
       " 'xj': 'Saint Helena',\n",
       " 'xk': 'Saint Lucia',\n",
       " 'xl': 'Saint Pierre and Miquelon',\n",
       " 'xm': 'Saint Vincent and the Grenadines',\n",
       " 'xn': 'Macedonia',\n",
       " 'xna': 'New South Wales',\n",
       " 'xo': 'Slovakia',\n",
       " 'xoa': 'Northern Territory',\n",
       " 'xp': 'Spratly Island',\n",
       " 'xr': 'Czech Republic',\n",
       " 'xra': 'South Australia',\n",
       " 'xs': 'South Georgia and the South Sandwich Islands',\n",
       " 'xv': 'Slovenia',\n",
       " 'xx': 'No place, unknown, or undetermined',\n",
       " 'xxc': 'Canada',\n",
       " 'xxk': 'United Kingdom',\n",
       " 'xxu': 'United States',\n",
       " 'ye': 'Yemen',\n",
       " 'ykc': 'Yukon Territory',\n",
       " 'za': 'Zambia'}"
      ]
     },
     "execution_count": 26,
     "metadata": {},
     "output_type": "execute_result"
    }
   ],
   "source": [
    "with open('marc-codes.txt', 'r') as f:\n",
    "    raw = f.read()\n",
    "    \n",
    "marc_codes = {line.split('\\t')[0]:line.split('\\t')[1] for line in raw.split('\\n')}\n",
    "marc_codes"
   ]
  },
  {
   "cell_type": "code",
   "execution_count": null,
   "metadata": {
    "collapsed": true
   },
   "outputs": [],
   "source": []
  }
 ],
 "metadata": {
  "anaconda-cloud": {},
  "kernelspec": {
   "display_name": "Python [default]",
   "language": "python",
   "name": "python3"
  },
  "language_info": {
   "codemirror_mode": {
    "name": "ipython",
    "version": 3
   },
   "file_extension": ".py",
   "mimetype": "text/x-python",
   "name": "python",
   "nbconvert_exporter": "python",
   "pygments_lexer": "ipython3",
   "version": "3.5.2"
  }
 },
 "nbformat": 4,
 "nbformat_minor": 1
}
