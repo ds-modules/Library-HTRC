{
 "cells": [
  {
   "cell_type": "code",
   "execution_count": 1,
   "metadata": {
    "collapsed": false
   },
   "outputs": [
    {
     "name": "stdout",
     "output_type": "stream",
     "text": [
      "Requirement already satisfied: geopy in c:\\users\\sasank lenovo pc\\anaconda3\\envs\\ds100\\lib\\site-packages\n"
     ]
    }
   ],
   "source": [
    "!pip install geopy"
   ]
  },
  {
   "cell_type": "code",
   "execution_count": 8,
   "metadata": {
    "collapsed": true
   },
   "outputs": [],
   "source": [
    "from geopy.geocoders import Nominatim\n",
    "geolocator = Nominatim()\n",
    "location = geolocator.geocode(\"India\")"
   ]
  },
  {
   "cell_type": "code",
   "execution_count": 9,
   "metadata": {
    "collapsed": false
   },
   "outputs": [
    {
     "data": {
      "text/plain": [
       "'India'"
      ]
     },
     "execution_count": 9,
     "metadata": {},
     "output_type": "execute_result"
    }
   ],
   "source": [
    "location.address"
   ]
  },
  {
   "cell_type": "code",
   "execution_count": 10,
   "metadata": {
    "collapsed": false
   },
   "outputs": [
    {
     "data": {
      "text/plain": [
       "{'boundingbox': ['6.5546079', '35.6745457', '68.1113787', '97.395561'],\n",
       " 'class': 'boundary',\n",
       " 'display_name': 'India',\n",
       " 'icon': 'https://nominatim.openstreetmap.org/images/mapicons/poi_boundary_administrative.p.20.png',\n",
       " 'importance': 0.96342751526599,\n",
       " 'lat': '22.3511148',\n",
       " 'licence': 'Data © OpenStreetMap contributors, ODbL 1.0. http://www.openstreetmap.org/copyright',\n",
       " 'lon': '78.6677428',\n",
       " 'osm_id': '304716',\n",
       " 'osm_type': 'relation',\n",
       " 'place_id': '173381099',\n",
       " 'type': 'administrative'}"
      ]
     },
     "execution_count": 10,
     "metadata": {},
     "output_type": "execute_result"
    }
   ],
   "source": [
    "location.raw"
   ]
  },
  {
   "cell_type": "code",
   "execution_count": 11,
   "metadata": {
    "collapsed": true
   },
   "outputs": [],
   "source": [
    "import json\n",
    "import time\n",
    "import requests\n",
    "\n",
    "# This function will assign a lat, lon coordinate to every location name in our table\n",
    "def get_coordinates(address):\n",
    "    url = 'http://maps.googleapis.com/maps/api/geocode/json?'\n",
    "    \n",
    "    p = {\"address\": address}\n",
    "\n",
    "    res = requests.get(url, params=p)\n",
    "\n",
    "    response = res.json()\n",
    "    lat_long = response['results'][0]['geometry']['location']\n",
    "\n",
    "    return lat_long"
   ]
  },
  {
   "cell_type": "code",
   "execution_count": 12,
   "metadata": {
    "collapsed": false
   },
   "outputs": [
    {
     "data": {
      "text/plain": [
       "{'lat': 37.8718992, 'lng': -122.2585399}"
      ]
     },
     "execution_count": 12,
     "metadata": {},
     "output_type": "execute_result"
    }
   ],
   "source": [
    "get_coordinates(\"UC Berkeley\")"
   ]
  },
  {
   "cell_type": "code",
   "execution_count": null,
   "metadata": {
    "collapsed": true
   },
   "outputs": [],
   "source": [
    "lat_list = np.array([])\n",
    "lon_list = np.array([])\n",
    "name_list = np.array([])\n",
    "abbrv_list = np.array([])\n",
    "\n",
    "for i in range (0, locations.shape[0]):\n",
    "    name = locations[\"Location Name\"][i]\n",
    "    abbrv = locations[\"Abbreviation\"][i]\n",
    "    try:\n",
    "        name_coordinates = get_coordinates(name)\n",
    "        lat, lon = name_coordinates[\"lat\"], name_coordinates[\"lng\"]\n",
    "        lat_list = np.append(lat_list, lat)\n",
    "        lon_list = np.append(lon_list, lon)\n",
    "        name_list = np.append(name_list, name)\n",
    "        abbrv_list = np.append(abbrv_list, abbrv)\n",
    "    except:\n",
    "        print(name)"
   ]
  },
  {
   "cell_type": "code",
   "execution_count": null,
   "metadata": {
    "collapsed": true
   },
   "outputs": [],
   "source": []
  },
  {
   "cell_type": "code",
   "execution_count": null,
   "metadata": {
    "collapsed": true
   },
   "outputs": [],
   "source": []
  }
 ],
 "metadata": {
  "kernelspec": {
   "display_name": "Python 3",
   "language": "python",
   "name": "python3"
  },
  "language_info": {
   "codemirror_mode": {
    "name": "ipython",
    "version": 3
   },
   "file_extension": ".py",
   "mimetype": "text/x-python",
   "name": "python",
   "nbconvert_exporter": "python",
   "pygments_lexer": "ipython3",
   "version": "3.5.2"
  }
 },
 "nbformat": 4,
 "nbformat_minor": 2
}
