{
 "cells": [
  {
   "cell_type": "code",
   "execution_count": 1,
   "metadata": {
    "collapsed": false
   },
   "outputs": [
    {
     "name": "stdout",
     "output_type": "stream",
     "text": [
      "Requirement already satisfied: geopy in c:\\users\\sasank lenovo pc\\anaconda3\\envs\\ds100\\lib\\site-packages\n"
     ]
    }
   ],
   "source": [
    "!pip install geopy"
   ]
  },
  {
   "cell_type": "code",
   "execution_count": 8,
   "metadata": {
    "collapsed": true
   },
   "outputs": [],
   "source": [
    "from geopy.geocoders import Nominatim\n",
    "geolocator = Nominatim()\n",
    "location = geolocator.geocode(\"India\")"
   ]
  },
  {
   "cell_type": "code",
   "execution_count": 9,
   "metadata": {
    "collapsed": false
   },
   "outputs": [
    {
     "data": {
      "text/plain": [
       "'India'"
      ]
     },
     "execution_count": 9,
     "metadata": {},
     "output_type": "execute_result"
    }
   ],
   "source": [
    "location.address"
   ]
  },
  {
   "cell_type": "code",
   "execution_count": 10,
   "metadata": {
    "collapsed": false
   },
   "outputs": [
    {
     "data": {
      "text/plain": [
       "{'boundingbox': ['6.5546079', '35.6745457', '68.1113787', '97.395561'],\n",
       " 'class': 'boundary',\n",
       " 'display_name': 'India',\n",
       " 'icon': 'https://nominatim.openstreetmap.org/images/mapicons/poi_boundary_administrative.p.20.png',\n",
       " 'importance': 0.96342751526599,\n",
       " 'lat': '22.3511148',\n",
       " 'licence': 'Data © OpenStreetMap contributors, ODbL 1.0. http://www.openstreetmap.org/copyright',\n",
       " 'lon': '78.6677428',\n",
       " 'osm_id': '304716',\n",
       " 'osm_type': 'relation',\n",
       " 'place_id': '173381099',\n",
       " 'type': 'administrative'}"
      ]
     },
     "execution_count": 10,
     "metadata": {},
     "output_type": "execute_result"
    }
   ],
   "source": [
    "location.raw"
   ]
  },
  {
   "cell_type": "code",
   "execution_count": 11,
   "metadata": {
    "collapsed": true
   },
   "outputs": [],
   "source": [
    "import json\n",
    "import time\n",
    "import requests\n",
    "\n",
    "# This function will assign a lat, lon coordinate to every location name in our table\n",
    "def get_coordinates(address):\n",
    "    url = 'http://maps.googleapis.com/maps/api/geocode/json?'\n",
    "    \n",
    "    p = {\"address\": address}\n",
    "\n",
    "    res = requests.get(url, params=p)\n",
    "\n",
    "    response = res.json()\n",
    "    lat_long = response['results'][0]['geometry']['location']\n",
    "\n",
    "    return lat_long"
   ]
  },
  {
   "cell_type": "code",
   "execution_count": 12,
   "metadata": {
    "collapsed": false
   },
   "outputs": [
    {
     "data": {
      "text/plain": [
       "{'lat': 37.8718992, 'lng': -122.2585399}"
      ]
     },
     "execution_count": 12,
     "metadata": {},
     "output_type": "execute_result"
    }
   ],
   "source": [
    "get_coordinates(\"UC Berkeley\")"
   ]
  },
  {
   "cell_type": "code",
   "execution_count": null,
   "metadata": {
    "collapsed": true
   },
   "outputs": [],
   "source": [
    "lat_list = np.array([])\n",
    "lon_list = np.array([])\n",
    "name_list = np.array([])\n",
    "abbrv_list = np.array([])\n",
    "\n",
    "for i in range (0, locations.shape[0]):\n",
    "    name = locations[\"Location Name\"][i]\n",
    "    abbrv = locations[\"Abbreviation\"][i]\n",
    "    try:\n",
    "        name_coordinates = get_coordinates(name)\n",
    "        lat, lon = name_coordinates[\"lat\"], name_coordinates[\"lng\"]\n",
    "        lat_list = np.append(lat_list, lat)\n",
    "        lon_list = np.append(lon_list, lon)\n",
    "        name_list = np.append(name_list, name)\n",
    "        abbrv_list = np.append(abbrv_list, abbrv)\n",
    "    except:\n",
    "        print(name)"
   ]
  },
  {
   "cell_type": "code",
   "execution_count": null,
   "metadata": {
    "collapsed": true
   },
   "outputs": [],
   "source": [
    "######################NOTE: NOT CHANGED#######################################\n",
    "plt.title(\"Dada Publication Places in the Contiguous US\", fontsize=12)\n",
    "\n",
    "us_locations_map.drawmapboundary(fill_color = \"#46bcec\") #Fills in the oceans\n",
    "us_locations_map.fillcontinents(color = \"#eabc77\", lake_color=\"#46bcec\") #Defines the continents\n",
    "us_locations_map.drawcoastlines()\n",
    "\n",
    "fig = matplotlib.pyplot.gcf()\n",
    "fig.set_size_inches(12.5, 8.5) #Sets the size of the map\n",
    "\n",
    "lons, lats = us_locations_map(us_locations[\"Longitude\"], us_locations[\"Latitude\"]) #Converts the coordinates to map points\n",
    "us_locations_map.scatter(lons, lats, color =\"black\", zorder=10) #Draws the points on the map\n",
    "\n",
    "#Labels each point with the location name\n",
    "for i in range(0, us_locations.shape[0]):\n",
    "    lat_lon = (us_locations[\"Longitude\"][i] + .2, us_locations[\"Latitude\"][i])\n",
    "    plt.annotate(np.array(us_locations[\"Location Name\"])[i], lat_lon, fontsize=7)\n",
    "################################################################################# \n",
    "\n",
    "#Here we are reading in a shape file, which contains the boundary information for our Basemap \n",
    "#us_locations_map.readshapefile(\"shapefiles/cb_2016_us_state_20m\", \"us_states\")\n",
    "us_locations_map.readshapefile(\"shapefiles/st99_d00\", \"us_states\")\n",
    "\n",
    "\n",
    "state_names = []\n",
    "for shape_dict in us_locations_map.us_states_info:\n",
    "    state_names.append(shape_dict['NAME'])\n",
    "    \n",
    "ax = plt.gca() # get current axes instance\n",
    "\n",
    "#seg = us_locations_map.us_states[state_names.index(\"\")]\n",
    "#poly = Polygon(seg, facecolor='red',edgecolor='red')\n",
    "#ax.add_patch(poly)\n",
    "\n",
    "for state in us_locations[\"Location Name\"]:\n",
    "    s_name = state.rstrip(\" \")\n",
    "    if s_name.endswith(\"(State)\"):\n",
    "        s_name = state.rstrip(\" (State)\")\n",
    "        \n",
    "    seg = us_locations_map.us_states[state_names.index(s_name)]\n",
    "    poly = Polygon(seg, facecolor='#f4b342',edgecolor='red')\n",
    "    ax.add_patch(poly)\n",
    "\n",
    "#     while (s_name in state_names):\n",
    "#         seg = us_locations_map.us_states[state_names.index(s_name)]\n",
    "#         state_names.remove(s_name)\n",
    "#         poly = Polygon(seg, facecolor = \"#f4b342\", edgecolor = \"black\")\n",
    "#         ax.add_patch(poly)"
   ]
  },
  {
   "cell_type": "code",
   "execution_count": null,
   "metadata": {
    "collapsed": true
   },
   "outputs": [],
   "source": []
  }
 ],
 "metadata": {
  "kernelspec": {
   "display_name": "Python 3",
   "language": "python",
   "name": "python3"
  },
  "language_info": {
   "codemirror_mode": {
    "name": "ipython",
    "version": 3
   },
   "file_extension": ".py",
   "mimetype": "text/x-python",
   "name": "python",
   "nbconvert_exporter": "python",
   "pygments_lexer": "ipython3",
   "version": "3.5.2"
  }
 },
 "nbformat": 4,
 "nbformat_minor": 2
}
