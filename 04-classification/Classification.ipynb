{
 "cells": [
  {
   "cell_type": "markdown",
   "metadata": {},
   "source": [
    "## Classification\n",
    "\n",
    "This notebook demonstrates some of the classification tasks that can be accomplished using data retrieved from the HTRC API.\n",
    "\n",
    "We will be using the Scikit Learn library to tackle these classification problems. Install the library using pip:\n",
    "```\n",
    "   pip install sklearn\n",
    "```\n",
    "\n",
    "For these examples, we will be gathering data using the advance search from the Hathi Trust library. To create your training set, determine a search query that will become your labels. Once you search, add the search results to a collection named after your label.\n",
    "\n",
    "Once you have completed adding to your collection, go to \"My Collections\" under ____. There you will find a button called \"Download Metadata\".\n",
    "\n",
    "Download the JSON file associated with your collection and place it in the local directory that you are working in."
   ]
  },
  {
   "cell_type": "code",
   "execution_count": 5,
   "metadata": {
    "collapsed": true
   },
   "outputs": [],
   "source": [
    "import json\n",
    "import os\n",
    "\n",
    "jsonFiles = [file for file in os.listdir('.') if file.find('json') != -1]\n",
    "\n",
    "txts = []\n",
    "for file in jsonFiles:\n",
    "    with open(file) as f:\n",
    "        data = json.load(f)\n",
    "        \n",
    "    texts = data['gathers']\n",
    "    ids = [text['htitem_id'] for text in texts]\n",
    "    \n",
    "    filename = data['title'] + '.txt'\n",
    "    txts.append(filename)\n",
    "    \n",
    "    #write each id into txt file\n",
    "    with open(filename, 'w') as f:\n",
    "        for textid in ids:\n",
    "            f.write(textid + '\\n')\n",
    "\n",
    "print(\"JSON files created\")"
   ]
  },
  {
   "cell_type": "markdown",
   "metadata": {},
   "source": [
    "Once this step is complete, you can follow the instructions in the Setup notebook to load the data as needed."
   ]
  },
  {
   "cell_type": "markdown",
   "metadata": {},
   "source": [
    "## Task 1: Genre Classification\n",
    "\n",
    "In this example, we'll be classifying texts into 3 different genres: Poetry, History, and Science Fiction. JSON files containing the metadata for 500 texts in each genre have been included."
   ]
  },
  {
   "cell_type": "code",
   "execution_count": 25,
   "metadata": {
    "collapsed": false
   },
   "outputs": [
    {
     "name": "stdout",
     "output_type": "stream",
     "text": [
      "['[sandbox] Welcome to the HathiTrust Research Center rsync server.', '', 'receiving file list ... ', 'rsync: link_stat \"uva/pairtree_root/x0/30/52/63/54/x030526354/uva.x030526354.json.bz2\" (in features) failed: No such file or directory (2)', 'rsync: link_stat \"uva/pairtree_root/x0/30/20/49/71/x030204971/uva.x030204971.json.bz2\" (in features) failed: No such file or directory (2)', 'rsync: link_stat \"osu/pairtree_root/32/43/50/75/58/68/83/32435075586883/osu.32435075586883.json.bz2\" (in features) failed: No such file or directory (2)', 'rsync: link_stat \"osu/pairtree_root/32/43/50/75/58/67/35/32435075586735/osu.32435075586735.json.bz2\" (in features) failed: No such file or directory (2)', 'rsync: link_stat \"osu/pairtree_root/32/43/50/24/29/71/45/32435024297145/osu.32435024297145.json.bz2\" (in features) failed: No such file or directory (2)', 'rsync: link_stat \"osu/pairtree_root/32/43/50/24/29/71/37/32435024297137/osu.32435024297137.json.bz2\" (in features) failed: No such file or directory (2)', 'rsync: link_stat \"uc1/pairtree_root/c0/95/72/39/45/c095723945/uc1.c095723945.json.bz2\" (in features) failed: No such file or directory (2)', 'rsync: link_stat \"uva/pairtree_root/x0/04/79/56/46/x004795646/uva.x004795646.json.bz2\" (in features) failed: No such file or directory (2)', 'rsync: link_stat \"uva/pairtree_root/x0/00/43/22/70/x000432270/uva.x000432270.json.bz2\" (in features) failed: No such file or directory (2)', 'rsync: link_stat \"uiuo/pairtree_root/ar/k+/=1/39/60/=t/3v/t7/1m/4q/ark+=13960=t3vt71m4q/uiuo.ark+=13960=t3vt71m4q.json.bz2\" (in features) failed: No such file or directory (2)', 'rsync: link_stat \"uva/pairtree_root/x0/04/12/68/10/x004126810/uva.x004126810.json.bz2\" (in features) failed: No such file or directory (2)', 'rsync: link_stat \"uc1/pairtree_root/31/21/00/02/72/95/39/31210002729539/uc1.31210002729539.json.bz2\" (in features) failed: No such file or directory (2)', 'rsync: link_stat \"uva/pairtree_root/x0/04/39/08/60/x004390860/uva.x004390860.json.bz2\" (in features) failed: No such file or directory (2)', 'rsync: link_stat \"uiug/pairtree_root/30/11/21/17/66/78/47/30112117667847/uiug.30112117667847.json.bz2\" (in features) failed: No such file or directory (2)', 'rsync: link_stat \"uc1/pairtree_root/31/21/00/23/56/99/14/31210023569914/uc1.31210023569914.json.bz2\" (in features) failed: No such file or directory (2)', 'rsync: link_stat \"uc1/pairtree_root/l0/05/27/68/37/1/l0052768371/uc1.l0052768371.json.bz2\" (in features) failed: No such file or directory (2)', 'rsync: link_stat \"txu/pairtree_root/05/91/73/01/79/55/42/1/059173017955421/txu.059173017955421.json.bz2\" (in features) failed: No such file or directory (2)', 'rsync: link_stat \"ien/pairtree_root/35/55/60/08/87/11/21/35556008871121/ien.35556008871121.json.bz2\" (in features) failed: No such file or directory (2)', 'rsync: link_stat \"chi/pairtree_root/44/33/75/84/44337584/chi.44337584.json.bz2\" (in features) failed: No such file or directory (2)', 'rsync: link_stat \"uva/pairtree_root/x0/02/17/59/13/x002175913/uva.x002175913.json.bz2\" (in features) failed: No such file or directory (2)', 'rsync: link_stat \"uva/pairtree_root/x0/02/17/59/29/x002175929/uva.x002175929.json.bz2\" (in features) failed: No such file or directory (2)', 'rsync: link_stat \"uva/pairtree_root/x0/30/22/64/42/x030226442/uva.x030226442.json.bz2\" (in features) failed: No such file or directory (2)', 'rsync: link_stat \"uva/pairtree_root/x0/04/45/61/17/x004456117/uva.x004456117.json.bz2\" (in features) failed: No such file or directory (2)', 'rsync: link_stat \"uva/pairtree_root/x0/30/22/64/46/x030226446/uva.x030226446.json.bz2\" (in features) failed: No such file or directory (2)', 'rsync: link_stat \"uva/pairtree_root/x0/30/22/64/47/x030226447/uva.x030226447.json.bz2\" (in features) failed: No such file or directory (2)', 'rsync: link_stat \"uva/pairtree_root/x0/30/59/98/81/x030599881/uva.x030599881.json.bz2\" (in features) failed: No such file or directory (2)', 'rsync: link_stat \"uva/pairtree_root/x0/02/57/86/66/x002578666/uva.x002578666.json.bz2\" (in features) failed: No such file or directory (2)', 'rsync: link_stat \"uva/pairtree_root/x0/06/03/94/78/x006039478/uva.x006039478.json.bz2\" (in features) failed: No such file or directory (2)', 'rsync: link_stat \"uva/pairtree_root/x0/06/05/84/24/x006058424/uva.x006058424.json.bz2\" (in features) failed: No such file or directory (2)', 'rsync: link_stat \"uva/pairtree_root/x0/06/10/75/27/x006107527/uva.x006107527.json.bz2\" (in features) failed: No such file or directory (2)', 'rsync: link_stat \"uva/pairtree_root/x0/04/75/85/63/x004758563/uva.x004758563.json.bz2\" (in features) failed: No such file or directory (2)', 'rsync: link_stat \"chi/pairtree_root/09/07/21/78/5/090721785/chi.090721785.json.bz2\" (in features) failed: No such file or directory (2)', 'rsync: link_stat \"uc1/pairtree_root/31/21/00/24/88/11/10/31210024881110/uc1.31210024881110.json.bz2\" (in features) failed: No such file or directory (2)', 'rsync: link_stat \"mdp/pairtree_root/39/01/50/57/60/86/82/39015057608682/mdp.39015057608682.json.bz2\" (in features) failed: No such file or directory (2)', 'rsync: link_stat \"uc1/pairtree_root/l0/06/52/10/44/5/l0065210445/uc1.l0065210445.json.bz2\" (in features) failed: No such file or directory (2)', 'rsync: link_stat \"uc1/pairtree_root/l0/06/86/57/42/8/l0068657428/uc1.l0068657428.json.bz2\" (in features) failed: No such file or directory (2)', 'rsync: link_stat \"uva/pairtree_root/x0/30/74/21/09/x030742109/uva.x030742109.json.bz2\" (in features) failed: No such file or directory (2)', 'rsync: link_stat \"osu/pairtree_root/32/43/50/31/05/39/37/32435031053937/osu.32435031053937.json.bz2\" (in features) failed: No such file or directory (2)', 'rsync: link_stat \"uc1/pairtree_root/d0/01/05/06/27/7/d0010506277/uc1.d0010506277.json.bz2\" (in features) failed: No such file or directory (2)', 'rsync: link_stat \"umn/pairtree_root/31/95/10/01/99/06/97/v/31951001990697v/umn.31951001990697v.json.bz2\" (in features) failed: No such file or directory (2)', 'rsync: link_stat \"uva/pairtree_root/x0/02/23/24/71/x002232471/uva.x002232471.json.bz2\" (in features) failed: No such file or directory (2)', 'done', 'created directory history', 'coo/', 'coo/pairtree_root/', 'coo/pairtree_root/31/', 'coo/pairtree_root/31/92/', 'coo/pairtree_root/31/92/40/', 'coo/pairtree_root/31/92/40/29/', 'coo/pairtree_root/31/92/40/29/57/', 'coo/pairtree_root/31/92/40/29/57/98/', 'coo/pairtree_root/31/92/40/29/57/98/14/', 'coo/pairtree_root/31/92/40/29/57/98/14/31924029579814/', 'coo/pairtree_root/31/92/40/29/57/98/14/31924029579814/coo.31924029579814.json.bz2', 'hvd/', 'hvd/pairtree_root/', 'hvd/pairtree_root/32/', 'hvd/pairtree_root/32/04/', 'hvd/pairtree_root/32/04/40/', 'hvd/pairtree_root/32/04/40/24/', 'hvd/pairtree_root/32/04/40/24/40/', 'hvd/pairtree_root/32/04/40/24/40/26/', 'hvd/pairtree_root/32/04/40/24/40/26/61/', 'hvd/pairtree_root/32/04/40/24/40/26/61/32044024402661/', 'hvd/pairtree_root/32/04/40/24/40/26/61/32044024402661/hvd.32044024402661.json.bz2', 'hvd/pairtree_root/32/04/40/29/', 'hvd/pairtree_root/32/04/40/29/06/', 'hvd/pairtree_root/32/04/40/29/06/04/', 'hvd/pairtree_root/32/04/40/29/06/04/23/', 'hvd/pairtree_root/32/04/40/29/06/04/23/32044029060423/', 'hvd/pairtree_root/32/04/40/29/06/04/23/32044029060423/hvd.32044029060423.json.bz2', 'hvd/pairtree_root/32/04/40/29/55/', 'hvd/pairtree_root/32/04/40/29/55/74/', 'hvd/pairtree_root/32/04/40/29/55/74/10/', 'hvd/pairtree_root/32/04/40/29/55/74/10/32044029557410/', 'hvd/pairtree_root/32/04/40/29/55/74/10/32044029557410/hvd.32044029557410.json.bz2', 'hvd/pairtree_root/32/04/40/73/', 'hvd/pairtree_root/32/04/40/73/09/', 'hvd/pairtree_root/32/04/40/73/09/82/', 'hvd/pairtree_root/32/04/40/73/09/82/53/', 'hvd/pairtree_root/32/04/40/73/09/82/53/32044073098253/', 'hvd/pairtree_root/32/04/40/73/09/82/53/32044073098253/hvd.32044073098253.json.bz2', 'hvd/pairtree_root/32/04/40/79/', 'hvd/pairtree_root/32/04/40/79/72/', 'hvd/pairtree_root/32/04/40/79/72/97/', 'hvd/pairtree_root/32/04/40/79/72/97/52/', 'hvd/pairtree_root/32/04/40/79/72/97/52/32044079729752/', 'hvd/pairtree_root/32/04/40/79/72/97/52/32044079729752/hvd.32044079729752.json.bz2', 'hvd/pairtree_root/32/04/40/86/', 'hvd/pairtree_root/32/04/40/86/21/', 'hvd/pairtree_root/32/04/40/86/21/86/', 'hvd/pairtree_root/32/04/40/86/21/86/58/', 'hvd/pairtree_root/32/04/40/86/21/86/58/32044086218658/', 'hvd/pairtree_root/32/04/40/86/21/86/58/32044086218658/hvd.32044086218658.json.bz2', 'hvd/pairtree_root/32/04/40/86/21/86/90/', 'hvd/pairtree_root/32/04/40/86/21/86/90/32044086218690/', 'hvd/pairtree_root/32/04/40/86/21/86/90/32044086218690/hvd.32044086218690.json.bz2', 'hvd/pairtree_root/32/04/40/86/21/87/', 'hvd/pairtree_root/32/04/40/86/21/87/08/', 'hvd/pairtree_root/32/04/40/86/21/87/08/32044086218708/', 'hvd/pairtree_root/32/04/40/86/21/87/08/32044086218708/hvd.32044086218708.json.bz2', 'hvd/pairtree_root/32/04/40/86/21/87/16/', 'hvd/pairtree_root/32/04/40/86/21/87/16/32044086218716/', 'hvd/pairtree_root/32/04/40/86/21/87/16/32044086218716/hvd.32044086218716.json.bz2', 'hvd/pairtree_root/32/04/40/86/21/87/32/', 'hvd/pairtree_root/32/04/40/86/21/87/32/32044086218732/', 'hvd/pairtree_root/32/04/40/86/21/87/32/32044086218732/hvd.32044086218732.json.bz2', 'hvd/pairtree_root/32/04/40/86/41/', 'hvd/pairtree_root/32/04/40/86/41/58/', 'hvd/pairtree_root/32/04/40/86/41/58/58/', 'hvd/pairtree_root/32/04/40/86/41/58/58/32044086415858/', 'hvd/pairtree_root/32/04/40/86/41/58/58/32044086415858/hvd.32044086415858.json.bz2', 'hvd/pairtree_root/32/04/40/86/42/', 'hvd/pairtree_root/32/04/40/86/42/37/', 'hvd/pairtree_root/32/04/40/86/42/37/95/', 'hvd/pairtree_root/32/04/40/86/42/37/95/32044086423795/', 'hvd/pairtree_root/32/04/40/86/42/37/95/32044086423795/hvd.32044086423795.json.bz2', 'hvd/pairtree_root/32/04/40/86/44/', 'hvd/pairtree_root/32/04/40/86/44/63/', 'hvd/pairtree_root/32/04/40/86/44/63/33/', 'hvd/pairtree_root/32/04/40/86/44/63/33/32044086446333/', 'hvd/pairtree_root/32/04/40/86/44/63/33/32044086446333/hvd.32044086446333.json.bz2', 'hvd/pairtree_root/32/04/40/86/44/63/41/', 'hvd/pairtree_root/32/04/40/86/44/63/41/32044086446341/', 'hvd/pairtree_root/32/04/40/86/44/63/41/32044086446341/hvd.32044086446341.json.bz2', 'hvd/pairtree_root/32/04/40/86/44/63/66/', 'hvd/pairtree_root/32/04/40/86/44/63/66/32044086446366/', 'hvd/pairtree_root/32/04/40/86/44/63/66/32044086446366/hvd.32044086446366.json.bz2', 'hvd/pairtree_root/32/04/40/90/', 'hvd/pairtree_root/32/04/40/90/11/', 'hvd/pairtree_root/32/04/40/90/11/74/', 'hvd/pairtree_root/32/04/40/90/11/74/74/', 'hvd/pairtree_root/32/04/40/90/11/74/74/32044090117474/', 'hvd/pairtree_root/32/04/40/90/11/74/74/32044090117474/hvd.32044090117474.json.bz2', 'hvd/pairtree_root/32/04/40/90/11/75/', 'hvd/pairtree_root/32/04/40/90/11/75/57/', 'hvd/pairtree_root/32/04/40/90/11/75/57/32044090117557/', 'hvd/pairtree_root/32/04/40/90/11/75/57/32044090117557/hvd.32044090117557.json.bz2', 'hvd/pairtree_root/32/04/40/97/', 'hvd/pairtree_root/32/04/40/97/03/', 'hvd/pairtree_root/32/04/40/97/03/89/', 'hvd/pairtree_root/32/04/40/97/03/89/39/', 'hvd/pairtree_root/32/04/40/97/03/89/39/32044097038939/', 'hvd/pairtree_root/32/04/40/97/03/89/39/32044097038939/hvd.32044097038939.json.bz2', 'hvd/pairtree_root/hn/', 'hvd/pairtree_root/hn/6e/', 'hvd/pairtree_root/hn/6e/ss/', 'hvd/pairtree_root/hn/6e/ss/hn6ess/', 'hvd/pairtree_root/hn/6e/ss/hn6ess/hvd.hn6ess.json.bz2', 'hvd/pairtree_root/hn/dl/', 'hvd/pairtree_root/hn/dl/8m/', 'hvd/pairtree_root/hn/dl/8m/hndl8m/', 'hvd/pairtree_root/hn/dl/8m/hndl8m/hvd.hndl8m.json.bz2', 'hvd/pairtree_root/hw/', 'hvd/pairtree_root/hw/24/', 'hvd/pairtree_root/hw/24/3s/', 'hvd/pairtree_root/hw/24/3s/hw243s/', 'hvd/pairtree_root/hw/24/3s/hw243s/hvd.hw243s.json.bz2', 'hvd/pairtree_root/hw/25/', 'hvd/pairtree_root/hw/25/ae/', 'hvd/pairtree_root/hw/25/ae/hw25ae/', 'hvd/pairtree_root/hw/25/ae/hw25ae/hvd.hw25ae.json.bz2', 'hvd/pairtree_root/hw/2m/', 'hvd/pairtree_root/hw/2m/cd/', 'hvd/pairtree_root/hw/2m/cd/hw2mcd/', 'hvd/pairtree_root/hw/2m/cd/hw2mcd/hvd.hw2mcd.json.bz2', 'hvd/pairtree_root/hw/dq/', 'hvd/pairtree_root/hw/dq/yj/', 'hvd/pairtree_root/hw/dq/yj/hwdqyj/', 'hvd/pairtree_root/hw/dq/yj/hwdqyj/hvd.hwdqyj.json.bz2', 'hvd/pairtree_root/hw/dq/yl/', 'hvd/pairtree_root/hw/dq/yl/hwdqyl/', 'hvd/pairtree_root/hw/dq/yl/hwdqyl/hvd.hwdqyl.json.bz2', 'hvd/pairtree_root/hw/dq/ym/', 'hvd/pairtree_root/hw/dq/ym/hwdqym/', 'hvd/pairtree_root/hw/dq/ym/hwdqym/hvd.hwdqym.json.bz2', 'hvd/pairtree_root/hw/h1/', 'hvd/pairtree_root/hw/h1/cx/', 'hvd/pairtree_root/hw/h1/cx/hwh1cx/', 'hvd/pairtree_root/hw/h1/cx/hwh1cx/hvd.hwh1cx.json.bz2', 'hvd/pairtree_root/hw/rr/', 'hvd/pairtree_root/hw/rr/sa/', 'hvd/pairtree_root/hw/rr/sa/hwrrsa/', 'hvd/pairtree_root/hw/rr/sa/hwrrsa/hvd.hwrrsa.json.bz2', 'hvd/pairtree_root/hw/ww/', 'hvd/pairtree_root/hw/ww/sn/', 'hvd/pairtree_root/hw/ww/sn/hwwwsn/', 'hvd/pairtree_root/hw/ww/sn/hwwwsn/hvd.hwwwsn.json.bz2', 'hvd/pairtree_root/hw/xg/', 'hvd/pairtree_root/hw/xg/4k/', 'hvd/pairtree_root/hw/xg/4k/hwxg4k/', 'hvd/pairtree_root/hw/xg/4k/hwxg4k/hvd.hwxg4k.json.bz2', 'hvd/pairtree_root/hx/', 'hvd/pairtree_root/hx/26/', 'hvd/pairtree_root/hx/26/i7/', 'hvd/pairtree_root/hx/26/i7/hx26i7/', 'hvd/pairtree_root/hx/26/i7/hx26i7/hvd.hx26i7.json.bz2', 'hvd/pairtree_root/hx/26/qi/', 'hvd/pairtree_root/hx/26/qi/hx26qi/', 'hvd/pairtree_root/hx/26/qi/hx26qi/hvd.hx26qi.json.bz2', 'hvd/pairtree_root/hx/4w/', 'hvd/pairtree_root/hx/4w/52/', 'hvd/pairtree_root/hx/4w/52/hx4w52/', 'hvd/pairtree_root/hx/4w/52/hx4w52/hvd.hx4w52.json.bz2', 'hvd/pairtree_root/hx/qs/', 'hvd/pairtree_root/hx/qs/93/', 'hvd/pairtree_root/hx/qs/93/hxqs93/', 'hvd/pairtree_root/hx/qs/93/hxqs93/hvd.hxqs93.json.bz2', 'hvd/pairtree_root/hx/qs/c2/', 'hvd/pairtree_root/hx/qs/c2/hxqsc2/', 'hvd/pairtree_root/hx/qs/c2/hxqsc2/hvd.hxqsc2.json.bz2', 'hvd/pairtree_root/hx/qs/cg/', 'hvd/pairtree_root/hx/qs/cg/hxqscg/', 'hvd/pairtree_root/hx/qs/cg/hxqscg/hvd.hxqscg.json.bz2', 'hvd/pairtree_root/hx/qs/ci/', 'hvd/pairtree_root/hx/qs/ci/hxqsci/', 'hvd/pairtree_root/hx/qs/ci/hxqsci/hvd.hxqsci.json.bz2', 'ien/', 'ien/pairtree_root/', 'ien/pairtree_root/35/', 'ien/pairtree_root/35/55/', 'ien/pairtree_root/35/55/60/', 'ien/pairtree_root/35/55/60/15/', 'ien/pairtree_root/35/55/60/15/92/', 'ien/pairtree_root/35/55/60/15/92/46/', 'ien/pairtree_root/35/55/60/15/92/46/65/', 'ien/pairtree_root/35/55/60/15/92/46/65/35556015924665/', 'ien/pairtree_root/35/55/60/15/92/46/65/35556015924665/ien.35556015924665.json.bz2', 'inu/', 'inu/pairtree_root/', 'inu/pairtree_root/30/', 'inu/pairtree_root/30/00/', 'inu/pairtree_root/30/00/00/', 'inu/pairtree_root/30/00/00/10/', 'inu/pairtree_root/30/00/00/10/05/', 'inu/pairtree_root/30/00/00/10/05/32/', 'inu/pairtree_root/30/00/00/10/05/32/74/', 'inu/pairtree_root/30/00/00/10/05/32/74/30000010053274/', 'inu/pairtree_root/30/00/00/10/05/32/74/30000010053274/inu.30000010053274.json.bz2', 'inu/pairtree_root/30/00/00/42/', 'inu/pairtree_root/30/00/00/42/01/', 'inu/pairtree_root/30/00/00/42/01/38/', 'inu/pairtree_root/30/00/00/42/01/38/33/', 'inu/pairtree_root/30/00/00/42/01/38/33/30000042013833/', 'inu/pairtree_root/30/00/00/42/01/38/33/30000042013833/inu.30000042013833.json.bz2', 'inu/pairtree_root/30/00/00/46/', 'inu/pairtree_root/30/00/00/46/34/', 'inu/pairtree_root/30/00/00/46/34/81/', 'inu/pairtree_root/30/00/00/46/34/81/85/', 'inu/pairtree_root/30/00/00/46/34/81/85/30000046348185/', 'inu/pairtree_root/30/00/00/46/34/81/85/30000046348185/inu.30000046348185.json.bz2', 'inu/pairtree_root/30/00/00/46/36/', 'inu/pairtree_root/30/00/00/46/36/83/', 'inu/pairtree_root/30/00/00/46/36/83/65/', 'inu/pairtree_root/30/00/00/46/36/83/65/30000046368365/', 'inu/pairtree_root/30/00/00/46/36/83/65/30000046368365/inu.30000046368365.json.bz2', 'inu/pairtree_root/30/00/00/85/', 'inu/pairtree_root/30/00/00/85/26/', 'inu/pairtree_root/30/00/00/85/26/10/', 'inu/pairtree_root/30/00/00/85/26/10/75/', 'inu/pairtree_root/30/00/00/85/26/10/75/30000085261075/', 'inu/pairtree_root/30/00/00/85/26/10/75/30000085261075/inu.30000085261075.json.bz2', 'inu/pairtree_root/30/00/00/92/', 'inu/pairtree_root/30/00/00/92/44/', 'inu/pairtree_root/30/00/00/92/44/82/', 'inu/pairtree_root/30/00/00/92/44/82/10/', 'inu/pairtree_root/30/00/00/92/44/82/10/30000092448210/', 'inu/pairtree_root/30/00/00/92/44/82/10/30000092448210/inu.30000092448210.json.bz2', 'inu/pairtree_root/30/00/01/', 'inu/pairtree_root/30/00/01/11/', 'inu/pairtree_root/30/00/01/11/02/', 'inu/pairtree_root/30/00/01/11/02/20/', 'inu/pairtree_root/30/00/01/11/02/20/61/', 'inu/pairtree_root/30/00/01/11/02/20/61/30000111022061/', 'inu/pairtree_root/30/00/01/11/02/20/61/30000111022061/inu.30000111022061.json.bz2', 'inu/pairtree_root/30/00/01/15/', 'inu/pairtree_root/30/00/01/15/66/', 'inu/pairtree_root/30/00/01/15/66/68/', 'inu/pairtree_root/30/00/01/15/66/68/06/', 'inu/pairtree_root/30/00/01/15/66/68/06/30000115666806/', 'inu/pairtree_root/30/00/01/15/66/68/06/30000115666806/inu.30000115666806.json.bz2', 'inu/pairtree_root/30/00/01/15/67/', 'inu/pairtree_root/30/00/01/15/67/08/', 'inu/pairtree_root/30/00/01/15/67/08/73/', 'inu/pairtree_root/30/00/01/15/67/08/73/30000115670873/', 'inu/pairtree_root/30/00/01/15/67/08/73/30000115670873/inu.30000115670873.json.bz2', 'inu/pairtree_root/30/00/01/16/', 'inu/pairtree_root/30/00/01/16/55/', 'inu/pairtree_root/30/00/01/16/55/31/', 'inu/pairtree_root/30/00/01/16/55/31/28/', 'inu/pairtree_root/30/00/01/16/55/31/28/30000116553128/', 'inu/pairtree_root/30/00/01/16/55/31/28/30000116553128/inu.30000116553128.json.bz2', 'inu/pairtree_root/30/00/01/17/', 'inu/pairtree_root/30/00/01/17/88/', 'inu/pairtree_root/30/00/01/17/88/05/', 'inu/pairtree_root/30/00/01/17/88/05/95/', 'inu/pairtree_root/30/00/01/17/88/05/95/30000117880595/', 'inu/pairtree_root/30/00/01/17/88/05/95/30000117880595/inu.30000117880595.json.bz2', 'inu/pairtree_root/30/00/01/17/88/06/', 'inu/pairtree_root/30/00/01/17/88/06/03/', 'inu/pairtree_root/30/00/01/17/88/06/03/30000117880603/', 'inu/pairtree_root/30/00/01/17/88/06/03/30000117880603/inu.30000117880603.json.bz2', 'inu/pairtree_root/30/00/01/22/', 'inu/pairtree_root/30/00/01/22/78/', 'inu/pairtree_root/30/00/01/22/78/33/', 'inu/pairtree_root/30/00/01/22/78/33/05/', 'inu/pairtree_root/30/00/01/22/78/33/05/30000122783305/', 'inu/pairtree_root/30/00/01/22/78/33/05/30000122783305/inu.30000122783305.json.bz2', 'inu/pairtree_root/30/00/01/22/78/33/13/', 'inu/pairtree_root/30/00/01/22/78/33/13/30000122783313/', 'inu/pairtree_root/30/00/01/22/78/33/13/30000122783313/inu.30000122783313.json.bz2', 'inu/pairtree_root/30/00/01/22/78/33/39/', 'inu/pairtree_root/30/00/01/22/78/33/39/30000122783339/', 'inu/pairtree_root/30/00/01/22/78/33/39/30000122783339/inu.30000122783339.json.bz2', 'inu/pairtree_root/30/00/01/22/78/33/54/', 'inu/pairtree_root/30/00/01/22/78/33/54/30000122783354/', 'inu/pairtree_root/30/00/01/22/78/33/54/30000122783354/inu.30000122783354.json.bz2', 'inu/pairtree_root/30/00/01/22/78/36/', 'inu/pairtree_root/30/00/01/22/78/36/77/', 'inu/pairtree_root/30/00/01/22/78/36/77/30000122783677/', 'inu/pairtree_root/30/00/01/22/78/36/77/30000122783677/inu.30000122783677.json.bz2', 'inu/pairtree_root/30/00/01/22/78/36/85/', 'inu/pairtree_root/30/00/01/22/78/36/85/30000122783685/', 'inu/pairtree_root/30/00/01/22/78/36/85/30000122783685/inu.30000122783685.json.bz2', 'inu/pairtree_root/30/00/01/22/78/43/', 'inu/pairtree_root/30/00/01/22/78/43/11/', 'inu/pairtree_root/30/00/01/22/78/43/11/30000122784311/', 'inu/pairtree_root/30/00/01/22/78/43/11/30000122784311/inu.30000122784311.json.bz2', 'inu/pairtree_root/30/00/01/22/78/64/', 'inu/pairtree_root/30/00/01/22/78/64/31/', 'inu/pairtree_root/30/00/01/22/78/64/31/30000122786431/', 'inu/pairtree_root/30/00/01/22/78/64/31/30000122786431/inu.30000122786431.json.bz2', 'inu/pairtree_root/30/00/01/22/78/64/49/', 'inu/pairtree_root/30/00/01/22/78/64/49/30000122786449/', 'inu/pairtree_root/30/00/01/22/78/64/49/30000122786449/inu.30000122786449.json.bz2', 'inu/pairtree_root/30/00/01/22/78/64/80/', 'inu/pairtree_root/30/00/01/22/78/64/80/30000122786480/', 'inu/pairtree_root/30/00/01/22/78/64/80/30000122786480/inu.30000122786480.json.bz2', 'inu/pairtree_root/30/00/01/22/78/64/98/', 'inu/pairtree_root/30/00/01/22/78/64/98/30000122786498/', 'inu/pairtree_root/30/00/01/22/78/64/98/30000122786498/inu.30000122786498.json.bz2', 'inu/pairtree_root/30/00/01/22/78/65/', 'inu/pairtree_root/30/00/01/22/78/65/30/', 'inu/pairtree_root/30/00/01/22/78/65/30/30000122786530/', 'inu/pairtree_root/30/00/01/22/78/65/30/30000122786530/inu.30000122786530.json.bz2', 'inu/pairtree_root/39/', 'inu/pairtree_root/39/00/', 'inu/pairtree_root/39/00/00/', 'inu/pairtree_root/39/00/00/00/', 'inu/pairtree_root/39/00/00/00/58/', 'inu/pairtree_root/39/00/00/00/58/72/', 'inu/pairtree_root/39/00/00/00/58/72/58/', 'inu/pairtree_root/39/00/00/00/58/72/58/39000000587258/', 'inu/pairtree_root/39/00/00/00/58/72/58/39000000587258/inu.39000000587258.json.bz2', 'inu/pairtree_root/39/00/00/05/', 'inu/pairtree_root/39/00/00/05/56/', 'inu/pairtree_root/39/00/00/05/56/80/', 'inu/pairtree_root/39/00/00/05/56/80/71/', 'inu/pairtree_root/39/00/00/05/56/80/71/39000005568071/', 'inu/pairtree_root/39/00/00/05/56/80/71/39000005568071/inu.39000005568071.json.bz2', 'loc/', 'loc/pairtree_root/', 'loc/pairtree_root/ar/', 'loc/pairtree_root/ar/k+/', 'loc/pairtree_root/ar/k+/=1/', 'loc/pairtree_root/ar/k+/=1/39/', 'loc/pairtree_root/ar/k+/=1/39/60/', 'loc/pairtree_root/ar/k+/=1/39/60/=t/', 'loc/pairtree_root/ar/k+/=1/39/60/=t/00/', 'loc/pairtree_root/ar/k+/=1/39/60/=t/00/00/', 'loc/pairtree_root/ar/k+/=1/39/60/=t/00/00/h9/', 'loc/pairtree_root/ar/k+/=1/39/60/=t/00/00/h9/3g/', 'loc/pairtree_root/ar/k+/=1/39/60/=t/00/00/h9/3g/ark+=13960=t0000h93g/', 'loc/pairtree_root/ar/k+/=1/39/60/=t/00/00/h9/3g/ark+=13960=t0000h93g/loc.ark+=13960=t0000h93g.json.bz2', 'loc/pairtree_root/ar/k+/=1/39/60/=t/0c/', 'loc/pairtree_root/ar/k+/=1/39/60/=t/0c/v5/', 'loc/pairtree_root/ar/k+/=1/39/60/=t/0c/v5/7t/', 'loc/pairtree_root/ar/k+/=1/39/60/=t/0c/v5/7t/9q/', 'loc/pairtree_root/ar/k+/=1/39/60/=t/0c/v5/7t/9q/ark+=13960=t0cv57t9q/', 'loc/pairtree_root/ar/k+/=1/39/60/=t/0c/v5/7t/9q/ark+=13960=t0cv57t9q/loc.ark+=13960=t0cv57t9q.json.bz2', 'loc/pairtree_root/ar/k+/=1/39/60/=t/19/', 'loc/pairtree_root/ar/k+/=1/39/60/=t/19/k4/', 'loc/pairtree_root/ar/k+/=1/39/60/=t/19/k4/q2/', 'loc/pairtree_root/ar/k+/=1/39/60/=t/19/k4/q2/0t/', 'loc/pairtree_root/ar/k+/=1/39/60/=t/19/k4/q2/0t/ark+=13960=t19k4q20t/', 'loc/pairtree_root/ar/k+/=1/39/60/=t/19/k4/q2/0t/ark+=13960=t19k4q20t/loc.ark+=13960=t19k4q20t.json.bz2', 'loc/pairtree_root/ar/k+/=1/39/60/=t/21/', 'loc/pairtree_root/ar/k+/=1/39/60/=t/21/c2/', 'loc/pairtree_root/ar/k+/=1/39/60/=t/21/c2/cf/', 'loc/pairtree_root/ar/k+/=1/39/60/=t/21/c2/cf/6g/', 'loc/pairtree_root/ar/k+/=1/39/60/=t/21/c2/cf/6g/ark+=13960=t21c2cf6g/', 'loc/pairtree_root/ar/k+/=1/39/60/=t/21/c2/cf/6g/ark+=13960=t21c2cf6g/loc.ark+=13960=t21c2cf6g.json.bz2', 'loc/pairtree_root/ar/k+/=1/39/60/=t/39/', 'loc/pairtree_root/ar/k+/=1/39/60/=t/39/02/', 'loc/pairtree_root/ar/k+/=1/39/60/=t/39/02/h4/', 'loc/pairtree_root/ar/k+/=1/39/60/=t/39/02/h4/24/', 'loc/pairtree_root/ar/k+/=1/39/60/=t/39/02/h4/24/ark+=13960=t3902h424/', 'loc/pairtree_root/ar/k+/=1/39/60/=t/39/02/h4/24/ark+=13960=t3902h424/loc.ark+=13960=t3902h424.json.bz2', 'loc/pairtree_root/ar/k+/=1/39/60/=t/3t/', 'loc/pairtree_root/ar/k+/=1/39/60/=t/3t/t4/', 'loc/pairtree_root/ar/k+/=1/39/60/=t/3t/t4/zz/', 'loc/pairtree_root/ar/k+/=1/39/60/=t/3t/t4/zz/6w/', 'loc/pairtree_root/ar/k+/=1/39/60/=t/3t/t4/zz/6w/ark+=13960=t3tt4zz6w/', 'loc/pairtree_root/ar/k+/=1/39/60/=t/3t/t4/zz/6w/ark+=13960=t3tt4zz6w/loc.ark+=13960=t3tt4zz6w.json.bz2', 'loc/pairtree_root/ar/k+/=1/39/60/=t/4k/', 'loc/pairtree_root/ar/k+/=1/39/60/=t/4k/k9/', 'loc/pairtree_root/ar/k+/=1/39/60/=t/4k/k9/p2/', 'loc/pairtree_root/ar/k+/=1/39/60/=t/4k/k9/p2/13/', 'loc/pairtree_root/ar/k+/=1/39/60/=t/4k/k9/p2/13/ark+=13960=t4kk9p213/', 'loc/pairtree_root/ar/k+/=1/39/60/=t/4k/k9/p2/13/ark+=13960=t4kk9p213/loc.ark+=13960=t4kk9p213.json.bz2', 'loc/pairtree_root/ar/k+/=1/39/60/=t/5p/', 'loc/pairtree_root/ar/k+/=1/39/60/=t/5p/84/', 'loc/pairtree_root/ar/k+/=1/39/60/=t/5p/84/q3/', 'loc/pairtree_root/ar/k+/=1/39/60/=t/5p/84/q3/15/', 'loc/pairtree_root/ar/k+/=1/39/60/=t/5p/84/q3/15/ark+=13960=t5p84q315/', 'loc/pairtree_root/ar/k+/=1/39/60/=t/5p/84/q3/15/ark+=13960=t5p84q315/loc.ark+=13960=t5p84q315.json.bz2', 'loc/pairtree_root/ar/k+/=1/39/60/=t/6f/', 'loc/pairtree_root/ar/k+/=1/39/60/=t/6f/19/', 'loc/pairtree_root/ar/k+/=1/39/60/=t/6f/19/b5/', 'loc/pairtree_root/ar/k+/=1/39/60/=t/6f/19/b5/2k/', 'loc/pairtree_root/ar/k+/=1/39/60/=t/6f/19/b5/2k/ark+=13960=t6f19b52k/', 'loc/pairtree_root/ar/k+/=1/39/60/=t/6f/19/b5/2k/ark+=13960=t6f19b52k/loc.ark+=13960=t6f19b52k.json.bz2', 'loc/pairtree_root/ar/k+/=1/39/60/=t/6m/', 'loc/pairtree_root/ar/k+/=1/39/60/=t/6m/04/', 'loc/pairtree_root/ar/k+/=1/39/60/=t/6m/04/gk/', 'loc/pairtree_root/ar/k+/=1/39/60/=t/6m/04/gk/0z/', 'loc/pairtree_root/ar/k+/=1/39/60/=t/6m/04/gk/0z/ark+=13960=t6m04gk0z/', 'loc/pairtree_root/ar/k+/=1/39/60/=t/6m/04/gk/0z/ark+=13960=t6m04gk0z/loc.ark+=13960=t6m04gk0z.json.bz2', 'loc/pairtree_root/ar/k+/=1/39/60/=t/6x/', 'loc/pairtree_root/ar/k+/=1/39/60/=t/6x/w4/', 'loc/pairtree_root/ar/k+/=1/39/60/=t/6x/w4/sr/', 'loc/pairtree_root/ar/k+/=1/39/60/=t/6x/w4/sr/4m/', 'loc/pairtree_root/ar/k+/=1/39/60/=t/6x/w4/sr/4m/ark+=13960=t6xw4sr4m/', 'loc/pairtree_root/ar/k+/=1/39/60/=t/6x/w4/sr/4m/ark+=13960=t6xw4sr4m/loc.ark+=13960=t6xw4sr4m.json.bz2', 'loc/pairtree_root/ar/k+/=1/39/60/=t/7f/', 'loc/pairtree_root/ar/k+/=1/39/60/=t/7f/r0/', 'loc/pairtree_root/ar/k+/=1/39/60/=t/7f/r0/7z/', 'loc/pairtree_root/ar/k+/=1/39/60/=t/7f/r0/7z/6p/', 'loc/pairtree_root/ar/k+/=1/39/60/=t/7f/r0/7z/6p/ark+=13960=t7fr07z6p/', 'loc/pairtree_root/ar/k+/=1/39/60/=t/7f/r0/7z/6p/ark+=13960=t7fr07z6p/loc.ark+=13960=t7fr07z6p.json.bz2', 'loc/pairtree_root/ar/k+/=1/39/60/=t/95/', 'loc/pairtree_root/ar/k+/=1/39/60/=t/95/71/', 'loc/pairtree_root/ar/k+/=1/39/60/=t/95/71/sx/', 'loc/pairtree_root/ar/k+/=1/39/60/=t/95/71/sx/5n/', 'loc/pairtree_root/ar/k+/=1/39/60/=t/95/71/sx/5n/ark+=13960=t9571sx5n/', 'loc/pairtree_root/ar/k+/=1/39/60/=t/95/71/sx/5n/ark+=13960=t9571sx5n/loc.ark+=13960=t9571sx5n.json.bz2', 'loc/pairtree_root/ar/k+/=1/39/60/=t/98/', 'loc/pairtree_root/ar/k+/=1/39/60/=t/98/62/', 'loc/pairtree_root/ar/k+/=1/39/60/=t/98/62/w2/', 'loc/pairtree_root/ar/k+/=1/39/60/=t/98/62/w2/1q/', 'loc/pairtree_root/ar/k+/=1/39/60/=t/98/62/w2/1q/ark+=13960=t9862w21q/', 'loc/pairtree_root/ar/k+/=1/39/60/=t/98/62/w2/1q/ark+=13960=t9862w21q/loc.ark+=13960=t9862w21q.json.bz2', 'loc/pairtree_root/ar/k+/=1/39/60/=t/9d/', 'loc/pairtree_root/ar/k+/=1/39/60/=t/9d/51/', 'loc/pairtree_root/ar/k+/=1/39/60/=t/9d/51/0s/', 'loc/pairtree_root/ar/k+/=1/39/60/=t/9d/51/0s/69/', 'loc/pairtree_root/ar/k+/=1/39/60/=t/9d/51/0s/69/ark+=13960=t9d510s69/', 'loc/pairtree_root/ar/k+/=1/39/60/=t/9d/51/0s/69/ark+=13960=t9d510s69/loc.ark+=13960=t9d510s69.json.bz2', 'mdp/', 'mdp/pairtree_root/', 'mdp/pairtree_root/39/', 'mdp/pairtree_root/39/01/', 'mdp/pairtree_root/39/01/50/', 'mdp/pairtree_root/39/01/50/00/', 'mdp/pairtree_root/39/01/50/00/58/', 'mdp/pairtree_root/39/01/50/00/58/04/', 'mdp/pairtree_root/39/01/50/00/58/04/18/', 'mdp/pairtree_root/39/01/50/00/58/04/18/39015000580418/', 'mdp/pairtree_root/39/01/50/00/58/04/18/39015000580418/mdp.39015000580418.json.bz2', 'mdp/pairtree_root/39/01/50/01/', 'mdp/pairtree_root/39/01/50/01/35/', 'mdp/pairtree_root/39/01/50/01/35/14/', 'mdp/pairtree_root/39/01/50/01/35/14/96/', 'mdp/pairtree_root/39/01/50/01/35/14/96/39015001351496/', 'mdp/pairtree_root/39/01/50/01/35/14/96/39015001351496/mdp.39015001351496.json.bz2', 'mdp/pairtree_root/39/01/50/03/', 'mdp/pairtree_root/39/01/50/03/45/', 'mdp/pairtree_root/39/01/50/03/45/65/', 'mdp/pairtree_root/39/01/50/03/45/65/90/', 'mdp/pairtree_root/39/01/50/03/45/65/90/39015003456590/', 'mdp/pairtree_root/39/01/50/03/45/65/90/39015003456590/mdp.39015003456590.json.bz2', 'mdp/pairtree_root/39/01/50/04/', 'mdp/pairtree_root/39/01/50/04/16/', 'mdp/pairtree_root/39/01/50/04/16/45/', 'mdp/pairtree_root/39/01/50/04/16/45/99/', 'mdp/pairtree_root/39/01/50/04/16/45/99/39015004164599/', 'mdp/pairtree_root/39/01/50/04/16/45/99/39015004164599/mdp.39015004164599.json.bz2', 'mdp/pairtree_root/39/01/50/05/', 'mdp/pairtree_root/39/01/50/05/19/', 'mdp/pairtree_root/39/01/50/05/19/40/', 'mdp/pairtree_root/39/01/50/05/19/40/66/', 'mdp/pairtree_root/39/01/50/05/19/40/66/39015005194066/', 'mdp/pairtree_root/39/01/50/05/19/40/66/39015005194066/mdp.39015005194066.json.bz2', 'mdp/pairtree_root/39/01/50/05/59/', 'mdp/pairtree_root/39/01/50/05/59/10/', 'mdp/pairtree_root/39/01/50/05/59/10/48/', 'mdp/pairtree_root/39/01/50/05/59/10/48/39015005591048/', 'mdp/pairtree_root/39/01/50/05/59/10/48/39015005591048/mdp.39015005591048.json.bz2', 'mdp/pairtree_root/39/01/50/05/64/', 'mdp/pairtree_root/39/01/50/05/64/20/', 'mdp/pairtree_root/39/01/50/05/64/20/80/', 'mdp/pairtree_root/39/01/50/05/64/20/80/39015005642080/', 'mdp/pairtree_root/39/01/50/05/64/20/80/39015005642080/mdp.39015005642080.json.bz2', 'mdp/pairtree_root/39/01/50/05/94/', 'mdp/pairtree_root/39/01/50/05/94/48/', 'mdp/pairtree_root/39/01/50/05/94/48/25/', 'mdp/pairtree_root/39/01/50/05/94/48/25/39015005944825/', 'mdp/pairtree_root/39/01/50/05/94/48/25/39015005944825/mdp.39015005944825.json.bz2', 'mdp/pairtree_root/39/01/50/06/', 'mdp/pairtree_root/39/01/50/06/97/', 'mdp/pairtree_root/39/01/50/06/97/39/', 'mdp/pairtree_root/39/01/50/06/97/39/71/', 'mdp/pairtree_root/39/01/50/06/97/39/71/39015006973971/', 'mdp/pairtree_root/39/01/50/06/97/39/71/39015006973971/mdp.39015006973971.json.bz2', 'mdp/pairtree_root/39/01/50/06/97/39/97/', 'mdp/pairtree_root/39/01/50/06/97/39/97/39015006973997/', 'mdp/pairtree_root/39/01/50/06/97/39/97/39015006973997/mdp.39015006973997.json.bz2', 'mdp/pairtree_root/39/01/50/08/', 'mdp/pairtree_root/39/01/50/08/45/', 'mdp/pairtree_root/39/01/50/08/45/86/', 'mdp/pairtree_root/39/01/50/08/45/86/33/', 'mdp/pairtree_root/39/01/50/08/45/86/33/39015008458633/', 'mdp/pairtree_root/39/01/50/08/45/86/33/39015008458633/mdp.39015008458633.json.bz2', 'mdp/pairtree_root/39/01/50/08/55/', 'mdp/pairtree_root/39/01/50/08/55/46/', 'mdp/pairtree_root/39/01/50/08/55/46/21/', 'mdp/pairtree_root/39/01/50/08/55/46/21/39015008554621/', 'mdp/pairtree_root/39/01/50/08/55/46/21/39015008554621/mdp.39015008554621.json.bz2', 'mdp/pairtree_root/39/01/50/08/57/', 'mdp/pairtree_root/39/01/50/08/57/49/', 'mdp/pairtree_root/39/01/50/08/57/49/59/', 'mdp/pairtree_root/39/01/50/08/57/49/59/39015008574959/', 'mdp/pairtree_root/39/01/50/08/57/49/59/39015008574959/mdp.39015008574959.json.bz2', 'mdp/pairtree_root/39/01/50/10/', 'mdp/pairtree_root/39/01/50/10/33/', 'mdp/pairtree_root/39/01/50/10/33/81/', 'mdp/pairtree_root/39/01/50/10/33/81/95/', 'mdp/pairtree_root/39/01/50/10/33/81/95/39015010338195/', 'mdp/pairtree_root/39/01/50/10/33/81/95/39015010338195/mdp.39015010338195.json.bz2', 'mdp/pairtree_root/39/01/50/10/75/', 'mdp/pairtree_root/39/01/50/10/75/87/', 'mdp/pairtree_root/39/01/50/10/75/87/31/', 'mdp/pairtree_root/39/01/50/10/75/87/31/39015010758731/', 'mdp/pairtree_root/39/01/50/10/75/87/31/39015010758731/mdp.39015010758731.json.bz2', 'mdp/pairtree_root/39/01/50/10/92/', 'mdp/pairtree_root/39/01/50/10/92/40/', 'mdp/pairtree_root/39/01/50/10/92/40/36/', 'mdp/pairtree_root/39/01/50/10/92/40/36/39015010924036/', 'mdp/pairtree_root/39/01/50/10/92/40/36/39015010924036/mdp.39015010924036.json.bz2', 'mdp/pairtree_root/39/01/50/11/', 'mdp/pairtree_root/39/01/50/11/28/', 'mdp/pairtree_root/39/01/50/11/28/42/', 'mdp/pairtree_root/39/01/50/11/28/42/40/', 'mdp/pairtree_root/39/01/50/11/28/42/40/39015011284240/', 'mdp/pairtree_root/39/01/50/11/28/42/40/39015011284240/mdp.39015011284240.json.bz2', 'mdp/pairtree_root/39/01/50/11/35/', 'mdp/pairtree_root/39/01/50/11/35/87/', 'mdp/pairtree_root/39/01/50/11/35/87/39/', 'mdp/pairtree_root/39/01/50/11/35/87/39/39015011358739/', 'mdp/pairtree_root/39/01/50/11/35/87/39/39015011358739/mdp.39015011358739.json.bz2', 'mdp/pairtree_root/39/01/50/11/35/87/47/', 'mdp/pairtree_root/39/01/50/11/35/87/47/39015011358747/', 'mdp/pairtree_root/39/01/50/11/35/87/47/39015011358747/mdp.39015011358747.json.bz2', 'mdp/pairtree_root/39/01/50/11/88/', 'mdp/pairtree_root/39/01/50/11/88/99/', 'mdp/pairtree_root/39/01/50/11/88/99/15/', 'mdp/pairtree_root/39/01/50/11/88/99/15/39015011889915/', 'mdp/pairtree_root/39/01/50/11/88/99/15/39015011889915/mdp.39015011889915.json.bz2', 'mdp/pairtree_root/39/01/50/11/91/', 'mdp/pairtree_root/39/01/50/11/91/15/', 'mdp/pairtree_root/39/01/50/11/91/15/78/', 'mdp/pairtree_root/39/01/50/11/91/15/78/39015011911578/', 'mdp/pairtree_root/39/01/50/11/91/15/78/39015011911578/mdp.39015011911578.json.bz2', 'mdp/pairtree_root/39/01/50/13/', 'mdp/pairtree_root/39/01/50/13/49/', 'mdp/pairtree_root/39/01/50/13/49/12/', 'mdp/pairtree_root/39/01/50/13/49/12/72/', 'mdp/pairtree_root/39/01/50/13/49/12/72/39015013491272/', 'mdp/pairtree_root/39/01/50/13/49/12/72/39015013491272/mdp.39015013491272.json.bz2', 'mdp/pairtree_root/39/01/50/13/97/', 'mdp/pairtree_root/39/01/50/13/97/37/', 'mdp/pairtree_root/39/01/50/13/97/37/09/', 'mdp/pairtree_root/39/01/50/13/97/37/09/39015013973709/', 'mdp/pairtree_root/39/01/50/13/97/37/09/39015013973709/mdp.39015013973709.json.bz2', 'mdp/pairtree_root/39/01/50/13/97/72/', 'mdp/pairtree_root/39/01/50/13/97/72/39/', 'mdp/pairtree_root/39/01/50/13/97/72/39/39015013977239/', 'mdp/pairtree_root/39/01/50/13/97/72/39/39015013977239/mdp.39015013977239.json.bz2', 'mdp/pairtree_root/39/01/50/13/97/72/47/', 'mdp/pairtree_root/39/01/50/13/97/72/47/39015013977247/', 'mdp/pairtree_root/39/01/50/13/97/72/47/39015013977247/mdp.39015013977247.json.bz2', 'mdp/pairtree_root/39/01/50/14/', 'mdp/pairtree_root/39/01/50/14/15/', 'mdp/pairtree_root/39/01/50/14/15/50/', 'mdp/pairtree_root/39/01/50/14/15/50/09/', 'mdp/pairtree_root/39/01/50/14/15/50/09/39015014155009/', 'mdp/pairtree_root/39/01/50/14/15/50/09/39015014155009/mdp.39015014155009.json.bz2', 'mdp/pairtree_root/39/01/50/14/49/', 'mdp/pairtree_root/39/01/50/14/49/30/', 'mdp/pairtree_root/39/01/50/14/49/30/53/', 'mdp/pairtree_root/39/01/50/14/49/30/53/39015014493053/', 'mdp/pairtree_root/39/01/50/14/49/30/53/39015014493053/mdp.39015014493053.json.bz2', 'mdp/pairtree_root/39/01/50/14/51/', 'mdp/pairtree_root/39/01/50/14/51/87/', 'mdp/pairtree_root/39/01/50/14/51/87/76/', 'mdp/pairtree_root/39/01/50/14/51/87/76/39015014518776/', 'mdp/pairtree_root/39/01/50/14/51/87/76/39015014518776/mdp.39015014518776.json.bz2', 'mdp/pairtree_root/39/01/50/14/65/', 'mdp/pairtree_root/39/01/50/14/65/15/', 'mdp/pairtree_root/39/01/50/14/65/15/10/', 'mdp/pairtree_root/39/01/50/14/65/15/10/39015014651510/', 'mdp/pairtree_root/39/01/50/14/65/15/10/39015014651510/mdp.39015014651510.json.bz2', 'mdp/pairtree_root/39/01/50/14/95/', 'mdp/pairtree_root/39/01/50/14/95/20/', 'mdp/pairtree_root/39/01/50/14/95/20/09/', 'mdp/pairtree_root/39/01/50/14/95/20/09/39015014952009/', 'mdp/pairtree_root/39/01/50/14/95/20/09/39015014952009/mdp.39015014952009.json.bz2', 'mdp/pairtree_root/39/01/50/16/', 'mdp/pairtree_root/39/01/50/16/31/', 'mdp/pairtree_root/39/01/50/16/31/92/', 'mdp/pairtree_root/39/01/50/16/31/92/64/', 'mdp/pairtree_root/39/01/50/16/31/92/64/39015016319264/', 'mdp/pairtree_root/39/01/50/16/31/92/64/39015016319264/mdp.39015016319264.json.bz2', 'mdp/pairtree_root/39/01/50/16/75/', 'mdp/pairtree_root/39/01/50/16/75/55/', 'mdp/pairtree_root/39/01/50/16/75/55/58/', 'mdp/pairtree_root/39/01/50/16/75/55/58/39015016755558/', 'mdp/pairtree_root/39/01/50/16/75/55/58/39015016755558/mdp.39015016755558.json.bz2', 'mdp/pairtree_root/39/01/50/18/', 'mdp/pairtree_root/39/01/50/18/60/', 'mdp/pairtree_root/39/01/50/18/60/94/', 'mdp/pairtree_root/39/01/50/18/60/94/15/', 'mdp/pairtree_root/39/01/50/18/60/94/15/39015018609415/', 'mdp/pairtree_root/39/01/50/18/60/94/15/39015018609415/mdp.39015018609415.json.bz2', 'mdp/pairtree_root/39/01/50/18/61/', 'mdp/pairtree_root/39/01/50/18/61/38/', 'mdp/pairtree_root/39/01/50/18/61/38/62/', 'mdp/pairtree_root/39/01/50/18/61/38/62/39015018613862/', 'mdp/pairtree_root/39/01/50/18/61/38/62/39015018613862/mdp.39015018613862.json.bz2', 'mdp/pairtree_root/39/01/50/19/', 'mdp/pairtree_root/39/01/50/19/13/', 'mdp/pairtree_root/39/01/50/19/13/79/', 'mdp/pairtree_root/39/01/50/19/13/79/60/', 'mdp/pairtree_root/39/01/50/19/13/79/60/39015019137960/', 'mdp/pairtree_root/39/01/50/19/13/79/60/39015019137960/mdp.39015019137960.json.bz2', 'mdp/pairtree_root/39/01/50/19/98/', 'mdp/pairtree_root/39/01/50/19/98/91/', 'mdp/pairtree_root/39/01/50/19/98/91/70/', 'mdp/pairtree_root/39/01/50/19/98/91/70/39015019989170/', 'mdp/pairtree_root/39/01/50/19/98/91/70/39015019989170/mdp.39015019989170.json.bz2', 'mdp/pairtree_root/39/01/50/20/', 'mdp/pairtree_root/39/01/50/20/86/', 'mdp/pairtree_root/39/01/50/20/86/58/', 'mdp/pairtree_root/39/01/50/20/86/58/72/', 'mdp/pairtree_root/39/01/50/20/86/58/72/39015020865872/', 'mdp/pairtree_root/39/01/50/20/86/58/72/39015020865872/mdp.39015020865872.json.bz2', 'mdp/pairtree_root/39/01/50/21/', 'mdp/pairtree_root/39/01/50/21/46/', 'mdp/pairtree_root/39/01/50/21/46/02/', 'mdp/pairtree_root/39/01/50/21/46/02/51/', 'mdp/pairtree_root/39/01/50/21/46/02/51/39015021460251/', 'mdp/pairtree_root/39/01/50/21/46/02/51/39015021460251/mdp.39015021460251.json.bz2', 'mdp/pairtree_root/39/01/50/21/55/', 'mdp/pairtree_root/39/01/50/21/55/91/', 'mdp/pairtree_root/39/01/50/21/55/91/44/', 'mdp/pairtree_root/39/01/50/21/55/91/44/39015021559144/', 'mdp/pairtree_root/39/01/50/21/55/91/44/39015021559144/mdp.39015021559144.json.bz2', 'mdp/pairtree_root/39/01/50/23/', 'mdp/pairtree_root/39/01/50/23/46/', 'mdp/pairtree_root/39/01/50/23/46/67/', 'mdp/pairtree_root/39/01/50/23/46/67/02/', 'mdp/pairtree_root/39/01/50/23/46/67/02/39015023466702/', 'mdp/pairtree_root/39/01/50/23/46/67/02/39015023466702/mdp.39015023466702.json.bz2', 'mdp/pairtree_root/39/01/50/23/47/', 'mdp/pairtree_root/39/01/50/23/47/21/', 'mdp/pairtree_root/39/01/50/23/47/21/71/', 'mdp/pairtree_root/39/01/50/23/47/21/71/39015023472171/', 'mdp/pairtree_root/39/01/50/23/47/21/71/39015023472171/mdp.39015023472171.json.bz2', 'mdp/pairtree_root/39/01/50/25/', 'mdp/pairtree_root/39/01/50/25/24/', 'mdp/pairtree_root/39/01/50/25/24/36/', 'mdp/pairtree_root/39/01/50/25/24/36/87/', 'mdp/pairtree_root/39/01/50/25/24/36/87/39015025243687/', 'mdp/pairtree_root/39/01/50/25/24/36/87/39015025243687/mdp.39015025243687.json.bz2', 'mdp/pairtree_root/39/01/50/26/', 'mdp/pairtree_root/39/01/50/26/67/', 'mdp/pairtree_root/39/01/50/26/67/13/', 'mdp/pairtree_root/39/01/50/26/67/13/57/', 'mdp/pairtree_root/39/01/50/26/67/13/57/39015026671357/', 'mdp/pairtree_root/39/01/50/26/67/13/57/39015026671357/mdp.39015026671357.json.bz2', 'mdp/pairtree_root/39/01/50/26/67/17/', 'mdp/pairtree_root/39/01/50/26/67/17/12/', 'mdp/pairtree_root/39/01/50/26/67/17/12/39015026671712/', 'mdp/pairtree_root/39/01/50/26/67/17/12/39015026671712/mdp.39015026671712.json.bz2', 'mdp/pairtree_root/39/01/50/26/92/', 'mdp/pairtree_root/39/01/50/26/92/47/', 'mdp/pairtree_root/39/01/50/26/92/47/07/', 'mdp/pairtree_root/39/01/50/26/92/47/07/39015026924707/', 'mdp/pairtree_root/39/01/50/26/92/47/07/39015026924707/mdp.39015026924707.json.bz2', 'mdp/pairtree_root/39/01/50/26/92/47/15/', 'mdp/pairtree_root/39/01/50/26/92/47/15/39015026924715/', 'mdp/pairtree_root/39/01/50/26/92/47/15/39015026924715/mdp.39015026924715.json.bz2', 'mdp/pairtree_root/39/01/50/27/', 'mdp/pairtree_root/39/01/50/27/03/', 'mdp/pairtree_root/39/01/50/27/03/73/', 'mdp/pairtree_root/39/01/50/27/03/73/19/', 'mdp/pairtree_root/39/01/50/27/03/73/19/39015027037319/', 'mdp/pairtree_root/39/01/50/27/03/73/19/39015027037319/mdp.39015027037319.json.bz2', 'mdp/pairtree_root/39/01/50/27/56/', 'mdp/pairtree_root/39/01/50/27/56/12/', 'mdp/pairtree_root/39/01/50/27/56/12/43/', 'mdp/pairtree_root/39/01/50/27/56/12/43/39015027561243/', 'mdp/pairtree_root/39/01/50/27/56/12/43/39015027561243/mdp.39015027561243.json.bz2', 'mdp/pairtree_root/39/01/50/28/', 'mdp/pairtree_root/39/01/50/28/57/', 'mdp/pairtree_root/39/01/50/28/57/44/', 'mdp/pairtree_root/39/01/50/28/57/44/19/', 'mdp/pairtree_root/39/01/50/28/57/44/19/39015028574419/', 'mdp/pairtree_root/39/01/50/28/57/44/19/39015028574419/mdp.39015028574419.json.bz2', 'mdp/pairtree_root/39/01/50/28/77/', 'mdp/pairtree_root/39/01/50/28/77/44/', 'mdp/pairtree_root/39/01/50/28/77/44/49/', 'mdp/pairtree_root/39/01/50/28/77/44/49/39015028774449/', 'mdp/pairtree_root/39/01/50/28/77/44/49/39015028774449/mdp.39015028774449.json.bz2', 'mdp/pairtree_root/39/01/50/29/', 'mdp/pairtree_root/39/01/50/29/49/', 'mdp/pairtree_root/39/01/50/29/49/83/', 'mdp/pairtree_root/39/01/50/29/49/83/86/', 'mdp/pairtree_root/39/01/50/29/49/83/86/39015029498386/', 'mdp/pairtree_root/39/01/50/29/49/83/86/39015029498386/mdp.39015029498386.json.bz2', 'mdp/pairtree_root/39/01/50/30/', 'mdp/pairtree_root/39/01/50/30/33/', 'mdp/pairtree_root/39/01/50/30/33/10/', 'mdp/pairtree_root/39/01/50/30/33/10/30/', 'mdp/pairtree_root/39/01/50/30/33/10/30/39015030331030/', 'mdp/pairtree_root/39/01/50/30/33/10/30/39015030331030/mdp.39015030331030.json.bz2', 'mdp/pairtree_root/39/01/50/31/', 'mdp/pairtree_root/39/01/50/31/73/', 'mdp/pairtree_root/39/01/50/31/73/05/', 'mdp/pairtree_root/39/01/50/31/73/05/60/', 'mdp/pairtree_root/39/01/50/31/73/05/60/39015031730560/', 'mdp/pairtree_root/39/01/50/31/73/05/60/39015031730560/mdp.39015031730560.json.bz2', 'mdp/pairtree_root/39/01/50/31/73/05/78/', 'mdp/pairtree_root/39/01/50/31/73/05/78/39015031730578/', 'mdp/pairtree_root/39/01/50/31/73/05/78/39015031730578/mdp.39015031730578.json.bz2', 'mdp/pairtree_root/39/01/50/32/', 'mdp/pairtree_root/39/01/50/32/09/', 'mdp/pairtree_root/39/01/50/32/09/41/', 'mdp/pairtree_root/39/01/50/32/09/41/31/', 'mdp/pairtree_root/39/01/50/32/09/41/31/39015032094131/', 'mdp/pairtree_root/39/01/50/32/09/41/31/39015032094131/mdp.39015032094131.json.bz2', 'mdp/pairtree_root/39/01/50/32/42/', 'mdp/pairtree_root/39/01/50/32/42/71/', 'mdp/pairtree_root/39/01/50/32/42/71/33/', 'mdp/pairtree_root/39/01/50/32/42/71/33/39015032427133/', 'mdp/pairtree_root/39/01/50/32/42/71/33/39015032427133/mdp.39015032427133.json.bz2', 'mdp/pairtree_root/39/01/50/32/74/', 'mdp/pairtree_root/39/01/50/32/74/29/', 'mdp/pairtree_root/39/01/50/32/74/29/78/', 'mdp/pairtree_root/39/01/50/32/74/29/78/39015032742978/', 'mdp/pairtree_root/39/01/50/32/74/29/78/39015032742978/mdp.39015032742978.json.bz2', 'mdp/pairtree_root/39/01/50/33/', 'mdp/pairtree_root/39/01/50/33/53/', 'mdp/pairtree_root/39/01/50/33/53/31/', 'mdp/pairtree_root/39/01/50/33/53/31/45/', 'mdp/pairtree_root/39/01/50/33/53/31/45/39015033533145/', 'mdp/pairtree_root/39/01/50/33/53/31/45/39015033533145/mdp.39015033533145.json.bz2', 'mdp/pairtree_root/39/01/50/33/66/', 'mdp/pairtree_root/39/01/50/33/66/87/', 'mdp/pairtree_root/39/01/50/33/66/87/01/', 'mdp/pairtree_root/39/01/50/33/66/87/01/39015033668701/', 'mdp/pairtree_root/39/01/50/33/66/87/01/39015033668701/mdp.39015033668701.json.bz2', 'mdp/pairtree_root/39/01/50/33/66/87/19/', 'mdp/pairtree_root/39/01/50/33/66/87/19/39015033668719/', 'mdp/pairtree_root/39/01/50/33/66/87/19/39015033668719/mdp.39015033668719.json.bz2', 'mdp/pairtree_root/39/01/50/33/67/', 'mdp/pairtree_root/39/01/50/33/67/18/', 'mdp/pairtree_root/39/01/50/33/67/18/61/', 'mdp/pairtree_root/39/01/50/33/67/18/61/39015033671861/', 'mdp/pairtree_root/39/01/50/33/67/18/61/39015033671861/mdp.39015033671861.json.bz2', 'mdp/pairtree_root/39/01/50/33/67/20/', 'mdp/pairtree_root/39/01/50/33/67/20/26/', 'mdp/pairtree_root/39/01/50/33/67/20/26/39015033672026/', 'mdp/pairtree_root/39/01/50/33/67/20/26/39015033672026/mdp.39015033672026.json.bz2', 'mdp/pairtree_root/39/01/50/33/67/20/34/', 'mdp/pairtree_root/39/01/50/33/67/20/34/39015033672034/', 'mdp/pairtree_root/39/01/50/33/67/20/34/39015033672034/mdp.39015033672034.json.bz2', 'mdp/pairtree_root/39/01/50/33/67/21/', 'mdp/pairtree_root/39/01/50/33/67/21/74/', 'mdp/pairtree_root/39/01/50/33/67/21/74/39015033672174/', 'mdp/pairtree_root/39/01/50/33/67/21/74/39015033672174/mdp.39015033672174.json.bz2', 'mdp/pairtree_root/39/01/50/33/67/22/', 'mdp/pairtree_root/39/01/50/33/67/22/08/', 'mdp/pairtree_root/39/01/50/33/67/22/08/39015033672208/', 'mdp/pairtree_root/39/01/50/33/67/22/08/39015033672208/mdp.39015033672208.json.bz2', 'mdp/pairtree_root/39/01/50/33/67/26/', 'mdp/pairtree_root/39/01/50/33/67/26/20/', 'mdp/pairtree_root/39/01/50/33/67/26/20/39015033672620/', 'mdp/pairtree_root/39/01/50/33/67/26/20/39015033672620/mdp.39015033672620.json.bz2', 'mdp/pairtree_root/39/01/50/33/67/26/38/', 'mdp/pairtree_root/39/01/50/33/67/26/38/39015033672638/', 'mdp/pairtree_root/39/01/50/33/67/26/38/39015033672638/mdp.39015033672638.json.bz2', 'mdp/pairtree_root/39/01/50/33/68/', 'mdp/pairtree_root/39/01/50/33/68/67/', 'mdp/pairtree_root/39/01/50/33/68/67/52/', 'mdp/pairtree_root/39/01/50/33/68/67/52/39015033686752/', 'mdp/pairtree_root/39/01/50/33/68/67/52/39015033686752/mdp.39015033686752.json.bz2', 'mdp/pairtree_root/39/01/50/33/68/68/', 'mdp/pairtree_root/39/01/50/33/68/68/02/', 'mdp/pairtree_root/39/01/50/33/68/68/02/39015033686802/', 'mdp/pairtree_root/39/01/50/33/68/68/02/39015033686802/mdp.39015033686802.json.bz2', 'mdp/pairtree_root/39/01/50/33/68/68/28/', 'mdp/pairtree_root/39/01/50/33/68/68/28/39015033686828/', 'mdp/pairtree_root/39/01/50/33/68/68/28/39015033686828/mdp.39015033686828.json.bz2', 'mdp/pairtree_root/39/01/50/33/68/68/77/', 'mdp/pairtree_root/39/01/50/33/68/68/77/39015033686877/', 'mdp/pairtree_root/39/01/50/33/68/68/77/39015033686877/mdp.39015033686877.json.bz2', 'mdp/pairtree_root/39/01/50/33/87/', 'mdp/pairtree_root/39/01/50/33/87/09/', 'mdp/pairtree_root/39/01/50/33/87/09/76/', 'mdp/pairtree_root/39/01/50/33/87/09/76/39015033870976/', 'mdp/pairtree_root/39/01/50/33/87/09/76/39015033870976/mdp.39015033870976.json.bz2', 'mdp/pairtree_root/39/01/50/33/87/11/', 'mdp/pairtree_root/39/01/50/33/87/11/31/', 'mdp/pairtree_root/39/01/50/33/87/11/31/39015033871131/', 'mdp/pairtree_root/39/01/50/33/87/11/31/39015033871131/mdp.39015033871131.json.bz2', 'mdp/pairtree_root/39/01/50/34/', 'mdp/pairtree_root/39/01/50/34/31/', 'mdp/pairtree_root/39/01/50/34/31/40/', 'mdp/pairtree_root/39/01/50/34/31/40/99/', 'mdp/pairtree_root/39/01/50/34/31/40/99/39015034314099/', 'mdp/pairtree_root/39/01/50/34/31/40/99/39015034314099/mdp.39015034314099.json.bz2', 'mdp/pairtree_root/39/01/50/34/56/', 'mdp/pairtree_root/39/01/50/34/56/46/', 'mdp/pairtree_root/39/01/50/34/56/46/28/', 'mdp/pairtree_root/39/01/50/34/56/46/28/39015034564628/', 'mdp/pairtree_root/39/01/50/34/56/46/28/39015034564628/mdp.39015034564628.json.bz2', 'mdp/pairtree_root/39/01/50/34/62/', 'mdp/pairtree_root/39/01/50/34/62/36/', 'mdp/pairtree_root/39/01/50/34/62/36/55/', 'mdp/pairtree_root/39/01/50/34/62/36/55/39015034623655/', 'mdp/pairtree_root/39/01/50/34/62/36/55/39015034623655/mdp.39015034623655.json.bz2', 'mdp/pairtree_root/39/01/50/35/', 'mdp/pairtree_root/39/01/50/35/32/', 'mdp/pairtree_root/39/01/50/35/32/13/', 'mdp/pairtree_root/39/01/50/35/32/13/17/', 'mdp/pairtree_root/39/01/50/35/32/13/17/39015035321317/', 'mdp/pairtree_root/39/01/50/35/32/13/17/39015035321317/mdp.39015035321317.json.bz2', 'mdp/pairtree_root/39/01/50/35/42/', 'mdp/pairtree_root/39/01/50/35/42/68/', 'mdp/pairtree_root/39/01/50/35/42/68/35/', 'mdp/pairtree_root/39/01/50/35/42/68/35/39015035426835/', 'mdp/pairtree_root/39/01/50/35/42/68/35/39015035426835/mdp.39015035426835.json.bz2', 'mdp/pairtree_root/39/01/50/35/47/', 'mdp/pairtree_root/39/01/50/35/47/91/', 'mdp/pairtree_root/39/01/50/35/47/91/15/', 'mdp/pairtree_root/39/01/50/35/47/91/15/39015035479115/', 'mdp/pairtree_root/39/01/50/35/47/91/15/39015035479115/mdp.39015035479115.json.bz2', 'mdp/pairtree_root/39/01/50/35/76/', 'mdp/pairtree_root/39/01/50/35/76/29/', 'mdp/pairtree_root/39/01/50/35/76/29/65/', 'mdp/pairtree_root/39/01/50/35/76/29/65/39015035762965/', 'mdp/pairtree_root/39/01/50/35/76/29/65/39015035762965/mdp.39015035762965.json.bz2', 'mdp/pairtree_root/39/01/50/38/', 'mdp/pairtree_root/39/01/50/38/92/', 'mdp/pairtree_root/39/01/50/38/92/62/', 'mdp/pairtree_root/39/01/50/38/92/62/29/', 'mdp/pairtree_root/39/01/50/38/92/62/29/39015038926229/', 'mdp/pairtree_root/39/01/50/38/92/62/29/39015038926229/mdp.39015038926229.json.bz2', 'mdp/pairtree_root/39/01/50/39/', 'mdp/pairtree_root/39/01/50/39/51/', 'mdp/pairtree_root/39/01/50/39/51/31/', 'mdp/pairtree_root/39/01/50/39/51/31/33/', 'mdp/pairtree_root/39/01/50/39/51/31/33/39015039513133/', 'mdp/pairtree_root/39/01/50/39/51/31/33/39015039513133/mdp.39015039513133.json.bz2', 'mdp/pairtree_root/39/01/50/39/74/', 'mdp/pairtree_root/39/01/50/39/74/63/', 'mdp/pairtree_root/39/01/50/39/74/63/37/', 'mdp/pairtree_root/39/01/50/39/74/63/37/39015039746337/', 'mdp/pairtree_root/39/01/50/39/74/63/37/39015039746337/mdp.39015039746337.json.bz2', 'mdp/pairtree_root/39/01/50/39/74/63/45/', 'mdp/pairtree_root/39/01/50/39/74/63/45/39015039746345/', 'mdp/pairtree_root/39/01/50/39/74/63/45/39015039746345/mdp.39015039746345.json.bz2', 'mdp/pairtree_root/39/01/50/40/', 'mdp/pairtree_root/39/01/50/40/08/', 'mdp/pairtree_root/39/01/50/40/08/81/', 'mdp/pairtree_root/39/01/50/40/08/81/41/', 'mdp/pairtree_root/39/01/50/40/08/81/41/39015040088141/', 'mdp/pairtree_root/39/01/50/40/08/81/41/39015040088141/mdp.39015040088141.json.bz2', 'mdp/pairtree_root/39/01/50/40/61/', 'mdp/pairtree_root/39/01/50/40/61/12/', 'mdp/pairtree_root/39/01/50/40/61/12/23/', 'mdp/pairtree_root/39/01/50/40/61/12/23/39015040611223/', 'mdp/pairtree_root/39/01/50/40/61/12/23/39015040611223/mdp.39015040611223.json.bz2', 'mdp/pairtree_root/39/01/50/40/62/', 'mdp/pairtree_root/39/01/50/40/62/31/', 'mdp/pairtree_root/39/01/50/40/62/31/52/', 'mdp/pairtree_root/39/01/50/40/62/31/52/39015040623152/', 'mdp/pairtree_root/39/01/50/40/62/31/52/39015040623152/mdp.39015040623152.json.bz2', 'mdp/pairtree_root/39/01/50/40/64/', 'mdp/pairtree_root/39/01/50/40/64/15/', 'mdp/pairtree_root/39/01/50/40/64/15/43/', 'mdp/pairtree_root/39/01/50/40/64/15/43/39015040641543/', 'mdp/pairtree_root/39/01/50/40/64/15/43/39015040641543/mdp.39015040641543.json.bz2', 'mdp/pairtree_root/39/01/50/43/', 'mdp/pairtree_root/39/01/50/43/35/', 'mdp/pairtree_root/39/01/50/43/35/82/', 'mdp/pairtree_root/39/01/50/43/35/82/10/', 'mdp/pairtree_root/39/01/50/43/35/82/10/39015043358210/', 'mdp/pairtree_root/39/01/50/43/35/82/10/39015043358210/mdp.39015043358210.json.bz2', 'mdp/pairtree_root/39/01/50/45/', 'mdp/pairtree_root/39/01/50/45/99/', 'mdp/pairtree_root/39/01/50/45/99/39/', 'mdp/pairtree_root/39/01/50/45/99/39/56/', 'mdp/pairtree_root/39/01/50/45/99/39/56/39015045993956/', 'mdp/pairtree_root/39/01/50/45/99/39/56/39015045993956/mdp.39015045993956.json.bz2', 'mdp/pairtree_root/39/01/50/46/', 'mdp/pairtree_root/39/01/50/46/41/', 'mdp/pairtree_root/39/01/50/46/41/39/', 'mdp/pairtree_root/39/01/50/46/41/39/88/', 'mdp/pairtree_root/39/01/50/46/41/39/88/39015046413988/', 'mdp/pairtree_root/39/01/50/46/41/39/88/39015046413988/mdp.39015046413988.json.bz2', 'mdp/pairtree_root/39/01/50/46/49/', 'mdp/pairtree_root/39/01/50/46/49/27/', 'mdp/pairtree_root/39/01/50/46/49/27/19/', 'mdp/pairtree_root/39/01/50/46/49/27/19/39015046492719/', 'mdp/pairtree_root/39/01/50/46/49/27/19/39015046492719/mdp.39015046492719.json.bz2', 'mdp/pairtree_root/39/01/50/47/', 'mdp/pairtree_root/39/01/50/47/72/', 'mdp/pairtree_root/39/01/50/47/72/81/', 'mdp/pairtree_root/39/01/50/47/72/81/86/', 'mdp/pairtree_root/39/01/50/47/72/81/86/39015047728186/', 'mdp/pairtree_root/39/01/50/47/72/81/86/39015047728186/mdp.39015047728186.json.bz2', 'mdp/pairtree_root/39/01/50/50/', 'mdp/pairtree_root/39/01/50/50/92/', 'mdp/pairtree_root/39/01/50/50/92/19/', 'mdp/pairtree_root/39/01/50/50/92/19/91/', 'mdp/pairtree_root/39/01/50/50/92/19/91/39015050921991/', 'mdp/pairtree_root/39/01/50/50/92/19/91/39015050921991/mdp.39015050921991.json.bz2', 'mdp/pairtree_root/39/01/50/50/92/88/', 'mdp/pairtree_root/39/01/50/50/92/88/22/', 'mdp/pairtree_root/39/01/50/50/92/88/22/39015050928822/', 'mdp/pairtree_root/39/01/50/50/92/88/22/39015050928822/mdp.39015050928822.json.bz2', 'mdp/pairtree_root/39/01/50/51/', 'mdp/pairtree_root/39/01/50/51/57/', 'mdp/pairtree_root/39/01/50/51/57/13/', 'mdp/pairtree_root/39/01/50/51/57/13/08/', 'mdp/pairtree_root/39/01/50/51/57/13/08/39015051571308/', 'mdp/pairtree_root/39/01/50/51/57/13/08/39015051571308/mdp.39015051571308.json.bz2', 'mdp/pairtree_root/39/01/50/53/', 'mdp/pairtree_root/39/01/50/53/42/', 'mdp/pairtree_root/39/01/50/53/42/69/', 'mdp/pairtree_root/39/01/50/53/42/69/64/', 'mdp/pairtree_root/39/01/50/53/42/69/64/39015053426964/', 'mdp/pairtree_root/39/01/50/53/42/69/64/39015053426964/mdp.39015053426964.json.bz2', 'mdp/pairtree_root/39/01/50/54/', 'mdp/pairtree_root/39/01/50/54/12/', 'mdp/pairtree_root/39/01/50/54/12/09/', 'mdp/pairtree_root/39/01/50/54/12/09/54/', 'mdp/pairtree_root/39/01/50/54/12/09/54/39015054120954/', 'mdp/pairtree_root/39/01/50/54/12/09/54/39015054120954/mdp.39015054120954.json.bz2', 'mdp/pairtree_root/39/01/50/54/40/', 'mdp/pairtree_root/39/01/50/54/40/87/', 'mdp/pairtree_root/39/01/50/54/40/87/97/', 'mdp/pairtree_root/39/01/50/54/40/87/97/39015054408797/', 'mdp/pairtree_root/39/01/50/54/40/87/97/39015054408797/mdp.39015054408797.json.bz2', 'mdp/pairtree_root/39/01/50/56/', 'mdp/pairtree_root/39/01/50/56/26/', 'mdp/pairtree_root/39/01/50/56/26/43/', 'mdp/pairtree_root/39/01/50/56/26/43/21/', 'mdp/pairtree_root/39/01/50/56/26/43/21/39015056264321/', 'mdp/pairtree_root/39/01/50/56/26/43/21/39015056264321/mdp.39015056264321.json.bz2', 'mdp/pairtree_root/39/01/50/57/', 'mdp/pairtree_root/39/01/50/57/65/', 'mdp/pairtree_root/39/01/50/57/65/35/', 'mdp/pairtree_root/39/01/50/57/65/35/55/', 'mdp/pairtree_root/39/01/50/57/65/35/55/39015057653555/', 'mdp/pairtree_root/39/01/50/57/65/35/55/39015057653555/mdp.39015057653555.json.bz2', 'mdp/pairtree_root/39/01/50/59/', 'mdp/pairtree_root/39/01/50/59/45/', 'mdp/pairtree_root/39/01/50/59/45/34/', 'mdp/pairtree_root/39/01/50/59/45/34/75/', 'mdp/pairtree_root/39/01/50/59/45/34/75/39015059453475/', 'mdp/pairtree_root/39/01/50/59/45/34/75/39015059453475/mdp.39015059453475.json.bz2', 'mdp/pairtree_root/39/01/50/59/45/75/', 'mdp/pairtree_root/39/01/50/59/45/75/26/', 'mdp/pairtree_root/39/01/50/59/45/75/26/39015059457526/', 'mdp/pairtree_root/39/01/50/59/45/75/26/39015059457526/mdp.39015059457526.json.bz2', 'mdp/pairtree_root/39/01/50/59/72/', 'mdp/pairtree_root/39/01/50/59/72/99/', 'mdp/pairtree_root/39/01/50/59/72/99/24/', 'mdp/pairtree_root/39/01/50/59/72/99/24/39015059729924/', 'mdp/pairtree_root/39/01/50/59/72/99/24/39015059729924/mdp.39015059729924.json.bz2', 'mdp/pairtree_root/39/01/50/60/', 'mdp/pairtree_root/39/01/50/60/07/', 'mdp/pairtree_root/39/01/50/60/07/17/', 'mdp/pairtree_root/39/01/50/60/07/17/12/', 'mdp/pairtree_root/39/01/50/60/07/17/12/39015060071712/', 'mdp/pairtree_root/39/01/50/60/07/17/12/39015060071712/mdp.39015060071712.json.bz2', 'mdp/pairtree_root/39/01/50/60/10/', 'mdp/pairtree_root/39/01/50/60/10/82/', 'mdp/pairtree_root/39/01/50/60/10/82/25/', 'mdp/pairtree_root/39/01/50/60/10/82/25/39015060108225/', 'mdp/pairtree_root/39/01/50/60/10/82/25/39015060108225/mdp.39015060108225.json.bz2', 'mdp/pairtree_root/39/01/50/61/', 'mdp/pairtree_root/39/01/50/61/30/', 'mdp/pairtree_root/39/01/50/61/30/24/', 'mdp/pairtree_root/39/01/50/61/30/24/88/', 'mdp/pairtree_root/39/01/50/61/30/24/88/39015061302488/', 'mdp/pairtree_root/39/01/50/61/30/24/88/39015061302488/mdp.39015061302488.json.bz2', 'mdp/pairtree_root/39/01/50/62/', 'mdp/pairtree_root/39/01/50/62/73/', 'mdp/pairtree_root/39/01/50/62/73/07/', 'mdp/pairtree_root/39/01/50/62/73/07/11/', 'mdp/pairtree_root/39/01/50/62/73/07/11/39015062730711/', 'mdp/pairtree_root/39/01/50/62/73/07/11/39015062730711/mdp.39015062730711.json.bz2', 'mdp/pairtree_root/39/01/50/62/98/', 'mdp/pairtree_root/39/01/50/62/98/34/', 'mdp/pairtree_root/39/01/50/62/98/34/35/', 'mdp/pairtree_root/39/01/50/62/98/34/35/39015062983435/', 'mdp/pairtree_root/39/01/50/62/98/34/35/39015062983435/mdp.39015062983435.json.bz2', 'mdp/pairtree_root/39/01/50/63/', 'mdp/pairtree_root/39/01/50/63/38/', 'mdp/pairtree_root/39/01/50/63/38/98/', 'mdp/pairtree_root/39/01/50/63/38/98/48/', 'mdp/pairtree_root/39/01/50/63/38/98/48/39015063389848/', 'mdp/pairtree_root/39/01/50/63/38/98/48/39015063389848/mdp.39015063389848.json.bz2', 'mdp/pairtree_root/39/01/50/63/73/', 'mdp/pairtree_root/39/01/50/63/73/15/', 'mdp/pairtree_root/39/01/50/63/73/15/93/', 'mdp/pairtree_root/39/01/50/63/73/15/93/39015063731593/', 'mdp/pairtree_root/39/01/50/63/73/15/93/39015063731593/mdp.39015063731593.json.bz2', 'mdp/pairtree_root/39/01/50/65/', 'mdp/pairtree_root/39/01/50/65/45/', 'mdp/pairtree_root/39/01/50/65/45/58/', 'mdp/pairtree_root/39/01/50/65/45/58/37/', 'mdp/pairtree_root/39/01/50/65/45/58/37/39015065455837/', 'mdp/pairtree_root/39/01/50/65/45/58/37/39015065455837/mdp.39015065455837.json.bz2', 'mdp/pairtree_root/39/01/50/65/45/82/', 'mdp/pairtree_root/39/01/50/65/45/82/94/', 'mdp/pairtree_root/39/01/50/65/45/82/94/39015065458294/', 'mdp/pairtree_root/39/01/50/65/45/82/94/39015065458294/mdp.39015065458294.json.bz2', 'mdp/pairtree_root/39/01/50/65/45/83/', 'mdp/pairtree_root/39/01/50/65/45/83/44/', 'mdp/pairtree_root/39/01/50/65/45/83/44/39015065458344/', 'mdp/pairtree_root/39/01/50/65/45/83/44/39015065458344/mdp.39015065458344.json.bz2', 'mdp/pairtree_root/39/01/50/65/81/', 'mdp/pairtree_root/39/01/50/65/81/98/', 'mdp/pairtree_root/39/01/50/65/81/98/18/', 'mdp/pairtree_root/39/01/50/65/81/98/18/39015065819818/', 'mdp/pairtree_root/39/01/50/65/81/98/18/39015065819818/mdp.39015065819818.json.bz2', 'mdp/pairtree_root/39/01/50/65/81/98/26/', 'mdp/pairtree_root/39/01/50/65/81/98/26/39015065819826/', 'mdp/pairtree_root/39/01/50/65/81/98/26/39015065819826/mdp.39015065819826.json.bz2', 'mdp/pairtree_root/39/01/50/66/', 'mdp/pairtree_root/39/01/50/66/11/', 'mdp/pairtree_root/39/01/50/66/11/35/', 'mdp/pairtree_root/39/01/50/66/11/35/42/', 'mdp/pairtree_root/39/01/50/66/11/35/42/39015066113542/', 'mdp/pairtree_root/39/01/50/66/11/35/42/39015066113542/mdp.39015066113542.json.bz2', 'mdp/pairtree_root/39/01/50/66/38/', 'mdp/pairtree_root/39/01/50/66/38/25/', 'mdp/pairtree_root/39/01/50/66/38/25/50/', 'mdp/pairtree_root/39/01/50/66/38/25/50/39015066382550/', 'mdp/pairtree_root/39/01/50/66/38/25/50/39015066382550/mdp.39015066382550.json.bz2', 'mdp/pairtree_root/39/01/50/68/', 'mdp/pairtree_root/39/01/50/68/94/', 'mdp/pairtree_root/39/01/50/68/94/98/', 'mdp/pairtree_root/39/01/50/68/94/98/44/', 'mdp/pairtree_root/39/01/50/68/94/98/44/39015068949844/', 'mdp/pairtree_root/39/01/50/68/94/98/44/39015068949844/mdp.39015068949844.json.bz2', 'mdp/pairtree_root/39/01/50/68/94/98/51/', 'mdp/pairtree_root/39/01/50/68/94/98/51/39015068949851/', 'mdp/pairtree_root/39/01/50/68/94/98/51/39015068949851/mdp.39015068949851.json.bz2', 'mdp/pairtree_root/39/01/50/68/94/98/69/', 'mdp/pairtree_root/39/01/50/68/94/98/69/39015068949869/', 'mdp/pairtree_root/39/01/50/68/94/98/69/39015068949869/mdp.39015068949869.json.bz2', 'mdp/pairtree_root/39/01/50/68/94/99/', 'mdp/pairtree_root/39/01/50/68/94/99/35/', 'mdp/pairtree_root/39/01/50/68/94/99/35/39015068949935/', 'mdp/pairtree_root/39/01/50/68/94/99/35/39015068949935/mdp.39015068949935.json.bz2', 'mdp/pairtree_root/39/01/50/70/', 'mdp/pairtree_root/39/01/50/70/69/', 'mdp/pairtree_root/39/01/50/70/69/25/', 'mdp/pairtree_root/39/01/50/70/69/25/49/', 'mdp/pairtree_root/39/01/50/70/69/25/49/39015070692549/', 'mdp/pairtree_root/39/01/50/70/69/25/49/39015070692549/mdp.39015070692549.json.bz2', 'mdp/pairtree_root/39/01/50/71/', 'mdp/pairtree_root/39/01/50/71/44/', 'mdp/pairtree_root/39/01/50/71/44/04/', 'mdp/pairtree_root/39/01/50/71/44/04/19/', 'mdp/pairtree_root/39/01/50/71/44/04/19/39015071440419/', 'mdp/pairtree_root/39/01/50/71/44/04/19/39015071440419/mdp.39015071440419.json.bz2', 'mdp/pairtree_root/39/01/50/74/', 'mdp/pairtree_root/39/01/50/74/90/', 'mdp/pairtree_root/39/01/50/74/90/61/', 'mdp/pairtree_root/39/01/50/74/90/61/01/', 'mdp/pairtree_root/39/01/50/74/90/61/01/39015074906101/', 'mdp/pairtree_root/39/01/50/74/90/61/01/39015074906101/mdp.39015074906101.json.bz2', 'mdp/pairtree_root/39/01/50/74/91/', 'mdp/pairtree_root/39/01/50/74/91/61/', 'mdp/pairtree_root/39/01/50/74/91/61/18/', 'mdp/pairtree_root/39/01/50/74/91/61/18/39015074916118/', 'mdp/pairtree_root/39/01/50/74/91/61/18/39015074916118/mdp.39015074916118.json.bz2', 'mdp/pairtree_root/39/01/50/74/91/64/', 'mdp/pairtree_root/39/01/50/74/91/64/80/', 'mdp/pairtree_root/39/01/50/74/91/64/80/39015074916480/', 'mdp/pairtree_root/39/01/50/74/91/64/80/39015074916480/mdp.39015074916480.json.bz2', 'mdp/pairtree_root/39/01/50/74/91/64/98/', 'mdp/pairtree_root/39/01/50/74/91/64/98/39015074916498/', 'mdp/pairtree_root/39/01/50/74/91/64/98/39015074916498/mdp.39015074916498.json.bz2', 'mdp/pairtree_root/39/01/50/74/91/65/', 'mdp/pairtree_root/39/01/50/74/91/65/06/', 'mdp/pairtree_root/39/01/50/74/91/65/06/39015074916506/', 'mdp/pairtree_root/39/01/50/74/91/65/06/39015074916506/mdp.39015074916506.json.bz2', 'mdp/pairtree_root/39/01/50/74/91/66/', 'mdp/pairtree_root/39/01/50/74/91/66/05/', 'mdp/pairtree_root/39/01/50/74/91/66/05/39015074916605/', 'mdp/pairtree_root/39/01/50/74/91/66/05/39015074916605/mdp.39015074916605.json.bz2', 'mdp/pairtree_root/39/01/50/74/91/66/13/', 'mdp/pairtree_root/39/01/50/74/91/66/13/39015074916613/', 'mdp/pairtree_root/39/01/50/74/91/66/13/39015074916613/mdp.39015074916613.json.bz2', 'mdp/pairtree_root/39/01/50/74/91/66/54/', 'mdp/pairtree_root/39/01/50/74/91/66/54/39015074916654/', 'mdp/pairtree_root/39/01/50/74/91/66/54/39015074916654/mdp.39015074916654.json.bz2', 'mdp/pairtree_root/39/01/50/74/91/66/62/', 'mdp/pairtree_root/39/01/50/74/91/66/62/39015074916662/', 'mdp/pairtree_root/39/01/50/74/91/66/62/39015074916662/mdp.39015074916662.json.bz2', 'mdp/pairtree_root/39/01/50/74/91/67/', 'mdp/pairtree_root/39/01/50/74/91/67/87/', 'mdp/pairtree_root/39/01/50/74/91/67/87/39015074916787/', 'mdp/pairtree_root/39/01/50/74/91/67/87/39015074916787/mdp.39015074916787.json.bz2', 'mdp/pairtree_root/39/01/50/74/91/67/95/', 'mdp/pairtree_root/39/01/50/74/91/67/95/39015074916795/', 'mdp/pairtree_root/39/01/50/74/91/67/95/39015074916795/mdp.39015074916795.json.bz2', 'mdp/pairtree_root/39/01/50/74/91/68/', 'mdp/pairtree_root/39/01/50/74/91/68/03/', 'mdp/pairtree_root/39/01/50/74/91/68/03/39015074916803/', 'mdp/pairtree_root/39/01/50/74/91/68/03/39015074916803/mdp.39015074916803.json.bz2', 'mdp/pairtree_root/39/01/50/75/', 'mdp/pairtree_root/39/01/50/75/63/', 'mdp/pairtree_root/39/01/50/75/63/23/', 'mdp/pairtree_root/39/01/50/75/63/23/91/', 'mdp/pairtree_root/39/01/50/75/63/23/91/39015075632391/', 'mdp/pairtree_root/39/01/50/75/63/23/91/39015075632391/mdp.39015075632391.json.bz2', 'mdp/pairtree_root/39/01/50/76/', 'mdp/pairtree_root/39/01/50/76/67/', 'mdp/pairtree_root/39/01/50/76/67/55/', 'mdp/pairtree_root/39/01/50/76/67/55/55/', 'mdp/pairtree_root/39/01/50/76/67/55/55/39015076675555/', 'mdp/pairtree_root/39/01/50/76/67/55/55/39015076675555/mdp.39015076675555.json.bz2', 'mdp/pairtree_root/39/01/50/76/67/55/97/', 'mdp/pairtree_root/39/01/50/76/67/55/97/39015076675597/', 'mdp/pairtree_root/39/01/50/76/67/55/97/39015076675597/mdp.39015076675597.json.bz2', 'mdp/pairtree_root/39/01/50/76/67/60/', 'mdp/pairtree_root/39/01/50/76/67/60/25/', 'mdp/pairtree_root/39/01/50/76/67/60/25/39015076676025/', 'mdp/pairtree_root/39/01/50/76/67/60/25/39015076676025/mdp.39015076676025.json.bz2', 'mdp/pairtree_root/39/01/50/78/', 'mdp/pairtree_root/39/01/50/78/07/', 'mdp/pairtree_root/39/01/50/78/07/03/', 'mdp/pairtree_root/39/01/50/78/07/03/42/', 'mdp/pairtree_root/39/01/50/78/07/03/42/39015078070342/', 'mdp/pairtree_root/39/01/50/78/07/03/42/39015078070342/mdp.39015078070342.json.bz2', 'mdp/pairtree_root/39/01/50/78/21/', 'mdp/pairtree_root/39/01/50/78/21/50/', 'mdp/pairtree_root/39/01/50/78/21/50/20/', 'mdp/pairtree_root/39/01/50/78/21/50/20/39015078215020/', 'mdp/pairtree_root/39/01/50/78/21/50/20/39015078215020/mdp.39015078215020.json.bz2', 'mdp/pairtree_root/39/01/50/78/26/', 'mdp/pairtree_root/39/01/50/78/26/22/', 'mdp/pairtree_root/39/01/50/78/26/22/79/', 'mdp/pairtree_root/39/01/50/78/26/22/79/39015078262279/', 'mdp/pairtree_root/39/01/50/78/26/22/79/39015078262279/mdp.39015078262279.json.bz2', 'mdp/pairtree_root/39/01/50/78/26/59/', 'mdp/pairtree_root/39/01/50/78/26/59/75/', 'mdp/pairtree_root/39/01/50/78/26/59/75/39015078265975/', 'mdp/pairtree_root/39/01/50/78/26/59/75/39015078265975/mdp.39015078265975.json.bz2', 'mdp/pairtree_root/39/01/50/78/26/59/83/', 'mdp/pairtree_root/39/01/50/78/26/59/83/39015078265983/', 'mdp/pairtree_root/39/01/50/78/26/59/83/39015078265983/mdp.39015078265983.json.bz2', 'mdp/pairtree_root/39/01/50/78/26/59/91/', 'mdp/pairtree_root/39/01/50/78/26/59/91/39015078265991/', 'mdp/pairtree_root/39/01/50/78/26/59/91/39015078265991/mdp.39015078265991.json.bz2', 'mdp/pairtree_root/39/01/50/78/27/', 'mdp/pairtree_root/39/01/50/78/27/07/', 'mdp/pairtree_root/39/01/50/78/27/07/51/', 'mdp/pairtree_root/39/01/50/78/27/07/51/39015078270751/', 'mdp/pairtree_root/39/01/50/78/27/07/51/39015078270751/mdp.39015078270751.json.bz2', 'mdp/pairtree_root/39/01/50/78/31/', 'mdp/pairtree_root/39/01/50/78/31/73/', 'mdp/pairtree_root/39/01/50/78/31/73/62/', 'mdp/pairtree_root/39/01/50/78/31/73/62/39015078317362/', 'mdp/pairtree_root/39/01/50/78/31/73/62/39015078317362/mdp.39015078317362.json.bz2', 'mdp/pairtree_root/39/01/50/78/66/', 'mdp/pairtree_root/39/01/50/78/66/91/', 'mdp/pairtree_root/39/01/50/78/66/91/76/', 'mdp/pairtree_root/39/01/50/78/66/91/76/39015078669176/', 'mdp/pairtree_root/39/01/50/78/66/91/76/39015078669176/mdp.39015078669176.json.bz2', 'mdp/pairtree_root/39/01/50/79/', 'mdp/pairtree_root/39/01/50/79/17/', 'mdp/pairtree_root/39/01/50/79/17/28/', 'mdp/pairtree_root/39/01/50/79/17/28/57/', 'mdp/pairtree_root/39/01/50/79/17/28/57/39015079172857/', 'mdp/pairtree_root/39/01/50/79/17/28/57/39015079172857/mdp.39015079172857.json.bz2', 'mdp/pairtree_root/39/01/50/79/62/', 'mdp/pairtree_root/39/01/50/79/62/73/', 'mdp/pairtree_root/39/01/50/79/62/73/14/', 'mdp/pairtree_root/39/01/50/79/62/73/14/39015079627314/', 'mdp/pairtree_root/39/01/50/79/62/73/14/39015079627314/mdp.39015079627314.json.bz2', 'mdp/pairtree_root/39/01/50/79/63/', 'mdp/pairtree_root/39/01/50/79/63/27/', 'mdp/pairtree_root/39/01/50/79/63/27/28/', 'mdp/pairtree_root/39/01/50/79/63/27/28/39015079632728/', 'mdp/pairtree_root/39/01/50/79/63/27/28/39015079632728/mdp.39015079632728.json.bz2', 'mdp/pairtree_root/39/01/50/79/63/27/36/', 'mdp/pairtree_root/39/01/50/79/63/27/36/39015079632736/', 'mdp/pairtree_root/39/01/50/79/63/27/36/39015079632736/mdp.39015079632736.json.bz2', 'mdp/pairtree_root/39/01/50/79/63/27/44/', 'mdp/pairtree_root/39/01/50/79/63/27/44/39015079632744/', 'mdp/pairtree_root/39/01/50/79/63/27/44/39015079632744/mdp.39015079632744.json.bz2', 'mdp/pairtree_root/39/01/50/79/63/27/51/', 'mdp/pairtree_root/39/01/50/79/63/27/51/39015079632751/', 'mdp/pairtree_root/39/01/50/79/63/27/51/39015079632751/mdp.39015079632751.json.bz2', 'mdp/pairtree_root/39/01/50/79/63/27/69/', 'mdp/pairtree_root/39/01/50/79/63/27/69/39015079632769/', 'mdp/pairtree_root/39/01/50/79/63/27/69/39015079632769/mdp.39015079632769.json.bz2', 'mdp/pairtree_root/39/01/50/79/63/30/', 'mdp/pairtree_root/39/01/50/79/63/30/64/', 'mdp/pairtree_root/39/01/50/79/63/30/64/39015079633064/', 'mdp/pairtree_root/39/01/50/79/63/30/64/39015079633064/mdp.39015079633064.json.bz2', 'mdp/pairtree_root/39/01/50/79/63/30/72/', 'mdp/pairtree_root/39/01/50/79/63/30/72/39015079633072/', 'mdp/pairtree_root/39/01/50/79/63/30/72/39015079633072/mdp.39015079633072.json.bz2', 'mdp/pairtree_root/39/01/50/79/90/', 'mdp/pairtree_root/39/01/50/79/90/52/', 'mdp/pairtree_root/39/01/50/79/90/52/64/', 'mdp/pairtree_root/39/01/50/79/90/52/64/39015079905264/', 'mdp/pairtree_root/39/01/50/79/90/52/64/39015079905264/mdp.39015079905264.json.bz2', 'mdp/pairtree_root/49/', 'mdp/pairtree_root/49/01/', 'mdp/pairtree_root/49/01/50/', 'mdp/pairtree_root/49/01/50/00/', 'mdp/pairtree_root/49/01/50/00/04/', 'mdp/pairtree_root/49/01/50/00/04/07/', 'mdp/pairtree_root/49/01/50/00/04/07/91/', 'mdp/pairtree_root/49/01/50/00/04/07/91/49015000040791/', 'mdp/pairtree_root/49/01/50/00/04/07/91/49015000040791/mdp.49015000040791.json.bz2', 'mdp/pairtree_root/49/01/50/00/04/09/', 'mdp/pairtree_root/49/01/50/00/04/09/24/', 'mdp/pairtree_root/49/01/50/00/04/09/24/49015000040924/', 'mdp/pairtree_root/49/01/50/00/04/09/24/49015000040924/mdp.49015000040924.json.bz2', 'mdp/pairtree_root/49/01/50/01/', 'mdp/pairtree_root/49/01/50/01/45/', 'mdp/pairtree_root/49/01/50/01/45/14/', 'mdp/pairtree_root/49/01/50/01/45/14/01/', 'mdp/pairtree_root/49/01/50/01/45/14/01/49015001451401/', 'mdp/pairtree_root/49/01/50/01/45/14/01/49015001451401/mdp.49015001451401.json.bz2', 'mdp/pairtree_root/49/01/50/02/', 'mdp/pairtree_root/49/01/50/02/46/', 'mdp/pairtree_root/49/01/50/02/46/59/', 'mdp/pairtree_root/49/01/50/02/46/59/62/', 'mdp/pairtree_root/49/01/50/02/46/59/62/49015002465962/', 'mdp/pairtree_root/49/01/50/02/46/59/62/49015002465962/mdp.49015002465962.json.bz2', 'miun/', 'miun/pairtree_root/', 'miun/pairtree_root/ae/', 'miun/pairtree_root/ae/z5/', 'miun/pairtree_root/ae/z5/46/', 'miun/pairtree_root/ae/z5/46/7,/', 'miun/pairtree_root/ae/z5/46/7,/00/', 'miun/pairtree_root/ae/z5/46/7,/00/01/', 'miun/pairtree_root/ae/z5/46/7,/00/01/,0/', 'miun/pairtree_root/ae/z5/46/7,/00/01/,0/01/', 'miun/pairtree_root/ae/z5/46/7,/00/01/,0/01/aez5467,0001,001/', 'miun/pairtree_root/ae/z5/46/7,/00/01/,0/01/aez5467,0001,001/miun.aez5467,0001,001.json.bz2', 'nc01/', 'nc01/pairtree_root/', 'nc01/pairtree_root/ar/', 'nc01/pairtree_root/ar/k+/', 'nc01/pairtree_root/ar/k+/=1/', 'nc01/pairtree_root/ar/k+/=1/39/', 'nc01/pairtree_root/ar/k+/=1/39/60/', 'nc01/pairtree_root/ar/k+/=1/39/60/=t/', 'nc01/pairtree_root/ar/k+/=1/39/60/=t/4p/', 'nc01/pairtree_root/ar/k+/=1/39/60/=t/4p/k1/', 'nc01/pairtree_root/ar/k+/=1/39/60/=t/4p/k1/75/', 'nc01/pairtree_root/ar/k+/=1/39/60/=t/4p/k1/75/5w/', 'nc01/pairtree_root/ar/k+/=1/39/60/=t/4p/k1/75/5w/ark+=13960=t4pk1755w/', 'nc01/pairtree_root/ar/k+/=1/39/60/=t/4p/k1/75/5w/ark+=13960=t4pk1755w/nc01.ark+=13960=t4pk1755w.json.bz2', 'njp/', 'njp/pairtree_root/', 'njp/pairtree_root/32/', 'njp/pairtree_root/32/10/', 'njp/pairtree_root/32/10/10/', 'njp/pairtree_root/32/10/10/74/', 'njp/pairtree_root/32/10/10/74/71/', 'njp/pairtree_root/32/10/10/74/71/05/', 'njp/pairtree_root/32/10/10/74/71/05/16/', 'njp/pairtree_root/32/10/10/74/71/05/16/32101074710516/', 'njp/pairtree_root/32/10/10/74/71/05/16/32101074710516/njp.32101074710516.json.bz2', 'nyp/', 'nyp/pairtree_root/', 'nyp/pairtree_root/33/', 'nyp/pairtree_root/33/43/', 'nyp/pairtree_root/33/43/30/', 'nyp/pairtree_root/33/43/30/34/', 'nyp/pairtree_root/33/43/30/34/01/', 'nyp/pairtree_root/33/43/30/34/01/80/', 'nyp/pairtree_root/33/43/30/34/01/80/14/', 'nyp/pairtree_root/33/43/30/34/01/80/14/33433034018014/', 'nyp/pairtree_root/33/43/30/34/01/80/14/33433034018014/nyp.33433034018014.json.bz2', 'nyp/pairtree_root/33/43/30/34/61/', 'nyp/pairtree_root/33/43/30/34/61/49/', 'nyp/pairtree_root/33/43/30/34/61/49/37/', 'nyp/pairtree_root/33/43/30/34/61/49/37/33433034614937/', 'nyp/pairtree_root/33/43/30/34/61/49/37/33433034614937/nyp.33433034614937.json.bz2', 'nyp/pairtree_root/33/43/30/68/', 'nyp/pairtree_root/33/43/30/68/16/', 'nyp/pairtree_root/33/43/30/68/16/89/', 'nyp/pairtree_root/33/43/30/68/16/89/41/', 'nyp/pairtree_root/33/43/30/68/16/89/41/33433068168941/', 'nyp/pairtree_root/33/43/30/68/16/89/41/33433068168941/nyp.33433068168941.json.bz2', 'nyp/pairtree_root/33/43/30/74/', 'nyp/pairtree_root/33/43/30/74/79/', 'nyp/pairtree_root/33/43/30/74/79/93/', 'nyp/pairtree_root/33/43/30/74/79/93/90/', 'nyp/pairtree_root/33/43/30/74/79/93/90/33433074799390/', 'nyp/pairtree_root/33/43/30/74/79/93/90/33433074799390/nyp.33433074799390.json.bz2', 'nyp/pairtree_root/33/43/30/81/', 'nyp/pairtree_root/33/43/30/81/78/', 'nyp/pairtree_root/33/43/30/81/78/50/', 'nyp/pairtree_root/33/43/30/81/78/50/77/', 'nyp/pairtree_root/33/43/30/81/78/50/77/33433081785077/', 'nyp/pairtree_root/33/43/30/81/78/50/77/33433081785077/nyp.33433081785077.json.bz2', 'nyp/pairtree_root/33/43/30/81/79/', 'nyp/pairtree_root/33/43/30/81/79/20/', 'nyp/pairtree_root/33/43/30/81/79/20/73/', 'nyp/pairtree_root/33/43/30/81/79/20/73/33433081792073/', 'nyp/pairtree_root/33/43/30/81/79/20/73/33433081792073/nyp.33433081792073.json.bz2', 'nyp/pairtree_root/33/43/30/82/', 'nyp/pairtree_root/33/43/30/82/39/', 'nyp/pairtree_root/33/43/30/82/39/59/', 'nyp/pairtree_root/33/43/30/82/39/59/67/', 'nyp/pairtree_root/33/43/30/82/39/59/67/33433082395967/', 'nyp/pairtree_root/33/43/30/82/39/59/67/33433082395967/nyp.33433082395967.json.bz2', 'pst/', 'pst/pairtree_root/', 'pst/pairtree_root/00/', 'pst/pairtree_root/00/00/', 'pst/pairtree_root/00/00/08/', 'pst/pairtree_root/00/00/08/92/', 'pst/pairtree_root/00/00/08/92/84/', 'pst/pairtree_root/00/00/08/92/84/74/', 'pst/pairtree_root/00/00/08/92/84/74/000008928474/', 'pst/pairtree_root/00/00/08/92/84/74/000008928474/pst.000008928474.json.bz2', 'pst/pairtree_root/00/00/09/', 'pst/pairtree_root/00/00/09/25/', 'pst/pairtree_root/00/00/09/25/63/', 'pst/pairtree_root/00/00/09/25/63/47/', 'pst/pairtree_root/00/00/09/25/63/47/000009256347/', 'pst/pairtree_root/00/00/09/25/63/47/000009256347/pst.000009256347.json.bz2', 'pst/pairtree_root/00/00/09/90/', 'pst/pairtree_root/00/00/09/90/16/', 'pst/pairtree_root/00/00/09/90/16/43/', 'pst/pairtree_root/00/00/09/90/16/43/000009901643/', 'pst/pairtree_root/00/00/09/90/16/43/000009901643/pst.000009901643.json.bz2', 'pst/pairtree_root/00/00/13/', 'pst/pairtree_root/00/00/13/55/', 'pst/pairtree_root/00/00/13/55/00/', 'pst/pairtree_root/00/00/13/55/00/42/', 'pst/pairtree_root/00/00/13/55/00/42/000013550042/', 'pst/pairtree_root/00/00/13/55/00/42/000013550042/pst.000013550042.json.bz2', 'pst/pairtree_root/00/00/22/', 'pst/pairtree_root/00/00/22/03/', 'pst/pairtree_root/00/00/22/03/47/', 'pst/pairtree_root/00/00/22/03/47/24/', 'pst/pairtree_root/00/00/22/03/47/24/000022034724/', 'pst/pairtree_root/00/00/22/03/47/24/000022034724/pst.000022034724.json.bz2', 'pst/pairtree_root/00/00/24/', 'pst/pairtree_root/00/00/24/45/', 'pst/pairtree_root/00/00/24/45/76/', 'pst/pairtree_root/00/00/24/45/76/44/', 'pst/pairtree_root/00/00/24/45/76/44/000024457644/', 'pst/pairtree_root/00/00/24/45/76/44/000024457644/pst.000024457644.json.bz2', 'pst/pairtree_root/00/00/45/', 'pst/pairtree_root/00/00/45/71/', 'pst/pairtree_root/00/00/45/71/20/', 'pst/pairtree_root/00/00/45/71/20/50/', 'pst/pairtree_root/00/00/45/71/20/50/000045712050/', 'pst/pairtree_root/00/00/45/71/20/50/000045712050/pst.000045712050.json.bz2', 'pst/pairtree_root/00/00/60/', 'pst/pairtree_root/00/00/60/21/', 'pst/pairtree_root/00/00/60/21/01/', 'pst/pairtree_root/00/00/60/21/01/35/', 'pst/pairtree_root/00/00/60/21/01/35/000060210135/', 'pst/pairtree_root/00/00/60/21/01/35/000060210135/pst.000060210135.json.bz2', 'pur1/', 'pur1/pairtree_root/', 'pur1/pairtree_root/32/', 'pur1/pairtree_root/32/75/', 'pur1/pairtree_root/32/75/40/', 'pur1/pairtree_root/32/75/40/64/', 'pur1/pairtree_root/32/75/40/64/20/', 'pur1/pairtree_root/32/75/40/64/20/01/', 'pur1/pairtree_root/32/75/40/64/20/01/85/', 'pur1/pairtree_root/32/75/40/64/20/01/85/32754064200185/', 'pur1/pairtree_root/32/75/40/64/20/01/85/32754064200185/pur1.32754064200185.json.bz2', 'pur1/pairtree_root/32/75/40/75/', 'pur1/pairtree_root/32/75/40/75/49/', 'pur1/pairtree_root/32/75/40/75/49/61/', 'pur1/pairtree_root/32/75/40/75/49/61/29/', 'pur1/pairtree_root/32/75/40/75/49/61/29/32754075496129/', 'pur1/pairtree_root/32/75/40/75/49/61/29/32754075496129/pur1.32754075496129.json.bz2', 'pur1/pairtree_root/32/75/40/76/', 'pur1/pairtree_root/32/75/40/76/78/', 'pur1/pairtree_root/32/75/40/76/78/86/', 'pur1/pairtree_root/32/75/40/76/78/86/23/', 'pur1/pairtree_root/32/75/40/76/78/86/23/32754076788623/', 'pur1/pairtree_root/32/75/40/76/78/86/23/32754076788623/pur1.32754076788623.json.bz2', 'uc1/', 'uc1/pairtree_root/', 'uc1/pairtree_root/$b/', 'uc1/pairtree_root/$b/13/', 'uc1/pairtree_root/$b/13/79/', 'uc1/pairtree_root/$b/13/79/87/', 'uc1/pairtree_root/$b/13/79/87/$b137987/', 'uc1/pairtree_root/$b/13/79/87/$b137987/uc1.$b137987.json.bz2', 'uc1/pairtree_root/$b/17/', 'uc1/pairtree_root/$b/17/26/', 'uc1/pairtree_root/$b/17/26/1/', 'uc1/pairtree_root/$b/17/26/1/$b17261/', 'uc1/pairtree_root/$b/17/26/1/$b17261/uc1.$b17261.json.bz2', 'uc1/pairtree_root/$b/28/', 'uc1/pairtree_root/$b/28/25/', 'uc1/pairtree_root/$b/28/25/10/', 'uc1/pairtree_root/$b/28/25/10/$b282510/', 'uc1/pairtree_root/$b/28/25/10/$b282510/uc1.$b282510.json.bz2', 'uc1/pairtree_root/$b/29/', 'uc1/pairtree_root/$b/29/71/', 'uc1/pairtree_root/$b/29/71/30/', 'uc1/pairtree_root/$b/29/71/30/$b297130/', 'uc1/pairtree_root/$b/29/71/30/$b297130/uc1.$b297130.json.bz2', 'uc1/pairtree_root/$b/30/', 'uc1/pairtree_root/$b/30/54/', 'uc1/pairtree_root/$b/30/54/15/', 'uc1/pairtree_root/$b/30/54/15/$b305415/', 'uc1/pairtree_root/$b/30/54/15/$b305415/uc1.$b305415.json.bz2', 'uc1/pairtree_root/$b/30/89/', 'uc1/pairtree_root/$b/30/89/29/', 'uc1/pairtree_root/$b/30/89/29/$b308929/', 'uc1/pairtree_root/$b/30/89/29/$b308929/uc1.$b308929.json.bz2', 'uc1/pairtree_root/$b/31/', 'uc1/pairtree_root/$b/31/68/', 'uc1/pairtree_root/$b/31/68/95/', 'uc1/pairtree_root/$b/31/68/95/$b316895/', 'uc1/pairtree_root/$b/31/68/95/$b316895/uc1.$b316895.json.bz2', 'uc1/pairtree_root/$b/53/', 'uc1/pairtree_root/$b/53/29/', 'uc1/pairtree_root/$b/53/29/20/', 'uc1/pairtree_root/$b/53/29/20/$b532920/', 'uc1/pairtree_root/$b/53/29/20/$b532920/uc1.$b532920.json.bz2', 'uc1/pairtree_root/$b/53/29/21/', 'uc1/pairtree_root/$b/53/29/21/$b532921/', 'uc1/pairtree_root/$b/53/29/21/$b532921/uc1.$b532921.json.bz2', 'uc1/pairtree_root/$b/53/29/23/', 'uc1/pairtree_root/$b/53/29/23/$b532923/', 'uc1/pairtree_root/$b/53/29/23/$b532923/uc1.$b532923.json.bz2', 'uc1/pairtree_root/$b/53/29/24/', 'uc1/pairtree_root/$b/53/29/24/$b532924/', 'uc1/pairtree_root/$b/53/29/24/$b532924/uc1.$b532924.json.bz2', 'uc1/pairtree_root/$b/53/46/', 'uc1/pairtree_root/$b/53/46/07/', 'uc1/pairtree_root/$b/53/46/07/$b534607/', 'uc1/pairtree_root/$b/53/46/07/$b534607/uc1.$b534607.json.bz2', 'uc1/pairtree_root/$b/54/', 'uc1/pairtree_root/$b/54/35/', 'uc1/pairtree_root/$b/54/35/02/', 'uc1/pairtree_root/$b/54/35/02/$b543502/', 'uc1/pairtree_root/$b/54/35/02/$b543502/uc1.$b543502.json.bz2', 'uc1/pairtree_root/$b/59/', 'uc1/pairtree_root/$b/59/70/', 'uc1/pairtree_root/$b/59/70/4/', 'uc1/pairtree_root/$b/59/70/4/$b59704/', 'uc1/pairtree_root/$b/59/70/4/$b59704/uc1.$b59704.json.bz2', 'uc1/pairtree_root/$b/65/', 'uc1/pairtree_root/$b/65/82/', 'uc1/pairtree_root/$b/65/82/49/', 'uc1/pairtree_root/$b/65/82/49/$b658249/', 'uc1/pairtree_root/$b/65/82/49/$b658249/uc1.$b658249.json.bz2', 'uc1/pairtree_root/$b/66/', 'uc1/pairtree_root/$b/66/72/', 'uc1/pairtree_root/$b/66/72/7/', 'uc1/pairtree_root/$b/66/72/7/$b66727/', 'uc1/pairtree_root/$b/66/72/7/$b66727/uc1.$b66727.json.bz2', 'uc1/pairtree_root/$b/68/', 'uc1/pairtree_root/$b/68/93/', 'uc1/pairtree_root/$b/68/93/15/', 'uc1/pairtree_root/$b/68/93/15/$b689315/', 'uc1/pairtree_root/$b/68/93/15/$b689315/uc1.$b689315.json.bz2', 'uc1/pairtree_root/$b/79/', 'uc1/pairtree_root/$b/79/12/', 'uc1/pairtree_root/$b/79/12/6/', 'uc1/pairtree_root/$b/79/12/6/$b79126/', 'uc1/pairtree_root/$b/79/12/6/$b79126/uc1.$b79126.json.bz2', 'uc1/pairtree_root/$b/79/12/8/', 'uc1/pairtree_root/$b/79/12/8/$b79128/', 'uc1/pairtree_root/$b/79/12/8/$b79128/uc1.$b79128.json.bz2', 'uc1/pairtree_root/$b/79/12/9/', 'uc1/pairtree_root/$b/79/12/9/$b79129/', 'uc1/pairtree_root/$b/79/12/9/$b79129/uc1.$b79129.json.bz2', 'uc1/pairtree_root/$b/79/20/', 'uc1/pairtree_root/$b/79/20/8/', 'uc1/pairtree_root/$b/79/20/8/$b79208/', 'uc1/pairtree_root/$b/79/20/8/$b79208/uc1.$b79208.json.bz2', 'uc1/pairtree_root/$b/86/', 'uc1/pairtree_root/$b/86/66/', 'uc1/pairtree_root/$b/86/66/9/', 'uc1/pairtree_root/$b/86/66/9/$b86669/', 'uc1/pairtree_root/$b/86/66/9/$b86669/uc1.$b86669.json.bz2', 'uc1/pairtree_root/31/', 'uc1/pairtree_root/31/82/', 'uc1/pairtree_root/31/82/20/', 'uc1/pairtree_root/31/82/20/05/', 'uc1/pairtree_root/31/82/20/05/68/', 'uc1/pairtree_root/31/82/20/05/68/65/', 'uc1/pairtree_root/31/82/20/05/68/65/48/', 'uc1/pairtree_root/31/82/20/05/68/65/48/31822005686548/', 'uc1/pairtree_root/31/82/20/05/68/65/48/31822005686548/uc1.31822005686548.json.bz2', 'uc1/pairtree_root/32/', 'uc1/pairtree_root/32/10/', 'uc1/pairtree_root/32/10/60/', 'uc1/pairtree_root/32/10/60/00/', 'uc1/pairtree_root/32/10/60/00/57/', 'uc1/pairtree_root/32/10/60/00/57/13/', 'uc1/pairtree_root/32/10/60/00/57/13/61/', 'uc1/pairtree_root/32/10/60/00/57/13/61/32106000571361/', 'uc1/pairtree_root/32/10/60/00/57/13/61/32106000571361/uc1.32106000571361.json.bz2', 'uc1/pairtree_root/32/10/60/10/', 'uc1/pairtree_root/32/10/60/10/64/', 'uc1/pairtree_root/32/10/60/10/64/08/', 'uc1/pairtree_root/32/10/60/10/64/08/26/', 'uc1/pairtree_root/32/10/60/10/64/08/26/32106010640826/', 'uc1/pairtree_root/32/10/60/10/64/08/26/32106010640826/uc1.32106010640826.json.bz2', 'uc1/pairtree_root/32/10/60/12/', 'uc1/pairtree_root/32/10/60/12/08/', 'uc1/pairtree_root/32/10/60/12/08/87/', 'uc1/pairtree_root/32/10/60/12/08/87/19/', 'uc1/pairtree_root/32/10/60/12/08/87/19/32106012088719/', 'uc1/pairtree_root/32/10/60/12/08/87/19/32106012088719/uc1.32106012088719.json.bz2', 'uc1/pairtree_root/32/10/60/20/', 'uc1/pairtree_root/32/10/60/20/06/', 'uc1/pairtree_root/32/10/60/20/06/59/', 'uc1/pairtree_root/32/10/60/20/06/59/72/', 'uc1/pairtree_root/32/10/60/20/06/59/72/32106020065972/', 'uc1/pairtree_root/32/10/60/20/06/59/72/32106020065972/uc1.32106020065972.json.bz2', 'uc1/pairtree_root/32/10/60/20/06/59/80/', 'uc1/pairtree_root/32/10/60/20/06/59/80/32106020065980/', 'uc1/pairtree_root/32/10/60/20/06/59/80/32106020065980/uc1.32106020065980.json.bz2', 'uc1/pairtree_root/32/10/60/20/07/', 'uc1/pairtree_root/32/10/60/20/07/23/', 'uc1/pairtree_root/32/10/60/20/07/23/58/', 'uc1/pairtree_root/32/10/60/20/07/23/58/32106020072358/', 'uc1/pairtree_root/32/10/60/20/07/23/58/32106020072358/uc1.32106020072358.json.bz2', 'uc1/pairtree_root/32/10/60/20/07/23/90/', 'uc1/pairtree_root/32/10/60/20/07/23/90/32106020072390/', 'uc1/pairtree_root/32/10/60/20/07/23/90/32106020072390/uc1.32106020072390.json.bz2', 'uc1/pairtree_root/32/10/60/20/07/24/', 'uc1/pairtree_root/32/10/60/20/07/24/16/', 'uc1/pairtree_root/32/10/60/20/07/24/16/32106020072416/', 'uc1/pairtree_root/32/10/60/20/07/24/16/32106020072416/uc1.32106020072416.json.bz2', 'uc1/pairtree_root/32/10/60/20/07/24/40/', 'uc1/pairtree_root/32/10/60/20/07/24/40/32106020072440/', 'uc1/pairtree_root/32/10/60/20/07/24/40/32106020072440/uc1.32106020072440.json.bz2', 'uc1/pairtree_root/32/10/60/20/07/24/57/', 'uc1/pairtree_root/32/10/60/20/07/24/57/32106020072457/', 'uc1/pairtree_root/32/10/60/20/07/24/57/32106020072457/uc1.32106020072457.json.bz2', 'uc1/pairtree_root/32/10/60/20/07/25/', 'uc1/pairtree_root/32/10/60/20/07/25/56/', 'uc1/pairtree_root/32/10/60/20/07/25/56/32106020072556/', 'uc1/pairtree_root/32/10/60/20/07/25/56/32106020072556/uc1.32106020072556.json.bz2', 'uc1/pairtree_root/32/10/60/20/07/25/72/', 'uc1/pairtree_root/32/10/60/20/07/25/72/32106020072572/', 'uc1/pairtree_root/32/10/60/20/07/25/72/32106020072572/uc1.32106020072572.json.bz2', 'uc1/pairtree_root/32/10/60/20/34/', 'uc1/pairtree_root/32/10/60/20/34/31/', 'uc1/pairtree_root/32/10/60/20/34/31/06/', 'uc1/pairtree_root/32/10/60/20/34/31/06/32106020343106/', 'uc1/pairtree_root/32/10/60/20/34/31/06/32106020343106/uc1.32106020343106.json.bz2', 'uc1/pairtree_root/32/10/60/20/34/31/63/', 'uc1/pairtree_root/32/10/60/20/34/31/63/32106020343163/', 'uc1/pairtree_root/32/10/60/20/34/31/63/32106020343163/uc1.32106020343163.json.bz2', 'uc1/pairtree_root/32/10/60/20/34/31/71/', 'uc1/pairtree_root/32/10/60/20/34/31/71/32106020343171/', 'uc1/pairtree_root/32/10/60/20/34/31/71/32106020343171/uc1.32106020343171.json.bz2', 'uc1/pairtree_root/32/10/60/20/34/31/89/', 'uc1/pairtree_root/32/10/60/20/34/31/89/32106020343189/', 'uc1/pairtree_root/32/10/60/20/34/31/89/32106020343189/uc1.32106020343189.json.bz2', 'uc1/pairtree_root/32/10/60/20/34/31/97/', 'uc1/pairtree_root/32/10/60/20/34/31/97/32106020343197/', 'uc1/pairtree_root/32/10/60/20/34/31/97/32106020343197/uc1.32106020343197.json.bz2', 'uc1/pairtree_root/32/10/60/20/34/32/', 'uc1/pairtree_root/32/10/60/20/34/32/13/', 'uc1/pairtree_root/32/10/60/20/34/32/13/32106020343213/', 'uc1/pairtree_root/32/10/60/20/34/32/13/32106020343213/uc1.32106020343213.json.bz2', 'uc1/pairtree_root/32/10/60/20/34/32/21/', 'uc1/pairtree_root/32/10/60/20/34/32/21/32106020343221/', 'uc1/pairtree_root/32/10/60/20/34/32/21/32106020343221/uc1.32106020343221.json.bz2', 'uc1/pairtree_root/32/10/60/20/34/32/39/', 'uc1/pairtree_root/32/10/60/20/34/32/39/32106020343239/', 'uc1/pairtree_root/32/10/60/20/34/32/39/32106020343239/uc1.32106020343239.json.bz2', 'uc1/pairtree_root/32/10/60/20/34/32/47/', 'uc1/pairtree_root/32/10/60/20/34/32/47/32106020343247/', 'uc1/pairtree_root/32/10/60/20/34/32/47/32106020343247/uc1.32106020343247.json.bz2', 'uc1/pairtree_root/32/10/60/20/34/32/54/', 'uc1/pairtree_root/32/10/60/20/34/32/54/32106020343254/', 'uc1/pairtree_root/32/10/60/20/34/32/54/32106020343254/uc1.32106020343254.json.bz2', 'uc1/pairtree_root/32/10/60/20/34/32/70/', 'uc1/pairtree_root/32/10/60/20/34/32/70/32106020343270/', 'uc1/pairtree_root/32/10/60/20/34/32/70/32106020343270/uc1.32106020343270.json.bz2', 'uc1/pairtree_root/32/10/60/20/34/32/96/', 'uc1/pairtree_root/32/10/60/20/34/32/96/32106020343296/', 'uc1/pairtree_root/32/10/60/20/34/32/96/32106020343296/uc1.32106020343296.json.bz2', 'uc1/pairtree_root/32/10/60/20/40/', 'uc1/pairtree_root/32/10/60/20/40/34/', 'uc1/pairtree_root/32/10/60/20/40/34/13/', 'uc1/pairtree_root/32/10/60/20/40/34/13/32106020403413/', 'uc1/pairtree_root/32/10/60/20/40/34/13/32106020403413/uc1.32106020403413.json.bz2', 'uc1/pairtree_root/32/10/60/20/40/34/21/', 'uc1/pairtree_root/32/10/60/20/40/34/21/32106020403421/', 'uc1/pairtree_root/32/10/60/20/40/34/21/32106020403421/uc1.32106020403421.json.bz2', 'uc1/pairtree_root/32/10/60/20/40/34/47/', 'uc1/pairtree_root/32/10/60/20/40/34/47/32106020403447/', 'uc1/pairtree_root/32/10/60/20/40/34/47/32106020403447/uc1.32106020403447.json.bz2', 'uc1/pairtree_root/32/10/60/20/40/34/54/', 'uc1/pairtree_root/32/10/60/20/40/34/54/32106020403454/', 'uc1/pairtree_root/32/10/60/20/40/34/54/32106020403454/uc1.32106020403454.json.bz2', 'uc1/pairtree_root/32/10/60/20/40/34/70/', 'uc1/pairtree_root/32/10/60/20/40/34/70/32106020403470/', 'uc1/pairtree_root/32/10/60/20/40/34/70/32106020403470/uc1.32106020403470.json.bz2', 'uc1/pairtree_root/32/10/60/20/40/34/96/', 'uc1/pairtree_root/32/10/60/20/40/34/96/32106020403496/', 'uc1/pairtree_root/32/10/60/20/40/34/96/32106020403496/uc1.32106020403496.json.bz2', 'uc1/pairtree_root/32/10/60/20/40/35/', 'uc1/pairtree_root/32/10/60/20/40/35/04/', 'uc1/pairtree_root/32/10/60/20/40/35/04/32106020403504/', 'uc1/pairtree_root/32/10/60/20/40/35/04/32106020403504/uc1.32106020403504.json.bz2', 'uc1/pairtree_root/32/10/60/20/40/35/38/', 'uc1/pairtree_root/32/10/60/20/40/35/38/32106020403538/', 'uc1/pairtree_root/32/10/60/20/40/35/38/32106020403538/uc1.32106020403538.json.bz2', 'uc1/pairtree_root/b2/', 'uc1/pairtree_root/b2/84/', 'uc1/pairtree_root/b2/84/39/', 'uc1/pairtree_root/b2/84/39/60/', 'uc1/pairtree_root/b2/84/39/60/b2843960/', 'uc1/pairtree_root/b2/84/39/60/b2843960/uc1.b2843960.json.bz2', 'uc1/pairtree_root/b3/', 'uc1/pairtree_root/b3/10/', 'uc1/pairtree_root/b3/10/99/', 'uc1/pairtree_root/b3/10/99/39/', 'uc1/pairtree_root/b3/10/99/39/b3109939/', 'uc1/pairtree_root/b3/10/99/39/b3109939/uc1.b3109939.json.bz2', 'uc1/pairtree_root/b3/34/', 'uc1/pairtree_root/b3/34/07/', 'uc1/pairtree_root/b3/34/07/12/', 'uc1/pairtree_root/b3/34/07/12/b3340712/', 'uc1/pairtree_root/b3/34/07/12/b3340712/uc1.b3340712.json.bz2', 'uc1/pairtree_root/b3/47/', 'uc1/pairtree_root/b3/47/87/', 'uc1/pairtree_root/b3/47/87/08/', 'uc1/pairtree_root/b3/47/87/08/b3478708/', 'uc1/pairtree_root/b3/47/87/08/b3478708/uc1.b3478708.json.bz2', 'uc1/pairtree_root/b3/89/', 'uc1/pairtree_root/b3/89/81/', 'uc1/pairtree_root/b3/89/81/32/', 'uc1/pairtree_root/b3/89/81/32/b3898132/', 'uc1/pairtree_root/b3/89/81/32/b3898132/uc1.b3898132.json.bz2', 'uc1/pairtree_root/b4/', 'uc1/pairtree_root/b4/07/', 'uc1/pairtree_root/b4/07/79/', 'uc1/pairtree_root/b4/07/79/67/', 'uc1/pairtree_root/b4/07/79/67/b4077967/', 'uc1/pairtree_root/b4/07/79/67/b4077967/uc1.b4077967.json.bz2', 'uc1/pairtree_root/b4/22/', 'uc1/pairtree_root/b4/22/85/', 'uc1/pairtree_root/b4/22/85/15/', 'uc1/pairtree_root/b4/22/85/15/b4228515/', 'uc1/pairtree_root/b4/22/85/15/b4228515/uc1.b4228515.json.bz2', 'uc1/pairtree_root/b4/23/', 'uc1/pairtree_root/b4/23/23/', 'uc1/pairtree_root/b4/23/23/99/', 'uc1/pairtree_root/b4/23/23/99/b4232399/', 'uc1/pairtree_root/b4/23/23/99/b4232399/uc1.b4232399.json.bz2', 'uc1/pairtree_root/b4/24/', 'uc1/pairtree_root/b4/24/71/', 'uc1/pairtree_root/b4/24/71/03/', 'uc1/pairtree_root/b4/24/71/03/b4247103/', 'uc1/pairtree_root/b4/24/71/03/b4247103/uc1.b4247103.json.bz2', 'uc1/pairtree_root/b4/37/', 'uc1/pairtree_root/b4/37/36/', 'uc1/pairtree_root/b4/37/36/32/', 'uc1/pairtree_root/b4/37/36/32/b4373632/', 'uc1/pairtree_root/b4/37/36/32/b4373632/uc1.b4373632.json.bz2', 'uc1/pairtree_root/b4/37/36/34/', 'uc1/pairtree_root/b4/37/36/34/b4373634/', 'uc1/pairtree_root/b4/37/36/34/b4373634/uc1.b4373634.json.bz2', 'uc1/pairtree_root/b4/37/36/35/', 'uc1/pairtree_root/b4/37/36/35/b4373635/', 'uc1/pairtree_root/b4/37/36/35/b4373635/uc1.b4373635.json.bz2', 'uc1/pairtree_root/b4/37/36/38/', 'uc1/pairtree_root/b4/37/36/38/b4373638/', 'uc1/pairtree_root/b4/37/36/38/b4373638/uc1.b4373638.json.bz2', 'uc1/pairtree_root/b4/37/36/41/', 'uc1/pairtree_root/b4/37/36/41/b4373641/', 'uc1/pairtree_root/b4/37/36/41/b4373641/uc1.b4373641.json.bz2', 'uc1/pairtree_root/b4/37/36/84/', 'uc1/pairtree_root/b4/37/36/84/b4373684/', 'uc1/pairtree_root/b4/37/36/84/b4373684/uc1.b4373684.json.bz2', 'uc1/pairtree_root/b4/37/65/', 'uc1/pairtree_root/b4/37/65/85/', 'uc1/pairtree_root/b4/37/65/85/b4376585/', 'uc1/pairtree_root/b4/37/65/85/b4376585/uc1.b4376585.json.bz2', 'uc1/pairtree_root/b4/44/', 'uc1/pairtree_root/b4/44/61/', 'uc1/pairtree_root/b4/44/61/01/', 'uc1/pairtree_root/b4/44/61/01/b4446101/', 'uc1/pairtree_root/b4/44/61/01/b4446101/uc1.b4446101.json.bz2', 'uc1/pairtree_root/b4/44/75/', 'uc1/pairtree_root/b4/44/75/43/', 'uc1/pairtree_root/b4/44/75/43/b4447543/', 'uc1/pairtree_root/b4/44/75/43/b4447543/uc1.b4447543.json.bz2', 'uc1/pairtree_root/b4/44/75/44/', 'uc1/pairtree_root/b4/44/75/44/b4447544/', 'uc1/pairtree_root/b4/44/75/44/b4447544/uc1.b4447544.json.bz2', 'uc1/pairtree_root/b4/44/75/45/', 'uc1/pairtree_root/b4/44/75/45/b4447545/', 'uc1/pairtree_root/b4/44/75/45/b4447545/uc1.b4447545.json.bz2', 'uc1/pairtree_root/b4/52/', 'uc1/pairtree_root/b4/52/43/', 'uc1/pairtree_root/b4/52/43/71/', 'uc1/pairtree_root/b4/52/43/71/b4524371/', 'uc1/pairtree_root/b4/52/43/71/b4524371/uc1.b4524371.json.bz2', 'uc1/pairtree_root/b4/60/', 'uc1/pairtree_root/b4/60/32/', 'uc1/pairtree_root/b4/60/32/50/', 'uc1/pairtree_root/b4/60/32/50/b4603250/', 'uc1/pairtree_root/b4/60/32/50/b4603250/uc1.b4603250.json.bz2', 'uc1/pairtree_root/b4/91/', 'uc1/pairtree_root/b4/91/92/', 'uc1/pairtree_root/b4/91/92/62/', 'uc1/pairtree_root/b4/91/92/62/b4919262/', 'uc1/pairtree_root/b4/91/92/62/b4919262/uc1.b4919262.json.bz2', 'uc2/', 'uc2/pairtree_root/', 'uc2/pairtree_root/ar/', 'uc2/pairtree_root/ar/k+/', 'uc2/pairtree_root/ar/k+/=1/', 'uc2/pairtree_root/ar/k+/=1/39/', 'uc2/pairtree_root/ar/k+/=1/39/60/', 'uc2/pairtree_root/ar/k+/=1/39/60/=f/', 'uc2/pairtree_root/ar/k+/=1/39/60/=f/k1/', 'uc2/pairtree_root/ar/k+/=1/39/60/=f/k1/cj/', 'uc2/pairtree_root/ar/k+/=1/39/60/=f/k1/cj/87/', 'uc2/pairtree_root/ar/k+/=1/39/60/=f/k1/cj/87/p8/', 'uc2/pairtree_root/ar/k+/=1/39/60/=f/k1/cj/87/p8/7/', 'uc2/pairtree_root/ar/k+/=1/39/60/=f/k1/cj/87/p8/7/ark+=13960=fk1cj87p87/', 'uc2/pairtree_root/ar/k+/=1/39/60/=f/k1/cj/87/p8/7/ark+=13960=fk1cj87p87/uc2.ark+=13960=fk1cj87p87.json.bz2', 'uc2/pairtree_root/ar/k+/=1/39/60/=f/k2/', 'uc2/pairtree_root/ar/k+/=1/39/60/=f/k2/d7/', 'uc2/pairtree_root/ar/k+/=1/39/60/=f/k2/d7/95/', 'uc2/pairtree_root/ar/k+/=1/39/60/=f/k2/d7/95/g0/', 'uc2/pairtree_root/ar/k+/=1/39/60/=f/k2/d7/95/g0/z/', 'uc2/pairtree_root/ar/k+/=1/39/60/=f/k2/d7/95/g0/z/ark+=13960=fk2d795g0z/', 'uc2/pairtree_root/ar/k+/=1/39/60/=f/k2/d7/95/g0/z/ark+=13960=fk2d795g0z/uc2.ark+=13960=fk2d795g0z.json.bz2', 'uc2/pairtree_root/ar/k+/=1/39/60/=f/k2/f7/', 'uc2/pairtree_root/ar/k+/=1/39/60/=f/k2/f7/66/', 'uc2/pairtree_root/ar/k+/=1/39/60/=f/k2/f7/66/c6/', 'uc2/pairtree_root/ar/k+/=1/39/60/=f/k2/f7/66/c6/5/', 'uc2/pairtree_root/ar/k+/=1/39/60/=f/k2/f7/66/c6/5/ark+=13960=fk2f766c65/', 'uc2/pairtree_root/ar/k+/=1/39/60/=f/k2/f7/66/c6/5/ark+=13960=fk2f766c65/uc2.ark+=13960=fk2f766c65.json.bz2', 'uc2/pairtree_root/ar/k+/=1/39/60/=f/k7/', 'uc2/pairtree_root/ar/k+/=1/39/60/=f/k7/1v/', 'uc2/pairtree_root/ar/k+/=1/39/60/=f/k7/1v/5b/', 'uc2/pairtree_root/ar/k+/=1/39/60/=f/k7/1v/5b/x4/', 'uc2/pairtree_root/ar/k+/=1/39/60/=f/k7/1v/5b/x4/g/', 'uc2/pairtree_root/ar/k+/=1/39/60/=f/k7/1v/5b/x4/g/ark+=13960=fk71v5bx4g/', 'uc2/pairtree_root/ar/k+/=1/39/60/=f/k7/1v/5b/x4/g/ark+=13960=fk71v5bx4g/uc2.ark+=13960=fk71v5bx4g.json.bz2', 'uc2/pairtree_root/ar/k+/=1/39/60/=t/', 'uc2/pairtree_root/ar/k+/=1/39/60/=t/13/', 'uc2/pairtree_root/ar/k+/=1/39/60/=t/13/n2/', 'uc2/pairtree_root/ar/k+/=1/39/60/=t/13/n2/14/', 'uc2/pairtree_root/ar/k+/=1/39/60/=t/13/n2/14/4f/', 'uc2/pairtree_root/ar/k+/=1/39/60/=t/13/n2/14/4f/ark+=13960=t13n2144f/', 'uc2/pairtree_root/ar/k+/=1/39/60/=t/13/n2/14/4f/ark+=13960=t13n2144f/uc2.ark+=13960=t13n2144f.json.bz2', 'uc2/pairtree_root/ar/k+/=1/39/60/=t/1k/', 'uc2/pairtree_root/ar/k+/=1/39/60/=t/1k/h0/', 'uc2/pairtree_root/ar/k+/=1/39/60/=t/1k/h0/fr/', 'uc2/pairtree_root/ar/k+/=1/39/60/=t/1k/h0/fr/17/', 'uc2/pairtree_root/ar/k+/=1/39/60/=t/1k/h0/fr/17/ark+=13960=t1kh0fr17/', 'uc2/pairtree_root/ar/k+/=1/39/60/=t/1k/h0/fr/17/ark+=13960=t1kh0fr17/uc2.ark+=13960=t1kh0fr17.json.bz2', 'uc2/pairtree_root/ar/k+/=1/39/60/=t/2b/', 'uc2/pairtree_root/ar/k+/=1/39/60/=t/2b/85/', 'uc2/pairtree_root/ar/k+/=1/39/60/=t/2b/85/6k/', 'uc2/pairtree_root/ar/k+/=1/39/60/=t/2b/85/6k/3n/', 'uc2/pairtree_root/ar/k+/=1/39/60/=t/2b/85/6k/3n/ark+=13960=t2b856k3n/', 'uc2/pairtree_root/ar/k+/=1/39/60/=t/2b/85/6k/3n/ark+=13960=t2b856k3n/uc2.ark+=13960=t2b856k3n.json.bz2', 'uc2/pairtree_root/ar/k+/=1/39/60/=t/2t/', 'uc2/pairtree_root/ar/k+/=1/39/60/=t/2t/43/', 'uc2/pairtree_root/ar/k+/=1/39/60/=t/2t/43/j4/', 'uc2/pairtree_root/ar/k+/=1/39/60/=t/2t/43/j4/73/', 'uc2/pairtree_root/ar/k+/=1/39/60/=t/2t/43/j4/73/ark+=13960=t2t43j473/', 'uc2/pairtree_root/ar/k+/=1/39/60/=t/2t/43/j4/73/ark+=13960=t2t43j473/uc2.ark+=13960=t2t43j473.json.bz2', 'uc2/pairtree_root/ar/k+/=1/39/60/=t/3m/', 'uc2/pairtree_root/ar/k+/=1/39/60/=t/3m/w2/', 'uc2/pairtree_root/ar/k+/=1/39/60/=t/3m/w2/q5/', 'uc2/pairtree_root/ar/k+/=1/39/60/=t/3m/w2/q5/39/', 'uc2/pairtree_root/ar/k+/=1/39/60/=t/3m/w2/q5/39/ark+=13960=t3mw2q539/', 'uc2/pairtree_root/ar/k+/=1/39/60/=t/3m/w2/q5/39/ark+=13960=t3mw2q539/uc2.ark+=13960=t3mw2q539.json.bz2', 'uc2/pairtree_root/ar/k+/=1/39/60/=t/3x/', 'uc2/pairtree_root/ar/k+/=1/39/60/=t/3x/s5/', 'uc2/pairtree_root/ar/k+/=1/39/60/=t/3x/s5/mn/', 'uc2/pairtree_root/ar/k+/=1/39/60/=t/3x/s5/mn/6p/', 'uc2/pairtree_root/ar/k+/=1/39/60/=t/3x/s5/mn/6p/ark+=13960=t3xs5mn6p/', 'uc2/pairtree_root/ar/k+/=1/39/60/=t/3x/s5/mn/6p/ark+=13960=t3xs5mn6p/uc2.ark+=13960=t3xs5mn6p.json.bz2', 'uc2/pairtree_root/ar/k+/=1/39/60/=t/4h/', 'uc2/pairtree_root/ar/k+/=1/39/60/=t/4h/m5/', 'uc2/pairtree_root/ar/k+/=1/39/60/=t/4h/m5/cg/', 'uc2/pairtree_root/ar/k+/=1/39/60/=t/4h/m5/cg/9t/', 'uc2/pairtree_root/ar/k+/=1/39/60/=t/4h/m5/cg/9t/ark+=13960=t4hm5cg9t/', 'uc2/pairtree_root/ar/k+/=1/39/60/=t/4h/m5/cg/9t/ark+=13960=t4hm5cg9t/uc2.ark+=13960=t4hm5cg9t.json.bz2', 'uc2/pairtree_root/ar/k+/=1/39/60/=t/62/', 'uc2/pairtree_root/ar/k+/=1/39/60/=t/62/51/', 'uc2/pairtree_root/ar/k+/=1/39/60/=t/62/51/g0/', 'uc2/pairtree_root/ar/k+/=1/39/60/=t/62/51/g0/3d/', 'uc2/pairtree_root/ar/k+/=1/39/60/=t/62/51/g0/3d/ark+=13960=t6251g03d/', 'uc2/pairtree_root/ar/k+/=1/39/60/=t/62/51/g0/3d/ark+=13960=t6251g03d/uc2.ark+=13960=t6251g03d.json.bz2', 'uc2/pairtree_root/ar/k+/=1/39/60/=t/70/', 'uc2/pairtree_root/ar/k+/=1/39/60/=t/70/v8/', 'uc2/pairtree_root/ar/k+/=1/39/60/=t/70/v8/b1/', 'uc2/pairtree_root/ar/k+/=1/39/60/=t/70/v8/b1/7b/', 'uc2/pairtree_root/ar/k+/=1/39/60/=t/70/v8/b1/7b/ark+=13960=t70v8b17b/', 'uc2/pairtree_root/ar/k+/=1/39/60/=t/70/v8/b1/7b/ark+=13960=t70v8b17b/uc2.ark+=13960=t70v8b17b.json.bz2', 'uiug/', 'uiug/pairtree_root/', 'uiug/pairtree_root/30/', 'uiug/pairtree_root/30/11/', 'uiug/pairtree_root/30/11/20/', 'uiug/pairtree_root/30/11/20/04/', 'uiug/pairtree_root/30/11/20/04/60/', 'uiug/pairtree_root/30/11/20/04/60/43/', 'uiug/pairtree_root/30/11/20/04/60/43/17/', 'uiug/pairtree_root/30/11/20/04/60/43/17/30112004604317/', 'uiug/pairtree_root/30/11/20/04/60/43/17/30112004604317/uiug.30112004604317.json.bz2', 'uiug/pairtree_root/30/11/20/33/', 'uiug/pairtree_root/30/11/20/33/16/', 'uiug/pairtree_root/30/11/20/33/16/90/', 'uiug/pairtree_root/30/11/20/33/16/90/68/', 'uiug/pairtree_root/30/11/20/33/16/90/68/30112033169068/', 'uiug/pairtree_root/30/11/20/33/16/90/68/30112033169068/uiug.30112033169068.json.bz2', 'uiug/pairtree_root/30/11/20/39/', 'uiug/pairtree_root/30/11/20/39/48/', 'uiug/pairtree_root/30/11/20/39/48/77/', 'uiug/pairtree_root/30/11/20/39/48/77/20/', 'uiug/pairtree_root/30/11/20/39/48/77/20/30112039487720/', 'uiug/pairtree_root/30/11/20/39/48/77/20/30112039487720/uiug.30112039487720.json.bz2', 'uiug/pairtree_root/30/11/20/40/', 'uiug/pairtree_root/30/11/20/40/00/', 'uiug/pairtree_root/30/11/20/40/00/19/', 'uiug/pairtree_root/30/11/20/40/00/19/81/', 'uiug/pairtree_root/30/11/20/40/00/19/81/30112040001981/', 'uiug/pairtree_root/30/11/20/40/00/19/81/30112040001981/uiug.30112040001981.json.bz2', 'uiug/pairtree_root/30/11/20/40/00/19/99/', 'uiug/pairtree_root/30/11/20/40/00/19/99/30112040001999/', 'uiug/pairtree_root/30/11/20/40/00/19/99/30112040001999/uiug.30112040001999.json.bz2', 'uiug/pairtree_root/30/11/20/40/26/', 'uiug/pairtree_root/30/11/20/40/26/34/', 'uiug/pairtree_root/30/11/20/40/26/34/25/', 'uiug/pairtree_root/30/11/20/40/26/34/25/30112040263425/', 'uiug/pairtree_root/30/11/20/40/26/34/25/30112040263425/uiug.30112040263425.json.bz2', 'uiug/pairtree_root/30/11/20/59/', 'uiug/pairtree_root/30/11/20/59/85/', 'uiug/pairtree_root/30/11/20/59/85/98/', 'uiug/pairtree_root/30/11/20/59/85/98/81/', 'uiug/pairtree_root/30/11/20/59/85/98/81/30112059859881/', 'uiug/pairtree_root/30/11/20/59/85/98/81/30112059859881/uiug.30112059859881.json.bz2', 'uiug/pairtree_root/30/11/20/63/', 'uiug/pairtree_root/30/11/20/63/97/', 'uiug/pairtree_root/30/11/20/63/97/46/', 'uiug/pairtree_root/30/11/20/63/97/46/19/', 'uiug/pairtree_root/30/11/20/63/97/46/19/30112063974619/', 'uiug/pairtree_root/30/11/20/63/97/46/19/30112063974619/uiug.30112063974619.json.bz2', 'uiug/pairtree_root/30/11/20/88/', 'uiug/pairtree_root/30/11/20/88/20/', 'uiug/pairtree_root/30/11/20/88/20/62/', 'uiug/pairtree_root/30/11/20/88/20/62/86/', 'uiug/pairtree_root/30/11/20/88/20/62/86/30112088206286/', 'uiug/pairtree_root/30/11/20/88/20/62/86/30112088206286/uiug.30112088206286.json.bz2', 'uiug/pairtree_root/30/11/21/', 'uiug/pairtree_root/30/11/21/05/', 'uiug/pairtree_root/30/11/21/05/05/', 'uiug/pairtree_root/30/11/21/05/05/88/', 'uiug/pairtree_root/30/11/21/05/05/88/76/', 'uiug/pairtree_root/30/11/21/05/05/88/76/30112105058876/', 'uiug/pairtree_root/30/11/21/05/05/88/76/30112105058876/uiug.30112105058876.json.bz2', 'uiug/pairtree_root/30/11/21/05/12/', 'uiug/pairtree_root/30/11/21/05/12/33/', 'uiug/pairtree_root/30/11/21/05/12/33/08/', 'uiug/pairtree_root/30/11/21/05/12/33/08/30112105123308/', 'uiug/pairtree_root/30/11/21/05/12/33/08/30112105123308/uiug.30112105123308.json.bz2', 'uiug/pairtree_root/30/11/21/06/', 'uiug/pairtree_root/30/11/21/06/66/', 'uiug/pairtree_root/30/11/21/06/66/62/', 'uiug/pairtree_root/30/11/21/06/66/62/55/', 'uiug/pairtree_root/30/11/21/06/66/62/55/30112106666255/', 'uiug/pairtree_root/30/11/21/06/66/62/55/30112106666255/uiug.30112106666255.json.bz2', 'uiuo/', 'uiuo/pairtree_root/', 'uiuo/pairtree_root/ar/', 'uiuo/pairtree_root/ar/k+/', 'uiuo/pairtree_root/ar/k+/=1/', 'uiuo/pairtree_root/ar/k+/=1/39/', 'uiuo/pairtree_root/ar/k+/=1/39/60/', 'uiuo/pairtree_root/ar/k+/=1/39/60/=t/', 'uiuo/pairtree_root/ar/k+/=1/39/60/=t/3b/', 'uiuo/pairtree_root/ar/k+/=1/39/60/=t/3b/z6/', 'uiuo/pairtree_root/ar/k+/=1/39/60/=t/3b/z6/c3/', 'uiuo/pairtree_root/ar/k+/=1/39/60/=t/3b/z6/c3/7x/', 'uiuo/pairtree_root/ar/k+/=1/39/60/=t/3b/z6/c3/7x/ark+=13960=t3bz6c37x/', 'uiuo/pairtree_root/ar/k+/=1/39/60/=t/3b/z6/c3/7x/ark+=13960=t3bz6c37x/uiuo.ark+=13960=t3bz6c37x.json.bz2', 'umn/', 'umn/pairtree_root/', 'umn/pairtree_root/31/', 'umn/pairtree_root/31/95/', 'umn/pairtree_root/31/95/10/', 'umn/pairtree_root/31/95/10/00/', 'umn/pairtree_root/31/95/10/00/54/', 'umn/pairtree_root/31/95/10/00/54/85/', 'umn/pairtree_root/31/95/10/00/54/85/91/', 'umn/pairtree_root/31/95/10/00/54/85/91/1/', 'umn/pairtree_root/31/95/10/00/54/85/91/1/319510005485911/', 'umn/pairtree_root/31/95/10/00/54/85/91/1/319510005485911/umn.319510005485911.json.bz2', 'umn/pairtree_root/31/95/10/01/', 'umn/pairtree_root/31/95/10/01/35/', 'umn/pairtree_root/31/95/10/01/35/19/', 'umn/pairtree_root/31/95/10/01/35/19/32/', 'umn/pairtree_root/31/95/10/01/35/19/32/0/', 'umn/pairtree_root/31/95/10/01/35/19/32/0/319510013519320/', 'umn/pairtree_root/31/95/10/01/35/19/32/0/319510013519320/umn.319510013519320.json.bz2', 'umn/pairtree_root/31/95/1d/', 'umn/pairtree_root/31/95/1d/00/', 'umn/pairtree_root/31/95/1d/00/02/', 'umn/pairtree_root/31/95/1d/00/02/78/', 'umn/pairtree_root/31/95/1d/00/02/78/88/', 'umn/pairtree_root/31/95/1d/00/02/78/88/8/', 'umn/pairtree_root/31/95/1d/00/02/78/88/8/31951d000278888/', 'umn/pairtree_root/31/95/1d/00/02/78/88/8/31951d000278888/umn.31951d000278888.json.bz2', 'umn/pairtree_root/31/95/1d/00/18/', 'umn/pairtree_root/31/95/1d/00/18/49/', 'umn/pairtree_root/31/95/1d/00/18/49/26/', 'umn/pairtree_root/31/95/1d/00/18/49/26/y/', 'umn/pairtree_root/31/95/1d/00/18/49/26/y/31951d00184926y/', 'umn/pairtree_root/31/95/1d/00/18/49/26/y/31951d00184926y/umn.31951d00184926y.json.bz2', 'umn/pairtree_root/31/95/1d/01/', 'umn/pairtree_root/31/95/1d/01/78/', 'umn/pairtree_root/31/95/1d/01/78/87/', 'umn/pairtree_root/31/95/1d/01/78/87/70/', 'umn/pairtree_root/31/95/1d/01/78/87/70/5/', 'umn/pairtree_root/31/95/1d/01/78/87/70/5/31951d017887705/', 'umn/pairtree_root/31/95/1d/01/78/87/70/5/31951d017887705/umn.31951d017887705.json.bz2', 'umn/pairtree_root/31/95/1d/01/95/', 'umn/pairtree_root/31/95/1d/01/95/60/', 'umn/pairtree_root/31/95/1d/01/95/60/99/', 'umn/pairtree_root/31/95/1d/01/95/60/99/n/', 'umn/pairtree_root/31/95/1d/01/95/60/99/n/31951d01956099n/', 'umn/pairtree_root/31/95/1d/01/95/60/99/n/31951d01956099n/umn.31951d01956099n.json.bz2', 'umn/pairtree_root/31/95/1d/02/', 'umn/pairtree_root/31/95/1d/02/32/', 'umn/pairtree_root/31/95/1d/02/32/51/', 'umn/pairtree_root/31/95/1d/02/32/51/02/', 'umn/pairtree_root/31/95/1d/02/32/51/02/9/', 'umn/pairtree_root/31/95/1d/02/32/51/02/9/31951d023251029/', 'umn/pairtree_root/31/95/1d/02/32/51/02/9/31951d023251029/umn.31951d023251029.json.bz2', 'umn/pairtree_root/31/95/1p/', 'umn/pairtree_root/31/95/1p/00/', 'umn/pairtree_root/31/95/1p/00/58/', 'umn/pairtree_root/31/95/1p/00/58/35/', 'umn/pairtree_root/31/95/1p/00/58/35/55/', 'umn/pairtree_root/31/95/1p/00/58/35/55/8/', 'umn/pairtree_root/31/95/1p/00/58/35/55/8/31951p005835558/', 'umn/pairtree_root/31/95/1p/00/58/35/55/8/31951p005835558/umn.31951p005835558.json.bz2', 'umn/pairtree_root/31/95/1p/00/93/', 'umn/pairtree_root/31/95/1p/00/93/07/', 'umn/pairtree_root/31/95/1p/00/93/07/37/', 'umn/pairtree_root/31/95/1p/00/93/07/37/j/', 'umn/pairtree_root/31/95/1p/00/93/07/37/j/31951p00930737j/', 'umn/pairtree_root/31/95/1p/00/93/07/37/j/31951p00930737j/umn.31951p00930737j.json.bz2', 'umn/pairtree_root/31/95/1p/00/93/08/', 'umn/pairtree_root/31/95/1p/00/93/08/97/', 'umn/pairtree_root/31/95/1p/00/93/08/97/x/', 'umn/pairtree_root/31/95/1p/00/93/08/97/x/31951p00930897x/', 'umn/pairtree_root/31/95/1p/00/93/08/97/x/31951p00930897x/umn.31951p00930897x.json.bz2', 'umn/pairtree_root/31/95/1p/01/', 'umn/pairtree_root/31/95/1p/01/00/', 'umn/pairtree_root/31/95/1p/01/00/73/', 'umn/pairtree_root/31/95/1p/01/00/73/32/', 'umn/pairtree_root/31/95/1p/01/00/73/32/b/', 'umn/pairtree_root/31/95/1p/01/00/73/32/b/31951p01007332b/', 'umn/pairtree_root/31/95/1p/01/00/73/32/b/31951p01007332b/umn.31951p01007332b.json.bz2', 'umn/pairtree_root/31/95/1t/', 'umn/pairtree_root/31/95/1t/00/', 'umn/pairtree_root/31/95/1t/00/08/', 'umn/pairtree_root/31/95/1t/00/08/00/', 'umn/pairtree_root/31/95/1t/00/08/00/43/', 'umn/pairtree_root/31/95/1t/00/08/00/43/9/', 'umn/pairtree_root/31/95/1t/00/08/00/43/9/31951t000800439/', 'umn/pairtree_root/31/95/1t/00/08/00/43/9/31951t000800439/umn.31951t000800439.json.bz2', 'umn/pairtree_root/31/95/1t/00/08/00/44/', 'umn/pairtree_root/31/95/1t/00/08/00/44/7/', 'umn/pairtree_root/31/95/1t/00/08/00/44/7/31951t000800447/', 'umn/pairtree_root/31/95/1t/00/08/00/44/7/31951t000800447/umn.31951t000800447.json.bz2', 'umn/pairtree_root/31/95/1t/00/08/13/', 'umn/pairtree_root/31/95/1t/00/08/13/41/', 'umn/pairtree_root/31/95/1t/00/08/13/41/w/', 'umn/pairtree_root/31/95/1t/00/08/13/41/w/31951t00081341w/', 'umn/pairtree_root/31/95/1t/00/08/13/41/w/31951t00081341w/umn.31951t00081341w.json.bz2', 'uva/', 'uva/pairtree_root/', 'uva/pairtree_root/x0/', 'uva/pairtree_root/x0/30/', 'uva/pairtree_root/x0/30/76/', 'uva/pairtree_root/x0/30/76/47/', 'uva/pairtree_root/x0/30/76/47/78/', 'uva/pairtree_root/x0/30/76/47/78/x030764778/', 'uva/pairtree_root/x0/30/76/47/78/x030764778/uva.x030764778.json.bz2', 'wu/', 'wu/pairtree_root/', 'wu/pairtree_root/89/', 'wu/pairtree_root/89/01/', 'wu/pairtree_root/89/01/10/', 'wu/pairtree_root/89/01/10/46/', 'wu/pairtree_root/89/01/10/46/86/', 'wu/pairtree_root/89/01/10/46/86/9/', 'wu/pairtree_root/89/01/10/46/86/9/89011046869/', 'wu/pairtree_root/89/01/10/46/86/9/89011046869/wu.89011046869.json.bz2', 'wu/pairtree_root/89/04/', 'wu/pairtree_root/89/04/86/', 'wu/pairtree_root/89/04/86/27/', 'wu/pairtree_root/89/04/86/27/32/', 'wu/pairtree_root/89/04/86/27/32/7/', 'wu/pairtree_root/89/04/86/27/32/7/89048627327/', 'wu/pairtree_root/89/04/86/27/32/7/89048627327/wu.89048627327.json.bz2', 'wu/pairtree_root/89/05/', 'wu/pairtree_root/89/05/83/', 'wu/pairtree_root/89/05/83/06/', 'wu/pairtree_root/89/05/83/06/37/', 'wu/pairtree_root/89/05/83/06/37/4/', 'wu/pairtree_root/89/05/83/06/37/4/89058306374/', 'wu/pairtree_root/89/05/83/06/37/4/89058306374/wu.89058306374.json.bz2', 'wu/pairtree_root/89/05/83/06/39/', 'wu/pairtree_root/89/05/83/06/39/0/', 'wu/pairtree_root/89/05/83/06/39/0/89058306390/', 'wu/pairtree_root/89/05/83/06/39/0/89058306390/wu.89058306390.json.bz2', 'wu/pairtree_root/89/05/83/06/50/', 'wu/pairtree_root/89/05/83/06/50/7/', 'wu/pairtree_root/89/05/83/06/50/7/89058306507/', 'wu/pairtree_root/89/05/83/06/50/7/89058306507/wu.89058306507.json.bz2', 'wu/pairtree_root/89/05/83/06/52/', 'wu/pairtree_root/89/05/83/06/52/3/', 'wu/pairtree_root/89/05/83/06/52/3/89058306523/', 'wu/pairtree_root/89/05/83/06/52/3/89058306523/wu.89058306523.json.bz2', 'wu/pairtree_root/89/05/83/06/53/', 'wu/pairtree_root/89/05/83/06/53/1/', 'wu/pairtree_root/89/05/83/06/53/1/89058306531/', 'wu/pairtree_root/89/05/83/06/53/1/89058306531/wu.89058306531.json.bz2', 'wu/pairtree_root/89/05/83/06/54/', 'wu/pairtree_root/89/05/83/06/54/9/', 'wu/pairtree_root/89/05/83/06/54/9/89058306549/', 'wu/pairtree_root/89/05/83/06/54/9/89058306549/wu.89058306549.json.bz2', 'wu/pairtree_root/89/05/83/06/55/', 'wu/pairtree_root/89/05/83/06/55/6/', 'wu/pairtree_root/89/05/83/06/55/6/89058306556/', 'wu/pairtree_root/89/05/83/06/55/6/89058306556/wu.89058306556.json.bz2', 'wu/pairtree_root/89/05/83/06/57/', 'wu/pairtree_root/89/05/83/06/57/2/', 'wu/pairtree_root/89/05/83/06/57/2/89058306572/', 'wu/pairtree_root/89/05/83/06/57/2/89058306572/wu.89058306572.json.bz2', 'wu/pairtree_root/89/05/83/06/58/', 'wu/pairtree_root/89/05/83/06/58/0/', 'wu/pairtree_root/89/05/83/06/58/0/89058306580/', 'wu/pairtree_root/89/05/83/06/58/0/89058306580/wu.89058306580.json.bz2', 'wu/pairtree_root/89/05/83/08/', 'wu/pairtree_root/89/05/83/08/95/', 'wu/pairtree_root/89/05/83/08/95/8/', 'wu/pairtree_root/89/05/83/08/95/8/89058308958/', 'wu/pairtree_root/89/05/83/08/95/8/89058308958/wu.89058308958.json.bz2', 'wu/pairtree_root/89/05/83/15/', 'wu/pairtree_root/89/05/83/15/17/', 'wu/pairtree_root/89/05/83/15/17/7/', 'wu/pairtree_root/89/05/83/15/17/7/89058315177/', 'wu/pairtree_root/89/05/83/15/17/7/89058315177/wu.89058315177.json.bz2', 'wu/pairtree_root/89/05/84/', 'wu/pairtree_root/89/05/84/75/', 'wu/pairtree_root/89/05/84/75/00/', 'wu/pairtree_root/89/05/84/75/00/5/', 'wu/pairtree_root/89/05/84/75/00/5/89058475005/', 'wu/pairtree_root/89/05/84/75/00/5/89058475005/wu.89058475005.json.bz2', 'wu/pairtree_root/89/06/', 'wu/pairtree_root/89/06/04/', 'wu/pairtree_root/89/06/04/38/', 'wu/pairtree_root/89/06/04/38/47/', 'wu/pairtree_root/89/06/04/38/47/0/', 'wu/pairtree_root/89/06/04/38/47/0/89060438470/', 'wu/pairtree_root/89/06/04/38/47/0/89060438470/wu.89060438470.json.bz2', 'wu/pairtree_root/89/06/22/', 'wu/pairtree_root/89/06/22/63/', 'wu/pairtree_root/89/06/22/63/02/', 'wu/pairtree_root/89/06/22/63/02/5/', 'wu/pairtree_root/89/06/22/63/02/5/89062263025/', 'wu/pairtree_root/89/06/22/63/02/5/89062263025/wu.89062263025.json.bz2', 'wu/pairtree_root/89/06/29/', 'wu/pairtree_root/89/06/29/44/', 'wu/pairtree_root/89/06/29/44/12/', 'wu/pairtree_root/89/06/29/44/12/9/', 'wu/pairtree_root/89/06/29/44/12/9/89062944129/', 'wu/pairtree_root/89/06/29/44/12/9/89062944129/wu.89062944129.json.bz2', 'wu/pairtree_root/89/06/29/44/13/', 'wu/pairtree_root/89/06/29/44/13/7/', 'wu/pairtree_root/89/06/29/44/13/7/89062944137/', 'wu/pairtree_root/89/06/29/44/13/7/89062944137/wu.89062944137.json.bz2', 'wu/pairtree_root/89/06/29/46/', 'wu/pairtree_root/89/06/29/46/50/', 'wu/pairtree_root/89/06/29/46/50/4/', 'wu/pairtree_root/89/06/29/46/50/4/89062946504/', 'wu/pairtree_root/89/06/29/46/50/4/89062946504/wu.89062946504.json.bz2', 'wu/pairtree_root/89/06/29/46/53/', 'wu/pairtree_root/89/06/29/46/53/8/', 'wu/pairtree_root/89/06/29/46/53/8/89062946538/', 'wu/pairtree_root/89/06/29/46/53/8/89062946538/wu.89062946538.json.bz2', 'wu/pairtree_root/89/06/29/46/54/', 'wu/pairtree_root/89/06/29/46/54/6/', 'wu/pairtree_root/89/06/29/46/54/6/89062946546/', 'wu/pairtree_root/89/06/29/46/54/6/89062946546/wu.89062946546.json.bz2', 'wu/pairtree_root/89/06/29/47/', 'wu/pairtree_root/89/06/29/47/33/', 'wu/pairtree_root/89/06/29/47/33/8/', 'wu/pairtree_root/89/06/29/47/33/8/89062947338/', 'wu/pairtree_root/89/06/29/47/33/8/89062947338/wu.89062947338.json.bz2', 'wu/pairtree_root/89/06/29/49/', 'wu/pairtree_root/89/06/29/49/01/', 'wu/pairtree_root/89/06/29/49/01/1/', 'wu/pairtree_root/89/06/29/49/01/1/89062949011/', 'wu/pairtree_root/89/06/29/49/01/1/89062949011/wu.89062949011.json.bz2', 'wu/pairtree_root/89/06/60/', 'wu/pairtree_root/89/06/60/01/', 'wu/pairtree_root/89/06/60/01/12/', 'wu/pairtree_root/89/06/60/01/12/4/', 'wu/pairtree_root/89/06/60/01/12/4/89066001124/', 'wu/pairtree_root/89/06/60/01/12/4/89066001124/wu.89066001124.json.bz2', 'wu/pairtree_root/89/06/60/01/13/', 'wu/pairtree_root/89/06/60/01/13/2/', 'wu/pairtree_root/89/06/60/01/13/2/89066001132/', 'wu/pairtree_root/89/06/60/01/13/2/89066001132/wu.89066001132.json.bz2', 'wu/pairtree_root/89/06/60/01/14/', 'wu/pairtree_root/89/06/60/01/14/0/', 'wu/pairtree_root/89/06/60/01/14/0/89066001140/', 'wu/pairtree_root/89/06/60/01/14/0/89066001140/wu.89066001140.json.bz2', 'wu/pairtree_root/89/06/60/01/15/', 'wu/pairtree_root/89/06/60/01/15/7/', 'wu/pairtree_root/89/06/60/01/15/7/89066001157/', 'wu/pairtree_root/89/06/60/01/15/7/89066001157/wu.89066001157.json.bz2', 'wu/pairtree_root/89/06/60/01/16/', 'wu/pairtree_root/89/06/60/01/16/5/', 'wu/pairtree_root/89/06/60/01/16/5/89066001165/', 'wu/pairtree_root/89/06/60/01/16/5/89066001165/wu.89066001165.json.bz2', 'wu/pairtree_root/89/06/60/01/17/', 'wu/pairtree_root/89/06/60/01/17/3/', 'wu/pairtree_root/89/06/60/01/17/3/89066001173/', 'wu/pairtree_root/89/06/60/01/17/3/89066001173/wu.89066001173.json.bz2', 'wu/pairtree_root/89/06/60/01/18/', 'wu/pairtree_root/89/06/60/01/18/1/', 'wu/pairtree_root/89/06/60/01/18/1/89066001181/', 'wu/pairtree_root/89/06/60/01/18/1/89066001181/wu.89066001181.json.bz2', 'wu/pairtree_root/89/06/60/01/19/', 'wu/pairtree_root/89/06/60/01/19/9/', 'wu/pairtree_root/89/06/60/01/19/9/89066001199/', 'wu/pairtree_root/89/06/60/01/19/9/89066001199/wu.89066001199.json.bz2', 'wu/pairtree_root/89/06/60/80/', 'wu/pairtree_root/89/06/60/80/10/', 'wu/pairtree_root/89/06/60/80/10/2/', 'wu/pairtree_root/89/06/60/80/10/2/89066080102/', 'wu/pairtree_root/89/06/60/80/10/2/89066080102/wu.89066080102.json.bz2', 'wu/pairtree_root/89/06/64/', 'wu/pairtree_root/89/06/64/07/', 'wu/pairtree_root/89/06/64/07/14/', 'wu/pairtree_root/89/06/64/07/14/9/', 'wu/pairtree_root/89/06/64/07/14/9/89066407149/', 'wu/pairtree_root/89/06/64/07/14/9/89066407149/wu.89066407149.json.bz2', 'wu/pairtree_root/89/06/64/07/34/', 'wu/pairtree_root/89/06/64/07/34/7/', 'wu/pairtree_root/89/06/64/07/34/7/89066407347/', 'wu/pairtree_root/89/06/64/07/34/7/89066407347/wu.89066407347.json.bz2', 'wu/pairtree_root/89/06/64/50/', 'wu/pairtree_root/89/06/64/50/69/', 'wu/pairtree_root/89/06/64/50/69/3/', 'wu/pairtree_root/89/06/64/50/69/3/89066450693/', 'wu/pairtree_root/89/06/64/50/69/3/89066450693/wu.89066450693.json.bz2', 'wu/pairtree_root/89/06/92/', 'wu/pairtree_root/89/06/92/72/', 'wu/pairtree_root/89/06/92/72/57/', 'wu/pairtree_root/89/06/92/72/57/3/', 'wu/pairtree_root/89/06/92/72/57/3/89069272573/', 'wu/pairtree_root/89/06/92/72/57/3/89069272573/wu.89069272573.json.bz2', 'wu/pairtree_root/89/07/', 'wu/pairtree_root/89/07/22/', 'wu/pairtree_root/89/07/22/70/', 'wu/pairtree_root/89/07/22/70/74/', 'wu/pairtree_root/89/07/22/70/74/7/', 'wu/pairtree_root/89/07/22/70/74/7/89072270747/', 'wu/pairtree_root/89/07/22/70/74/7/89072270747/wu.89072270747.json.bz2', 'wu/pairtree_root/89/07/97/', 'wu/pairtree_root/89/07/97/37/', 'wu/pairtree_root/89/07/97/37/08/', 'wu/pairtree_root/89/07/97/37/08/6/', 'wu/pairtree_root/89/07/97/37/08/6/89079737086/', 'wu/pairtree_root/89/07/97/37/08/6/89079737086/wu.89079737086.json.bz2', 'wu/pairtree_root/89/08/', 'wu/pairtree_root/89/08/10/', 'wu/pairtree_root/89/08/10/70/', 'wu/pairtree_root/89/08/10/70/16/', 'wu/pairtree_root/89/08/10/70/16/1/', 'wu/pairtree_root/89/08/10/70/16/1/89081070161/', 'wu/pairtree_root/89/08/10/70/16/1/89081070161/wu.89081070161.json.bz2', 'wu/pairtree_root/89/08/23/', 'wu/pairtree_root/89/08/23/82/', 'wu/pairtree_root/89/08/23/82/02/', 'wu/pairtree_root/89/08/23/82/02/9/', 'wu/pairtree_root/89/08/23/82/02/9/89082382029/', 'wu/pairtree_root/89/08/23/82/02/9/89082382029/wu.89082382029.json.bz2', 'wu/pairtree_root/89/08/23/82/05/', 'wu/pairtree_root/89/08/23/82/05/2/', 'wu/pairtree_root/89/08/23/82/05/2/89082382052/', 'wu/pairtree_root/89/08/23/82/05/2/89082382052/wu.89082382052.json.bz2', 'wu/pairtree_root/89/08/24/', 'wu/pairtree_root/89/08/24/85/', 'wu/pairtree_root/89/08/24/85/17/', 'wu/pairtree_root/89/08/24/85/17/8/', 'wu/pairtree_root/89/08/24/85/17/8/89082485178/', 'wu/pairtree_root/89/08/24/85/17/8/89082485178/wu.89082485178.json.bz2', 'wu/pairtree_root/89/09/', 'wu/pairtree_root/89/09/43/', 'wu/pairtree_root/89/09/43/21/', 'wu/pairtree_root/89/09/43/21/57/', 'wu/pairtree_root/89/09/43/21/57/7/', 'wu/pairtree_root/89/09/43/21/57/7/89094321577/', 'wu/pairtree_root/89/09/43/21/57/7/89094321577/wu.89094321577.json.bz2', 'wu/pairtree_root/89/09/59/', 'wu/pairtree_root/89/09/59/26/', 'wu/pairtree_root/89/09/59/26/12/', 'wu/pairtree_root/89/09/59/26/12/7/', 'wu/pairtree_root/89/09/59/26/12/7/89095926127/', 'wu/pairtree_root/89/09/59/26/12/7/89095926127/wu.89095926127.json.bz2', 'wu/pairtree_root/89/09/63/', 'wu/pairtree_root/89/09/63/32/', 'wu/pairtree_root/89/09/63/32/69/', 'wu/pairtree_root/89/09/63/32/69/7/', 'wu/pairtree_root/89/09/63/32/69/7/89096332697/', 'wu/pairtree_root/89/09/63/32/69/7/89096332697/wu.89096332697.json.bz2', 'wu/pairtree_root/89/09/68/', 'wu/pairtree_root/89/09/68/39/', 'wu/pairtree_root/89/09/68/39/53/', 'wu/pairtree_root/89/09/68/39/53/5/', 'wu/pairtree_root/89/09/68/39/53/5/89096839535/', 'wu/pairtree_root/89/09/68/39/53/5/89096839535/wu.89096839535.json.bz2', 'wu/pairtree_root/89/09/90/', 'wu/pairtree_root/89/09/90/35/', 'wu/pairtree_root/89/09/90/35/16/', 'wu/pairtree_root/89/09/90/35/16/4/', 'wu/pairtree_root/89/09/90/35/16/4/89099035164/', 'wu/pairtree_root/89/09/90/35/16/4/89099035164/wu.89099035164.json.bz2', 'wu/pairtree_root/89/10/', 'wu/pairtree_root/89/10/86/', 'wu/pairtree_root/89/10/86/58/', 'wu/pairtree_root/89/10/86/58/73/', 'wu/pairtree_root/89/10/86/58/73/3/', 'wu/pairtree_root/89/10/86/58/73/3/89108658733/', 'wu/pairtree_root/89/10/86/58/73/3/89108658733/wu.89108658733.json.bz2', 'yale/', 'yale/pairtree_root/', 'yale/pairtree_root/39/', 'yale/pairtree_root/39/00/', 'yale/pairtree_root/39/00/20/', 'yale/pairtree_root/39/00/20/72/', 'yale/pairtree_root/39/00/20/72/58/', 'yale/pairtree_root/39/00/20/72/58/62/', 'yale/pairtree_root/39/00/20/72/58/62/00/', 'yale/pairtree_root/39/00/20/72/58/62/00/39002072586200/', 'yale/pairtree_root/39/00/20/72/58/62/00/39002072586200/yale.39002072586200.json.bz2', '', 'sent 50,914 bytes  received 81,235,290 bytes  10,838,160.53 bytes/sec', 'total size is 81,095,712  speedup is 1.00', 'rsync error: some files/attrs were not transferred (see previous errors) (code 23) at main.c(1721) [generator=3.1.2]']\n",
      "Path extraction complete\n"
     ]
    }
   ],
   "source": [
    "import os\n",
    "\n",
    "history_output = !htid2rsync --f history.txt | rsync -azv --files-from=- data.sharc.hathitrust.org::features/ history/\n",
    "poetry_output = !htid2rsync --f poetry.txt | rsync -azv --files-from=- data.sharc.hathitrust.org::features/ poetry/\n",
    "scifi_output = !htid2rsync --f scifi.txt | rsync -azv --files-from=- data.sharc.hathitrust.org::features/ scifi/\n",
    "outputs = list([history_output, poetry_output, scifi_output])\n",
    "subjects = ['history', 'poetry', 'scifi']\n",
    "\n",
    "paths = {}\n",
    "suffix = '.json.bz2'\n",
    "for subject, output in zip(subjects, outputs):\n",
    "    folder = subject\n",
    "    filePaths = [path for path in output if path.endswith(suffix)]\n",
    "    paths[subject] = [os.path.join(folder, path) for path in filePaths]\n",
    "    fn = subject + '_paths.txt'\n",
    "    with open(fn, 'w') as f:\n",
    "        for path in paths[subject]:\n",
    "            p = str(path) + '\\n'\n",
    "            f.write(p)\n",
    "\n",
    "#write paths into a .txt file\n",
    "\n",
    "print(\"Path extraction complete\")"
   ]
  },
  {
   "cell_type": "markdown",
   "metadata": {},
   "source": [
    "Save volumes for each class from their respective paths."
   ]
  },
  {
   "cell_type": "code",
   "execution_count": 17,
   "metadata": {
    "collapsed": false
   },
   "outputs": [
    {
     "name": "stdout",
     "output_type": "stream",
     "text": [
      "Finished reading paths\n"
     ]
    }
   ],
   "source": [
    "from htrc_features import FeatureReader\n",
    "\n",
    "paths = {}\n",
    "subjects = ['history', 'poetry', 'scifi']\n",
    "for subject in subjects:\n",
    "    with open(subject + '_paths.txt', 'r') as f:\n",
    "#         print(f.readlines())\n",
    "        paths[subject] = [line[:len(line)-1] for line in f.readlines()]\n",
    "        \n",
    "history = FeatureReader(paths['history'])\n",
    "\n",
    "poetry = FeatureReader(paths['poetry'])\n",
    "\n",
    "scifi = FeatureReader(paths['scifi'])\n",
    "\n",
    "print(\"Finished reading paths\")\n"
   ]
  },
  {
   "cell_type": "markdown",
   "metadata": {},
   "source": [
    "Recreating string versions of each text."
   ]
  },
  {
   "cell_type": "code",
   "execution_count": 46,
   "metadata": {
    "collapsed": false
   },
   "outputs": [],
   "source": [
    "import re\n",
    "import os\n",
    "\n",
    "def isPure(s):\n",
    "    return not any(char.isdigit() for char in s) and re.match('^[\\w-]+$', s) is not None\n",
    "\n",
    "def tableToString(ts, cs):\n",
    "    s = \"\"\n",
    "    for token, count in zip(ts, cs):\n",
    "        if isPure(token):\n",
    "            for i in cs:\n",
    "                s += token + \" \"\n",
    "    return s\n",
    "\n",
    "def getTokenString(vol):\n",
    "    volText = \"\"\n",
    "    for page in vol:\n",
    "        if page.token_count() > 0:\n",
    "            counts = [t for t in page.tokenlist()['count']]\n",
    "            tokens = page.tokens()\n",
    "            volString = tableToString(tokens, counts)\n",
    "            volText += volString\n",
    "    return volText    \n",
    "\n",
    "def writeVols(volumes, dirname, numTexts):\n",
    "    if not os.path.exists(dirname):\n",
    "        os.mkdir(dirname)\n",
    "    i = 0\n",
    "    for vol in volumes:\n",
    "        if i == numTexts:\n",
    "            break\n",
    "        i += 1\n",
    "        print(i, vol.title)\n",
    "        volText = getTokenString(vol)\n",
    "        fn = dirname + '/' + str(i) + '.txt'\n",
    "        with open(fn, 'w') as f:\n",
    "            f.write(volText)\n",
    "    "
   ]
  },
  {
   "cell_type": "code",
   "execution_count": 45,
   "metadata": {
    "collapsed": false
   },
   "outputs": [
    {
     "name": "stdout",
     "output_type": "stream",
     "text": [
      "1 Modern masterpieces of science fiction, edited by Sam Moskowitz.\n"
     ]
    },
    {
     "ename": "KeyboardInterrupt",
     "evalue": "",
     "output_type": "error",
     "traceback": [
      "\u001b[0;31m---------------------------------------------------------------------------\u001b[0m",
      "\u001b[0;31mKeyboardInterrupt\u001b[0m                         Traceback (most recent call last)",
      "\u001b[0;32m<ipython-input-45-4e87978e7961>\u001b[0m in \u001b[0;36m<module>\u001b[0;34m()\u001b[0m\n\u001b[1;32m      2\u001b[0m \u001b[0mhistDir\u001b[0m \u001b[0;34m=\u001b[0m \u001b[0;34m'history_texts'\u001b[0m\u001b[0;34m\u001b[0m\u001b[0m\n\u001b[1;32m      3\u001b[0m \u001b[0;34m\u001b[0m\u001b[0m\n\u001b[0;32m----> 4\u001b[0;31m \u001b[0mwriteTokenString\u001b[0m\u001b[0;34m(\u001b[0m\u001b[0mscifi\u001b[0m\u001b[0;34m.\u001b[0m\u001b[0mvolumes\u001b[0m\u001b[0;34m(\u001b[0m\u001b[0;34m)\u001b[0m\u001b[0;34m,\u001b[0m \u001b[0mscifiDir\u001b[0m\u001b[0;34m,\u001b[0m \u001b[0;36m10\u001b[0m\u001b[0;34m)\u001b[0m\u001b[0;34m\u001b[0m\u001b[0m\n\u001b[0m\u001b[1;32m      5\u001b[0m \u001b[0mwriteTokenString\u001b[0m\u001b[0;34m(\u001b[0m\u001b[0mhistory\u001b[0m\u001b[0;34m.\u001b[0m\u001b[0mvolumes\u001b[0m\u001b[0;34m(\u001b[0m\u001b[0;34m)\u001b[0m\u001b[0;34m,\u001b[0m \u001b[0mhistDir\u001b[0m\u001b[0;34m,\u001b[0m \u001b[0;36m10\u001b[0m\u001b[0;34m)\u001b[0m\u001b[0;34m\u001b[0m\u001b[0m\n\u001b[1;32m      6\u001b[0m \u001b[0;34m\u001b[0m\u001b[0m\n",
      "\u001b[0;32m<ipython-input-44-9d666da3162e>\u001b[0m in \u001b[0;36mwriteTokenString\u001b[0;34m(volumes, dirname, numTexts)\u001b[0m\n\u001b[1;32m     31\u001b[0m             \u001b[0;32mbreak\u001b[0m\u001b[0;34m\u001b[0m\u001b[0m\n\u001b[1;32m     32\u001b[0m         \u001b[0mi\u001b[0m \u001b[0;34m+=\u001b[0m \u001b[0;36m1\u001b[0m\u001b[0;34m\u001b[0m\u001b[0m\n\u001b[0;32m---> 33\u001b[0;31m         \u001b[0mvolText\u001b[0m \u001b[0;34m=\u001b[0m \u001b[0mgetTokenString\u001b[0m\u001b[0;34m(\u001b[0m\u001b[0mvol\u001b[0m\u001b[0;34m)\u001b[0m\u001b[0;34m\u001b[0m\u001b[0m\n\u001b[0m\u001b[1;32m     34\u001b[0m         \u001b[0mprint\u001b[0m\u001b[0;34m(\u001b[0m\u001b[0mi\u001b[0m\u001b[0;34m,\u001b[0m \u001b[0mvol\u001b[0m\u001b[0;34m.\u001b[0m\u001b[0mtitle\u001b[0m\u001b[0;34m)\u001b[0m\u001b[0;34m\u001b[0m\u001b[0m\n\u001b[1;32m     35\u001b[0m         \u001b[0mfn\u001b[0m \u001b[0;34m=\u001b[0m \u001b[0mdirname\u001b[0m \u001b[0;34m+\u001b[0m \u001b[0;34m'/'\u001b[0m \u001b[0;34m+\u001b[0m \u001b[0mstr\u001b[0m\u001b[0;34m(\u001b[0m\u001b[0mi\u001b[0m\u001b[0;34m)\u001b[0m \u001b[0;34m+\u001b[0m \u001b[0;34m'.txt'\u001b[0m\u001b[0;34m\u001b[0m\u001b[0m\n",
      "\u001b[0;32m<ipython-input-44-9d666da3162e>\u001b[0m in \u001b[0;36mgetTokenString\u001b[0;34m(vol)\u001b[0m\n\u001b[1;32m     19\u001b[0m             \u001b[0mcounts\u001b[0m \u001b[0;34m=\u001b[0m \u001b[0;34m[\u001b[0m\u001b[0mt\u001b[0m \u001b[0;32mfor\u001b[0m \u001b[0mt\u001b[0m \u001b[0;32min\u001b[0m \u001b[0mpage\u001b[0m\u001b[0;34m.\u001b[0m\u001b[0mtokenlist\u001b[0m\u001b[0;34m(\u001b[0m\u001b[0;34m)\u001b[0m\u001b[0;34m[\u001b[0m\u001b[0;34m'count'\u001b[0m\u001b[0;34m]\u001b[0m\u001b[0;34m]\u001b[0m\u001b[0;34m\u001b[0m\u001b[0m\n\u001b[1;32m     20\u001b[0m             \u001b[0mtokens\u001b[0m \u001b[0;34m=\u001b[0m \u001b[0mpage\u001b[0m\u001b[0;34m.\u001b[0m\u001b[0mtokens\u001b[0m\u001b[0;34m(\u001b[0m\u001b[0;34m)\u001b[0m\u001b[0;34m\u001b[0m\u001b[0m\n\u001b[0;32m---> 21\u001b[0;31m             \u001b[0mvolString\u001b[0m \u001b[0;34m=\u001b[0m \u001b[0mtableToString\u001b[0m\u001b[0;34m(\u001b[0m\u001b[0mtokens\u001b[0m\u001b[0;34m,\u001b[0m \u001b[0mcounts\u001b[0m\u001b[0;34m)\u001b[0m\u001b[0;34m\u001b[0m\u001b[0m\n\u001b[0m\u001b[1;32m     22\u001b[0m             \u001b[0mvolText\u001b[0m \u001b[0;34m+=\u001b[0m \u001b[0mvolString\u001b[0m\u001b[0;34m\u001b[0m\u001b[0m\n\u001b[1;32m     23\u001b[0m     \u001b[0;32mreturn\u001b[0m \u001b[0mvolText\u001b[0m\u001b[0;34m\u001b[0m\u001b[0m\n",
      "\u001b[0;32m<ipython-input-44-9d666da3162e>\u001b[0m in \u001b[0;36mtableToString\u001b[0;34m(ts, cs)\u001b[0m\n\u001b[1;32m     10\u001b[0m         \u001b[0;32mif\u001b[0m \u001b[0misPure\u001b[0m\u001b[0;34m(\u001b[0m\u001b[0mtoken\u001b[0m\u001b[0;34m)\u001b[0m\u001b[0;34m:\u001b[0m\u001b[0;34m\u001b[0m\u001b[0m\n\u001b[1;32m     11\u001b[0m             \u001b[0;32mfor\u001b[0m \u001b[0mi\u001b[0m \u001b[0;32min\u001b[0m \u001b[0mcs\u001b[0m\u001b[0;34m:\u001b[0m\u001b[0;34m\u001b[0m\u001b[0m\n\u001b[0;32m---> 12\u001b[0;31m                 \u001b[0ms\u001b[0m \u001b[0;34m+=\u001b[0m \u001b[0mtoken\u001b[0m \u001b[0;34m+\u001b[0m \u001b[0;34m\" \"\u001b[0m\u001b[0;34m\u001b[0m\u001b[0m\n\u001b[0m\u001b[1;32m     13\u001b[0m     \u001b[0;32mreturn\u001b[0m \u001b[0ms\u001b[0m\u001b[0;34m\u001b[0m\u001b[0m\n\u001b[1;32m     14\u001b[0m \u001b[0;34m\u001b[0m\u001b[0m\n",
      "\u001b[0;31mKeyboardInterrupt\u001b[0m: "
     ]
    }
   ],
   "source": [
    "scifiDir = 'scifi_texts'\n",
    "histDir = 'history_texts'\n",
    "\n",
    "\n",
    "\n",
    "writeTokenString(scifi.volumes(), scifiDir, 10)\n",
    "writeTokenString(history.volumes(), histDir, 10)\n",
    "\n",
    "print('Finished processing texts')"
   ]
  },
  {
   "cell_type": "code",
   "execution_count": 5,
   "metadata": {
    "collapsed": false
   },
   "outputs": [
    {
     "name": "stdout",
     "output_type": "stream",
     "text": [
      "Generated training data\n"
     ]
    }
   ],
   "source": [
    "import nltk\n",
    "import numpy as np\n",
    "import os\n",
    "from nltk.corpus import stopwords\n",
    "from sklearn.feature_extraction.text import CountVectorizer\n",
    "from sklearn.utils import shuffle\n",
    "\n",
    "X = []\n",
    "y = []\n",
    "for file in os.listdir('scifi_texts'):\n",
    "    with open('scifi_texts/' + file) as f:\n",
    "        X.append(str(f.readlines()))\n",
    "        y.append(0)\n",
    "\n",
    "for file in os.listdir('hist_texts'):\n",
    "    with open('hist_texts/' + file) as f:\n",
    "        X.append(str(f.readlines()))\n",
    "        y.append(1)\n",
    "\n",
    "np.random.seed(1)\n",
    "\n",
    "X, y = shuffle(X, y, random_state=0)\n",
    "print(\"Generated training data\")"
   ]
  },
  {
   "cell_type": "code",
   "execution_count": 6,
   "metadata": {
    "collapsed": false
   },
   "outputs": [
    {
     "data": {
      "text/plain": [
       "list"
      ]
     },
     "execution_count": 6,
     "metadata": {},
     "output_type": "execute_result"
    }
   ],
   "source": [
    "type(X)"
   ]
  },
  {
   "cell_type": "code",
   "execution_count": 9,
   "metadata": {
    "collapsed": false
   },
   "outputs": [
    {
     "name": "stdout",
     "output_type": "stream",
     "text": [
      "[ 1.          0.83333333  1.        ] 0.944444444444\n"
     ]
    }
   ],
   "source": [
    "from sklearn.pipeline import Pipeline\n",
    "from sklearn.feature_extraction.text import CountVectorizer, TfidfVectorizer, TfidfTransformer\n",
    "from sklearn.svm import LinearSVC\n",
    "from sklearn import cross_validation\n",
    "\n",
    "text_clf = Pipeline([('vect', CountVectorizer(ngram_range=(1, 2))),\n",
    "                    ('tfidf', TfidfTransformer()),\n",
    "                    ('clf', LinearSVC(random_state=0))\n",
    "                     ])\n",
    "scores = cross_validation.cross_val_score(text_clf, X, y)\n",
    "print(scores, np.mean(scores))"
   ]
  },
  {
   "cell_type": "code",
   "execution_count": null,
   "metadata": {
    "collapsed": true
   },
   "outputs": [],
   "source": [
    "#save output from CountVectorizer\n",
    "#do a test prediction\n",
    "\n",
    "print(np.mean(scores))"
   ]
  },
  {
   "cell_type": "markdown",
   "metadata": {},
   "source": [
    "## Task 2: Author Gender Classification\n",
    "\n",
    "Our next task will be to classify text based on the author's gender. We can find this under the 'htrc_gender' attribute found in each volume's metadata.\n",
    "\n",
    "We will create the training set using the existing volumes we have already seen in the previous example by searching the metadata fields for gender."
   ]
  },
  {
   "cell_type": "code",
   "execution_count": null,
   "metadata": {
    "collapsed": false
   },
   "outputs": [
    {
     "name": "stdout",
     "output_type": "stream",
     "text": [
      "0 0\n",
      "0 0\n",
      "0 0\n",
      "1 0\n",
      "2 0\n",
      "2 0\n",
      "3 0\n",
      "4 0\n",
      "5 0\n",
      "5 0\n",
      "6 0\n",
      "6 0\n",
      "7 0\n",
      "7 1\n",
      "8 1\n",
      "9 1\n",
      "10 1\n",
      "10 1\n",
      "10 1\n",
      "10 1\n",
      "10 1\n",
      "10 1\n",
      "10 1\n",
      "10 1\n",
      "10 1\n",
      "10 1\n",
      "10 1\n",
      "10 1\n",
      "10 1\n",
      "10 1\n",
      "10 1\n",
      "10 1\n",
      "10 1\n",
      "10 1\n",
      "10 1\n",
      "10 1\n",
      "10 1\n",
      "10 1\n",
      "10 1\n",
      "10 1\n",
      "10 1\n",
      "10 1\n",
      "10 1\n",
      "10 1\n",
      "10 1\n",
      "10 1\n",
      "10 1\n",
      "10 1\n",
      "10 1\n",
      "10 1\n",
      "10 1\n",
      "10 1\n",
      "10 1\n",
      "10 1\n",
      "10 1\n",
      "10 1\n",
      "10 1\n",
      "10 1\n",
      "10 1\n",
      "10 1\n",
      "10 1\n",
      "10 1\n",
      "10 1\n",
      "10 1\n",
      "10 1\n",
      "10 1\n",
      "10 1\n",
      "10 1\n",
      "10 2\n",
      "10 2\n",
      "10 2\n",
      "10 2\n",
      "10 2\n",
      "10 2\n",
      "10 2\n",
      "10 3\n",
      "10 3\n",
      "10 3\n",
      "10 3\n",
      "10 3\n",
      "10 3\n",
      "10 3\n",
      "10 3\n",
      "10 3\n",
      "10 3\n",
      "10 3\n",
      "10 3\n",
      "10 3\n",
      "10 3\n",
      "10 3\n",
      "10 3\n",
      "10 3\n",
      "10 3\n",
      "10 3\n",
      "10 3\n",
      "10 3\n",
      "10 3\n",
      "10 3\n",
      "10 3\n",
      "10 3\n",
      "10 3\n",
      "10 3\n",
      "10 3\n",
      "10 3\n",
      "10 3\n",
      "10 3\n",
      "10 3\n",
      "10 3\n",
      "10 3\n",
      "10 3\n",
      "10 3\n",
      "10 3\n",
      "10 3\n",
      "10 3\n",
      "10 3\n",
      "10 3\n",
      "10 3\n",
      "10 3\n",
      "10 3\n",
      "10 3\n",
      "10 3\n",
      "10 3\n",
      "10 3\n",
      "10 3\n",
      "10 3\n",
      "10 3\n",
      "10 3\n",
      "10 3\n",
      "10 3\n",
      "10 3\n",
      "10 3\n",
      "10 3\n",
      "10 3\n",
      "10 3\n",
      "10 3\n",
      "10 3\n",
      "10 3\n",
      "10 3\n",
      "10 3\n",
      "10 3\n",
      "10 3\n",
      "10 3\n",
      "10 3\n",
      "10 3\n",
      "10 3\n",
      "10 3\n",
      "10 3\n",
      "10 3\n",
      "10 3\n",
      "10 3\n",
      "10 3\n",
      "10 3\n",
      "10 3\n",
      "10 3\n",
      "10 3\n",
      "10 3\n",
      "10 3\n",
      "10 3\n",
      "10 3\n",
      "10 3\n",
      "10 3\n",
      "10 3\n",
      "10 4\n",
      "10 4\n",
      "10 4\n",
      "10 4\n",
      "10 4\n",
      "10 4\n",
      "10 4\n",
      "10 4\n",
      "10 4\n",
      "10 4\n",
      "10 4\n",
      "10 4\n",
      "10 4\n",
      "10 4\n",
      "10 4\n",
      "10 4\n",
      "10 4\n",
      "10 4\n",
      "10 4\n",
      "10 4\n",
      "10 4\n",
      "10 4\n",
      "10 4\n",
      "10 4\n",
      "10 4\n",
      "10 4\n",
      "10 4\n",
      "10 4\n",
      "10 4\n",
      "10 4\n",
      "10 4\n",
      "10 4\n",
      "10 4\n",
      "10 4\n",
      "10 4\n",
      "10 4\n",
      "10 4\n",
      "10 4\n",
      "10 4\n",
      "10 4\n",
      "10 4\n",
      "10 4\n",
      "10 4\n",
      "10 4\n",
      "10 4\n",
      "10 4\n",
      "10 4\n",
      "10 4\n",
      "10 4\n",
      "10 4\n",
      "10 4\n",
      "10 4\n",
      "10 4\n",
      "10 4\n",
      "10 4\n",
      "10 4\n",
      "10 4\n",
      "10 4\n",
      "10 4\n",
      "10 4\n",
      "10 4\n",
      "10 4\n",
      "10 4\n",
      "10 4\n",
      "10 4\n",
      "10 4\n",
      "10 4\n",
      "10 4\n",
      "10 4\n",
      "10 4\n",
      "10 4\n",
      "10 4\n",
      "10 4\n",
      "10 4\n",
      "10 4\n",
      "10 4\n",
      "10 4\n",
      "10 4\n",
      "10 4\n",
      "10 4\n",
      "10 4\n",
      "10 4\n",
      "10 4\n",
      "10 4\n",
      "10 4\n",
      "10 4\n",
      "10 4\n",
      "10 4\n",
      "10 4\n",
      "10 4\n",
      "10 4\n",
      "10 4\n",
      "10 4\n",
      "10 4\n",
      "10 4\n",
      "10 4\n",
      "10 4\n",
      "10 4\n"
     ]
    }
   ],
   "source": [
    "X2 = []\n",
    "y2 = []\n",
    "\n",
    "if not os.path.exists('female_texts'):\n",
    "    os.mkdir('female_texts')\n",
    "\n",
    "if not os.path.exists('male_texts'):\n",
    "    os.mkdir('male_texts')\n",
    "\n",
    "subjects = [history, poetry, scifi]\n",
    "male = 0\n",
    "female = 0\n",
    "for subject in subjects:\n",
    "    for vol in subject.volumes():\n",
    "        if male == 10 and female == 10:\n",
    "            break\n",
    "        try:\n",
    "            if vol.metadata['htrc_gender'][0] == 'male':\n",
    "                if male < 10:\n",
    "                    X.append(getTokenString(vol))\n",
    "                    y.append(0)\n",
    "                    male += 1\n",
    "            else:\n",
    "                if female < 10:\n",
    "                    X.append(getTokenString(vol))\n",
    "                    y.append(1)\n",
    "                    female += 1\n",
    "        except:\n",
    "            pass\n",
    "    if male == 10 and female == 10:\n",
    "        break\n"
   ]
  },
  {
   "cell_type": "code",
   "execution_count": null,
   "metadata": {
    "collapsed": true
   },
   "outputs": [],
   "source": [
    "text_clf = Pipeline([('vect', CountVectorizer(ngram_range=(1, 2))),\n",
    "                    ('tfidf', TfidfTransformer()),\n",
    "                    ('clf', LinearSVC(random_state=0))\n",
    "                     ])\n",
    "scores = cross_validation.cross_val_score(text_clf, X2, y2)\n",
    "print(scores, np.mean(scores))"
   ]
  }
 ],
 "metadata": {
  "anaconda-cloud": {},
  "kernelspec": {
   "display_name": "Python [Root]",
   "language": "python",
   "name": "Python [Root]"
  },
  "language_info": {
   "codemirror_mode": {
    "name": "ipython",
    "version": 3
   },
   "file_extension": ".py",
   "mimetype": "text/x-python",
   "name": "python",
   "nbconvert_exporter": "python",
   "pygments_lexer": "ipython3",
   "version": "3.5.2"
  }
 },
 "nbformat": 4,
 "nbformat_minor": 0
}
