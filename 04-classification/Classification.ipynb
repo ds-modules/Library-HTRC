{
 "cells": [
  {
   "cell_type": "markdown",
   "metadata": {},
   "source": [
    "## Classification\n",
    "\n",
    "This notebook demonstrates some of the classification tasks that can be accomplished using data retrieved from the HTRC API.\n",
    "\n",
    "We will be using the Scikit Learn library to tackle these classification problems. Install the library using pip:\n",
    "```\n",
    "   pip install sklearn\n",
    "```\n",
    "\n",
    "For these examples, we will be gathering data using the advance search from the Hathi Trust library. To create your training set, determine a search query that will become your labels. Once you search, add the search results to a collection named after your label.\n",
    "\n",
    "Once you have completed adding to your collection, go to \"My Collections\" under ____. There you will find a button called \"Download Metadata\".\n",
    "\n",
    "Download the JSON file associated with your collection and place it in the local directory that you are working in."
   ]
  },
  {
   "cell_type": "code",
   "execution_count": 1,
   "metadata": {
    "collapsed": true
   },
   "outputs": [],
   "source": [
    "import json\n",
    "import os\n",
    "\n",
    "jsonFiles = [file for file in os.listdir('.') if file.find('json') != -1]\n",
    "\n",
    "txts = []\n",
    "for file in jsonFiles:\n",
    "    with open(file) as f:\n",
    "        data = json.load(f)\n",
    "        \n",
    "    texts = data['gathers']\n",
    "    ids = [text['htitem_id'] for text in texts]\n",
    "    \n",
    "    filename = data['title'] + '.txt'\n",
    "    txts.append(filename)\n",
    "    \n",
    "    #write each id into txt file\n",
    "    with open(filename, 'w') as f:\n",
    "        for textid in ids:\n",
    "            f.write(textid + '\\n')"
   ]
  },
  {
   "cell_type": "markdown",
   "metadata": {},
   "source": [
    "Once this step is complete, you can follow the instructions in the Setup notebook to load the data as needed."
   ]
  },
  {
   "cell_type": "markdown",
   "metadata": {},
   "source": [
    "## Task 1: Genre Classification\n",
    "\n",
    "In this example, we'll be classifying texts into 3 different genres: Poetry, History, and Science Fiction. JSON files containing the metadata for 500 texts in each genre have been included."
   ]
  },
  {
   "cell_type": "code",
   "execution_count": 11,
   "metadata": {
    "collapsed": false
   },
   "outputs": [
    {
     "name": "stdout",
     "output_type": "stream",
     "text": [
      "Path extraction complete\n"
     ]
    }
   ],
   "source": [
    "from htrc_features import FeatureReader\n",
    "import os\n",
    "\n",
    "history_output = !htid2rsync --f history.txt | rsync -azv --files-from=- data.sharc.hathitrust.org::features/ history/\n",
    "\n",
    "folder = 'history'\n",
    "suffix = '.json.bz2'\n",
    "filePaths = [path for path in history_output if path.endswith(suffix)]\n",
    "history_paths = [os.path.join(folder, path) for path in filePaths]\n",
    "\n",
    "poetry_output = !htid2rsync --f poetry.txt | rsync -azv --files-from=- data.sharc.hathitrust.org::features/ poetry/\n",
    "\n",
    "folder = 'poetry'\n",
    "suffix = '.json.bz2'\n",
    "filePaths = [path for path in poetry_output if path.endswith(suffix)]\n",
    "poetry_paths = [os.path.join(folder, path) for path in filePaths]\n",
    "\n",
    "scifi_output = !htid2rsync --f scifi.txt | rsync -azv --files-from=- data.sharc.hathitrust.org::features/ scifi/\n",
    "\n",
    "folder = 'scifi'\n",
    "suffix = '.json.bz2'\n",
    "filePaths = [path for path in scifi_output if path.endswith(suffix)]\n",
    "scifi_paths = [os.path.join(folder, path) for path in filePaths]\n",
    "\n",
    "print(\"Path extraction complete\")"
   ]
  },
  {
   "cell_type": "code",
   "execution_count": 13,
   "metadata": {
    "collapsed": false
   },
   "outputs": [
    {
     "data": {
      "text/plain": [
       "334"
      ]
     },
     "execution_count": 13,
     "metadata": {},
     "output_type": "execute_result"
    }
   ],
   "source": [
    "len(scifi_paths)"
   ]
  },
  {
   "cell_type": "code",
   "execution_count": null,
   "metadata": {
    "collapsed": true
   },
   "outputs": [],
   "source": []
  }
 ],
 "metadata": {
  "kernelspec": {
   "display_name": "Python [Root]",
   "language": "python",
   "name": "Python [Root]"
  },
  "language_info": {
   "codemirror_mode": {
    "name": "ipython",
    "version": 3
   },
   "file_extension": ".py",
   "mimetype": "text/x-python",
   "name": "python",
   "nbconvert_exporter": "python",
   "pygments_lexer": "ipython3",
   "version": "3.5.2"
  }
 },
 "nbformat": 4,
 "nbformat_minor": 0
}
